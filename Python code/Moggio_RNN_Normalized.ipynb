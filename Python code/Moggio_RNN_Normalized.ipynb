{
  "nbformat": 4,
  "nbformat_minor": 0,
  "metadata": {
    "colab": {
      "name": " Moggio RNN Normalized.ipynb",
      "provenance": [],
      "mount_file_id": "1VmzYD_Pa6IQ38HzmFpXcRbeJgs3MpNGg",
      "authorship_tag": "ABX9TyMrsCvQCt5gKzXhqPMV4VsM"
    },
    "kernelspec": {
      "display_name": "Python 3",
      "name": "python3"
    },
    "language_info": {
      "name": "python"
    }
  },
  "cells": [
    {
      "cell_type": "code",
      "metadata": {
        "id": "50h6XyhAz59c"
      },
      "source": [
        "from math import sqrt\n",
        "from numpy import concatenate\n",
        "from matplotlib import pyplot\n",
        "from pandas import read_csv\n",
        "from pandas import DataFrame\n",
        "from pandas import concat\n",
        "from sklearn.preprocessing import MinMaxScaler\n",
        "from sklearn.preprocessing import LabelEncoder\n",
        "from sklearn.metrics import mean_squared_error\n",
        "from tensorflow.keras.models import Sequential\n",
        "from tensorflow.keras.layers import Dense\n",
        "from tensorflow.keras.layers import LSTM\n",
        "from tensorflow.keras.callbacks import EarlyStopping\n",
        "import tensorflow.keras as keras"
      ],
      "execution_count": null,
      "outputs": []
    },
    {
      "cell_type": "code",
      "metadata": {
        "colab": {
          "base_uri": "https://localhost:8080/",
          "height": 348
        },
        "id": "eA2CKbjH0LRW",
        "outputId": "aa1b69c9-d136-467b-e6cb-1e2beb7fc11d"
      },
      "source": [
        "table = read_csv('/content/drive/MyDrive/Thesis/csvs/NNdata.csv')\n",
        "table.head()"
      ],
      "execution_count": null,
      "outputs": [
        {
          "output_type": "execute_result",
          "data": {
            "text/html": [
              "<div>\n",
              "<style scoped>\n",
              "    .dataframe tbody tr th:only-of-type {\n",
              "        vertical-align: middle;\n",
              "    }\n",
              "\n",
              "    .dataframe tbody tr th {\n",
              "        vertical-align: top;\n",
              "    }\n",
              "\n",
              "    .dataframe thead th {\n",
              "        text-align: right;\n",
              "    }\n",
              "</style>\n",
              "<table border=\"1\" class=\"dataframe\">\n",
              "  <thead>\n",
              "    <tr style=\"text-align: right;\">\n",
              "      <th></th>\n",
              "      <th>Date</th>\n",
              "      <th>IDStation</th>\n",
              "      <th>NameStation</th>\n",
              "      <th>Ammonia</th>\n",
              "      <th>Arsenic</th>\n",
              "      <th>Benzene</th>\n",
              "      <th>Benzo_a_pyrene</th>\n",
              "      <th>Cadmium</th>\n",
              "      <th>CO</th>\n",
              "      <th>Lead</th>\n",
              "      <th>Nikel</th>\n",
              "      <th>NO</th>\n",
              "      <th>NO2</th>\n",
              "      <th>NOx</th>\n",
              "      <th>Ozone</th>\n",
              "      <th>PM10</th>\n",
              "      <th>PM25</th>\n",
              "      <th>Sulfur_dioxide</th>\n",
              "      <th>IDStation.1</th>\n",
              "      <th>reg_Y_nn1_ID</th>\n",
              "      <th>Date.1</th>\n",
              "      <th>IDStation.2</th>\n",
              "      <th>NameStation.1</th>\n",
              "      <th>Wind_speed</th>\n",
              "      <th>Wind_direction</th>\n",
              "      <th>Temperature</th>\n",
              "      <th>Relative_humidity</th>\n",
              "      <th>Global_radiation</th>\n",
              "      <th>Wind_speed_max</th>\n",
              "      <th>Wind_direction_max</th>\n",
              "      <th>Rainfall</th>\n",
              "    </tr>\n",
              "  </thead>\n",
              "  <tbody>\n",
              "    <tr>\n",
              "      <th>0</th>\n",
              "      <td>2018-01-01T00:00:00Z</td>\n",
              "      <td>677</td>\n",
              "      <td>Cremona Via Fatebenefratelli</td>\n",
              "      <td>6.2</td>\n",
              "      <td>NaN</td>\n",
              "      <td>NaN</td>\n",
              "      <td>NaN</td>\n",
              "      <td>NaN</td>\n",
              "      <td>0.508333</td>\n",
              "      <td>NaN</td>\n",
              "      <td>NaN</td>\n",
              "      <td>NaN</td>\n",
              "      <td>36.175000</td>\n",
              "      <td>63.570833</td>\n",
              "      <td>5.225000</td>\n",
              "      <td>NaN</td>\n",
              "      <td>45.0</td>\n",
              "      <td>1.829167</td>\n",
              "      <td>677</td>\n",
              "      <td>677</td>\n",
              "      <td>2018-01-01T00:00:00Z</td>\n",
              "      <td>677</td>\n",
              "      <td>Cremona Via Fatebenefratelli</td>\n",
              "      <td>0.483454</td>\n",
              "      <td>314.0</td>\n",
              "      <td>2.615278</td>\n",
              "      <td>93.738194</td>\n",
              "      <td>21.268056</td>\n",
              "      <td>2.133333</td>\n",
              "      <td>NaN</td>\n",
              "      <td>7.2</td>\n",
              "    </tr>\n",
              "    <tr>\n",
              "      <th>1</th>\n",
              "      <td>2018-01-01T00:00:00Z</td>\n",
              "      <td>681</td>\n",
              "      <td>Moggio</td>\n",
              "      <td>1.4</td>\n",
              "      <td>NaN</td>\n",
              "      <td>NaN</td>\n",
              "      <td>NaN</td>\n",
              "      <td>NaN</td>\n",
              "      <td>NaN</td>\n",
              "      <td>NaN</td>\n",
              "      <td>NaN</td>\n",
              "      <td>0.341667</td>\n",
              "      <td>3.308333</td>\n",
              "      <td>5.075000</td>\n",
              "      <td>66.100000</td>\n",
              "      <td>5.0</td>\n",
              "      <td>4.0</td>\n",
              "      <td>NaN</td>\n",
              "      <td>681</td>\n",
              "      <td>111</td>\n",
              "      <td>2018-01-01T00:00:00Z</td>\n",
              "      <td>111</td>\n",
              "      <td>Cassina Valsassina Moggio</td>\n",
              "      <td>0.300970</td>\n",
              "      <td>65.0</td>\n",
              "      <td>2.095833</td>\n",
              "      <td>74.055556</td>\n",
              "      <td>60.152778</td>\n",
              "      <td>1.939583</td>\n",
              "      <td>144.0</td>\n",
              "      <td>2.4</td>\n",
              "    </tr>\n",
              "    <tr>\n",
              "      <th>2</th>\n",
              "      <td>2018-01-01T00:00:00Z</td>\n",
              "      <td>703</td>\n",
              "      <td>Schivenoglia</td>\n",
              "      <td>NaN</td>\n",
              "      <td>NaN</td>\n",
              "      <td>1.0</td>\n",
              "      <td>NaN</td>\n",
              "      <td>NaN</td>\n",
              "      <td>1.159091</td>\n",
              "      <td>NaN</td>\n",
              "      <td>NaN</td>\n",
              "      <td>NaN</td>\n",
              "      <td>25.572727</td>\n",
              "      <td>35.850000</td>\n",
              "      <td>9.281818</td>\n",
              "      <td>44.0</td>\n",
              "      <td>43.0</td>\n",
              "      <td>4.813636</td>\n",
              "      <td>703</td>\n",
              "      <td>671</td>\n",
              "      <td>2018-01-01T00:00:00Z</td>\n",
              "      <td>671</td>\n",
              "      <td>Mantova Tridolino</td>\n",
              "      <td>1.540787</td>\n",
              "      <td>288.0</td>\n",
              "      <td>2.761806</td>\n",
              "      <td>99.475694</td>\n",
              "      <td>14.163194</td>\n",
              "      <td>3.524306</td>\n",
              "      <td>NaN</td>\n",
              "      <td>5.8</td>\n",
              "    </tr>\n",
              "    <tr>\n",
              "      <th>3</th>\n",
              "      <td>2018-01-02T00:00:00Z</td>\n",
              "      <td>677</td>\n",
              "      <td>Cremona Via Fatebenefratelli</td>\n",
              "      <td>1.8</td>\n",
              "      <td>NaN</td>\n",
              "      <td>NaN</td>\n",
              "      <td>NaN</td>\n",
              "      <td>NaN</td>\n",
              "      <td>0.375000</td>\n",
              "      <td>NaN</td>\n",
              "      <td>NaN</td>\n",
              "      <td>NaN</td>\n",
              "      <td>35.925000</td>\n",
              "      <td>47.750000</td>\n",
              "      <td>18.441667</td>\n",
              "      <td>32.0</td>\n",
              "      <td>27.0</td>\n",
              "      <td>1.341667</td>\n",
              "      <td>677</td>\n",
              "      <td>677</td>\n",
              "      <td>2018-01-02T00:00:00Z</td>\n",
              "      <td>677</td>\n",
              "      <td>Cremona Via Fatebenefratelli</td>\n",
              "      <td>1.788399</td>\n",
              "      <td>284.0</td>\n",
              "      <td>5.974306</td>\n",
              "      <td>70.609722</td>\n",
              "      <td>72.734028</td>\n",
              "      <td>4.377083</td>\n",
              "      <td>NaN</td>\n",
              "      <td>0.0</td>\n",
              "    </tr>\n",
              "    <tr>\n",
              "      <th>4</th>\n",
              "      <td>2018-01-02T00:00:00Z</td>\n",
              "      <td>681</td>\n",
              "      <td>Moggio</td>\n",
              "      <td>1.0</td>\n",
              "      <td>NaN</td>\n",
              "      <td>NaN</td>\n",
              "      <td>NaN</td>\n",
              "      <td>NaN</td>\n",
              "      <td>NaN</td>\n",
              "      <td>NaN</td>\n",
              "      <td>NaN</td>\n",
              "      <td>0.000000</td>\n",
              "      <td>1.441667</td>\n",
              "      <td>1.283333</td>\n",
              "      <td>85.891667</td>\n",
              "      <td>3.0</td>\n",
              "      <td>2.0</td>\n",
              "      <td>NaN</td>\n",
              "      <td>681</td>\n",
              "      <td>111</td>\n",
              "      <td>2018-01-02T00:00:00Z</td>\n",
              "      <td>111</td>\n",
              "      <td>Cassina Valsassina Moggio</td>\n",
              "      <td>0.613183</td>\n",
              "      <td>9.0</td>\n",
              "      <td>1.670139</td>\n",
              "      <td>39.194444</td>\n",
              "      <td>68.250000</td>\n",
              "      <td>3.075000</td>\n",
              "      <td>213.0</td>\n",
              "      <td>0.0</td>\n",
              "    </tr>\n",
              "  </tbody>\n",
              "</table>\n",
              "</div>"
            ],
            "text/plain": [
              "                   Date  IDStation  ... Wind_direction_max  Rainfall\n",
              "0  2018-01-01T00:00:00Z        677  ...                NaN       7.2\n",
              "1  2018-01-01T00:00:00Z        681  ...              144.0       2.4\n",
              "2  2018-01-01T00:00:00Z        703  ...                NaN       5.8\n",
              "3  2018-01-02T00:00:00Z        677  ...                NaN       0.0\n",
              "4  2018-01-02T00:00:00Z        681  ...              213.0       0.0\n",
              "\n",
              "[5 rows x 31 columns]"
            ]
          },
          "metadata": {},
          "execution_count": 7
        }
      ]
    },
    {
      "cell_type": "code",
      "metadata": {
        "colab": {
          "base_uri": "https://localhost:8080/",
          "height": 206
        },
        "id": "ApNM1Dpm0ai-",
        "outputId": "c49a4c1b-8f60-426f-cfe6-87e294c48d03"
      },
      "source": [
        "Moggio = table.loc[table.loc[:,\"NameStation\"]==\"Moggio\",:]\n",
        "Moggio = Moggio.loc[:,[\"Date\",\"Ammonia\",\"PM10\",\"PM25\",\"Wind_speed\",\"Wind_direction\",\"Temperature\",\"Rainfall\"]]\n",
        "Moggio = Moggio.dropna(how=\"any\")\n",
        "Moggio = Moggio.reset_index()\n",
        "Moggio = Moggio.iloc[:730,:] # we train not using 2020, for now\n",
        "Moggio.head()\n"
      ],
      "execution_count": null,
      "outputs": [
        {
          "output_type": "execute_result",
          "data": {
            "text/html": [
              "<div>\n",
              "<style scoped>\n",
              "    .dataframe tbody tr th:only-of-type {\n",
              "        vertical-align: middle;\n",
              "    }\n",
              "\n",
              "    .dataframe tbody tr th {\n",
              "        vertical-align: top;\n",
              "    }\n",
              "\n",
              "    .dataframe thead th {\n",
              "        text-align: right;\n",
              "    }\n",
              "</style>\n",
              "<table border=\"1\" class=\"dataframe\">\n",
              "  <thead>\n",
              "    <tr style=\"text-align: right;\">\n",
              "      <th></th>\n",
              "      <th>index</th>\n",
              "      <th>Date</th>\n",
              "      <th>Ammonia</th>\n",
              "      <th>PM10</th>\n",
              "      <th>PM25</th>\n",
              "      <th>Wind_speed</th>\n",
              "      <th>Wind_direction</th>\n",
              "      <th>Temperature</th>\n",
              "      <th>Rainfall</th>\n",
              "    </tr>\n",
              "  </thead>\n",
              "  <tbody>\n",
              "    <tr>\n",
              "      <th>0</th>\n",
              "      <td>1</td>\n",
              "      <td>2018-01-01T00:00:00Z</td>\n",
              "      <td>1.4</td>\n",
              "      <td>5.0</td>\n",
              "      <td>4.0</td>\n",
              "      <td>0.300970</td>\n",
              "      <td>65.0</td>\n",
              "      <td>2.095833</td>\n",
              "      <td>2.4</td>\n",
              "    </tr>\n",
              "    <tr>\n",
              "      <th>1</th>\n",
              "      <td>4</td>\n",
              "      <td>2018-01-02T00:00:00Z</td>\n",
              "      <td>1.0</td>\n",
              "      <td>3.0</td>\n",
              "      <td>2.0</td>\n",
              "      <td>0.613183</td>\n",
              "      <td>9.0</td>\n",
              "      <td>1.670139</td>\n",
              "      <td>0.0</td>\n",
              "    </tr>\n",
              "    <tr>\n",
              "      <th>2</th>\n",
              "      <td>7</td>\n",
              "      <td>2018-01-03T00:00:00Z</td>\n",
              "      <td>1.0</td>\n",
              "      <td>5.0</td>\n",
              "      <td>5.0</td>\n",
              "      <td>0.539172</td>\n",
              "      <td>28.0</td>\n",
              "      <td>1.972222</td>\n",
              "      <td>0.6</td>\n",
              "    </tr>\n",
              "    <tr>\n",
              "      <th>3</th>\n",
              "      <td>10</td>\n",
              "      <td>2018-01-04T00:00:00Z</td>\n",
              "      <td>1.4</td>\n",
              "      <td>6.0</td>\n",
              "      <td>3.0</td>\n",
              "      <td>0.211450</td>\n",
              "      <td>21.0</td>\n",
              "      <td>3.081250</td>\n",
              "      <td>0.0</td>\n",
              "    </tr>\n",
              "    <tr>\n",
              "      <th>4</th>\n",
              "      <td>13</td>\n",
              "      <td>2018-01-05T00:00:00Z</td>\n",
              "      <td>1.7</td>\n",
              "      <td>7.0</td>\n",
              "      <td>8.0</td>\n",
              "      <td>0.116953</td>\n",
              "      <td>87.0</td>\n",
              "      <td>3.653472</td>\n",
              "      <td>0.0</td>\n",
              "    </tr>\n",
              "  </tbody>\n",
              "</table>\n",
              "</div>"
            ],
            "text/plain": [
              "   index                  Date  Ammonia  ...  Wind_direction  Temperature  Rainfall\n",
              "0      1  2018-01-01T00:00:00Z      1.4  ...            65.0     2.095833       2.4\n",
              "1      4  2018-01-02T00:00:00Z      1.0  ...             9.0     1.670139       0.0\n",
              "2      7  2018-01-03T00:00:00Z      1.0  ...            28.0     1.972222       0.6\n",
              "3     10  2018-01-04T00:00:00Z      1.4  ...            21.0     3.081250       0.0\n",
              "4     13  2018-01-05T00:00:00Z      1.7  ...            87.0     3.653472       0.0\n",
              "\n",
              "[5 rows x 9 columns]"
            ]
          },
          "metadata": {},
          "execution_count": 8
        }
      ]
    },
    {
      "cell_type": "markdown",
      "metadata": {
        "id": "6wXsLnh_1JbF"
      },
      "source": [
        "##Convert series to supervised learning"
      ]
    },
    {
      "cell_type": "markdown",
      "metadata": {
        "id": "24Av99KQ1UEW"
      },
      "source": [
        "###Conversion Function"
      ]
    },
    {
      "cell_type": "code",
      "metadata": {
        "id": "zb-KlY4Q0amR"
      },
      "source": [
        "from pandas import DataFrame\n",
        "from pandas import concat\n",
        " \n",
        "def series_to_supervised(data, n_in=1, n_out=1, dropnan=True):\n",
        "\t\"\"\"\n",
        "\tFrame a time series as a supervised learning dataset.\n",
        "\tArguments:\n",
        "\t\tdata: Sequence of observations as a list or NumPy array.\n",
        "\t\tn_in: Number of lag observations as input (X).\n",
        "\t\tn_out: Number of observations as output (y).\n",
        "\t\tdropnan: Boolean whether or not to drop rows with NaN values.\n",
        "\tReturns:\n",
        "\t\tPandas DataFrame of series framed for supervised learning.\n",
        "\t\"\"\"\n",
        "\tn_vars = 1 if type(data) is list else data.shape[1]\n",
        "\tdf = DataFrame(data)\n",
        "\tcols, names = list(), list()\n",
        "\t# input sequence (t-n, ... t-1)\n",
        "\tfor i in range(n_in, 0, -1):\n",
        "\t\tcols.append(df.shift(i))\n",
        "\t\tnames += [('var%d(t-%d)' % (j+1, i)) for j in range(n_vars)]\n",
        "\t# forecast sequence (t, t+1, ... t+n)\n",
        "\tfor i in range(0, n_out):\n",
        "\t\tcols.append(df.shift(-i))\n",
        "\t\tif i == 0:\n",
        "\t\t\tnames += [('var%d(t)' % (j+1)) for j in range(n_vars)]\n",
        "\t\telse:\n",
        "\t\t\tnames += [('var%d(t+%d)' % (j+1, i)) for j in range(n_vars)]\n",
        "\t# put it all together\n",
        "\tagg = concat(cols, axis=1)\n",
        "\tagg.columns = names\n",
        "\t# drop rows with NaN values\n",
        "\tif dropnan:\n",
        "\t\tagg.dropna(inplace=True)\n",
        "\treturn agg"
      ],
      "execution_count": null,
      "outputs": []
    },
    {
      "cell_type": "markdown",
      "metadata": {
        "id": "q0zHE-3h1vGz"
      },
      "source": [
        "### Conversion of Moggio"
      ]
    },
    {
      "cell_type": "code",
      "metadata": {
        "colab": {
          "base_uri": "https://localhost:8080/",
          "height": 226
        },
        "id": "IwL5Zn9j11Ce",
        "outputId": "40aa81ee-4d27-457c-e4bf-2626037d5961"
      },
      "source": [
        "values = Moggio.iloc[:,2:].values\n",
        "# ensure all data is float\n",
        "values = values.astype('float32')\n",
        "# normalize features\n",
        "scaler = MinMaxScaler(feature_range=(0, 1))\n",
        "scaled = scaler.fit_transform(values)\n",
        "# frame as supervised learning\n",
        "n_days = 5\n",
        "reframed = series_to_supervised(scaled, n_days, 1) # info of the past 5 days to determine next (1) day\n",
        "# drop columns we don't want to predict (we therefore keep Ammonia)\n",
        "reframed.drop(reframed.columns[[36,37,38,39,40,41]], axis=1, inplace=True)\n",
        "\n",
        "reframed.head()"
      ],
      "execution_count": null,
      "outputs": [
        {
          "output_type": "execute_result",
          "data": {
            "text/html": [
              "<div>\n",
              "<style scoped>\n",
              "    .dataframe tbody tr th:only-of-type {\n",
              "        vertical-align: middle;\n",
              "    }\n",
              "\n",
              "    .dataframe tbody tr th {\n",
              "        vertical-align: top;\n",
              "    }\n",
              "\n",
              "    .dataframe thead th {\n",
              "        text-align: right;\n",
              "    }\n",
              "</style>\n",
              "<table border=\"1\" class=\"dataframe\">\n",
              "  <thead>\n",
              "    <tr style=\"text-align: right;\">\n",
              "      <th></th>\n",
              "      <th>var1(t-5)</th>\n",
              "      <th>var2(t-5)</th>\n",
              "      <th>var3(t-5)</th>\n",
              "      <th>var4(t-5)</th>\n",
              "      <th>var5(t-5)</th>\n",
              "      <th>var6(t-5)</th>\n",
              "      <th>var7(t-5)</th>\n",
              "      <th>var1(t-4)</th>\n",
              "      <th>var2(t-4)</th>\n",
              "      <th>var3(t-4)</th>\n",
              "      <th>var4(t-4)</th>\n",
              "      <th>var5(t-4)</th>\n",
              "      <th>var6(t-4)</th>\n",
              "      <th>var7(t-4)</th>\n",
              "      <th>var1(t-3)</th>\n",
              "      <th>var2(t-3)</th>\n",
              "      <th>var3(t-3)</th>\n",
              "      <th>var4(t-3)</th>\n",
              "      <th>var5(t-3)</th>\n",
              "      <th>var6(t-3)</th>\n",
              "      <th>var7(t-3)</th>\n",
              "      <th>var1(t-2)</th>\n",
              "      <th>var2(t-2)</th>\n",
              "      <th>var3(t-2)</th>\n",
              "      <th>var4(t-2)</th>\n",
              "      <th>var5(t-2)</th>\n",
              "      <th>var6(t-2)</th>\n",
              "      <th>var7(t-2)</th>\n",
              "      <th>var1(t-1)</th>\n",
              "      <th>var2(t-1)</th>\n",
              "      <th>var3(t-1)</th>\n",
              "      <th>var4(t-1)</th>\n",
              "      <th>var5(t-1)</th>\n",
              "      <th>var6(t-1)</th>\n",
              "      <th>var7(t-1)</th>\n",
              "      <th>var1(t)</th>\n",
              "    </tr>\n",
              "  </thead>\n",
              "  <tbody>\n",
              "    <tr>\n",
              "      <th>5</th>\n",
              "      <td>0.069307</td>\n",
              "      <td>0.081967</td>\n",
              "      <td>0.088889</td>\n",
              "      <td>0.107422</td>\n",
              "      <td>0.180556</td>\n",
              "      <td>0.349921</td>\n",
              "      <td>0.024540</td>\n",
              "      <td>0.049505</td>\n",
              "      <td>0.049180</td>\n",
              "      <td>0.044444</td>\n",
              "      <td>0.224783</td>\n",
              "      <td>0.025000</td>\n",
              "      <td>0.338791</td>\n",
              "      <td>0.000000</td>\n",
              "      <td>0.049505</td>\n",
              "      <td>0.081967</td>\n",
              "      <td>0.111111</td>\n",
              "      <td>0.196962</td>\n",
              "      <td>0.077778</td>\n",
              "      <td>0.346689</td>\n",
              "      <td>0.006135</td>\n",
              "      <td>0.069307</td>\n",
              "      <td>0.098361</td>\n",
              "      <td>0.066667</td>\n",
              "      <td>0.073772</td>\n",
              "      <td>0.058333</td>\n",
              "      <td>0.375686</td>\n",
              "      <td>0.000000</td>\n",
              "      <td>0.084158</td>\n",
              "      <td>0.114754</td>\n",
              "      <td>0.177778</td>\n",
              "      <td>0.038250</td>\n",
              "      <td>0.241667</td>\n",
              "      <td>0.390648</td>\n",
              "      <td>0.000000</td>\n",
              "      <td>0.094059</td>\n",
              "    </tr>\n",
              "    <tr>\n",
              "      <th>6</th>\n",
              "      <td>0.049505</td>\n",
              "      <td>0.049180</td>\n",
              "      <td>0.044444</td>\n",
              "      <td>0.224783</td>\n",
              "      <td>0.025000</td>\n",
              "      <td>0.338791</td>\n",
              "      <td>0.000000</td>\n",
              "      <td>0.049505</td>\n",
              "      <td>0.081967</td>\n",
              "      <td>0.111111</td>\n",
              "      <td>0.196962</td>\n",
              "      <td>0.077778</td>\n",
              "      <td>0.346689</td>\n",
              "      <td>0.006135</td>\n",
              "      <td>0.069307</td>\n",
              "      <td>0.098361</td>\n",
              "      <td>0.066667</td>\n",
              "      <td>0.073772</td>\n",
              "      <td>0.058333</td>\n",
              "      <td>0.375686</td>\n",
              "      <td>0.000000</td>\n",
              "      <td>0.084158</td>\n",
              "      <td>0.114754</td>\n",
              "      <td>0.177778</td>\n",
              "      <td>0.038250</td>\n",
              "      <td>0.241667</td>\n",
              "      <td>0.390648</td>\n",
              "      <td>0.000000</td>\n",
              "      <td>0.094059</td>\n",
              "      <td>0.098361</td>\n",
              "      <td>0.155556</td>\n",
              "      <td>0.476069</td>\n",
              "      <td>0.361111</td>\n",
              "      <td>0.403358</td>\n",
              "      <td>0.100204</td>\n",
              "      <td>0.094059</td>\n",
              "    </tr>\n",
              "    <tr>\n",
              "      <th>7</th>\n",
              "      <td>0.049505</td>\n",
              "      <td>0.081967</td>\n",
              "      <td>0.111111</td>\n",
              "      <td>0.196962</td>\n",
              "      <td>0.077778</td>\n",
              "      <td>0.346689</td>\n",
              "      <td>0.006135</td>\n",
              "      <td>0.069307</td>\n",
              "      <td>0.098361</td>\n",
              "      <td>0.066667</td>\n",
              "      <td>0.073772</td>\n",
              "      <td>0.058333</td>\n",
              "      <td>0.375686</td>\n",
              "      <td>0.000000</td>\n",
              "      <td>0.084158</td>\n",
              "      <td>0.114754</td>\n",
              "      <td>0.177778</td>\n",
              "      <td>0.038250</td>\n",
              "      <td>0.241667</td>\n",
              "      <td>0.390648</td>\n",
              "      <td>0.000000</td>\n",
              "      <td>0.094059</td>\n",
              "      <td>0.098361</td>\n",
              "      <td>0.155556</td>\n",
              "      <td>0.476069</td>\n",
              "      <td>0.361111</td>\n",
              "      <td>0.403358</td>\n",
              "      <td>0.100204</td>\n",
              "      <td>0.094059</td>\n",
              "      <td>0.163934</td>\n",
              "      <td>0.177778</td>\n",
              "      <td>0.765240</td>\n",
              "      <td>0.597222</td>\n",
              "      <td>0.433662</td>\n",
              "      <td>0.012270</td>\n",
              "      <td>0.084158</td>\n",
              "    </tr>\n",
              "    <tr>\n",
              "      <th>8</th>\n",
              "      <td>0.069307</td>\n",
              "      <td>0.098361</td>\n",
              "      <td>0.066667</td>\n",
              "      <td>0.073772</td>\n",
              "      <td>0.058333</td>\n",
              "      <td>0.375686</td>\n",
              "      <td>0.000000</td>\n",
              "      <td>0.084158</td>\n",
              "      <td>0.114754</td>\n",
              "      <td>0.177778</td>\n",
              "      <td>0.038250</td>\n",
              "      <td>0.241667</td>\n",
              "      <td>0.390648</td>\n",
              "      <td>0.000000</td>\n",
              "      <td>0.094059</td>\n",
              "      <td>0.098361</td>\n",
              "      <td>0.155556</td>\n",
              "      <td>0.476069</td>\n",
              "      <td>0.361111</td>\n",
              "      <td>0.403358</td>\n",
              "      <td>0.100204</td>\n",
              "      <td>0.094059</td>\n",
              "      <td>0.163934</td>\n",
              "      <td>0.177778</td>\n",
              "      <td>0.765240</td>\n",
              "      <td>0.597222</td>\n",
              "      <td>0.433662</td>\n",
              "      <td>0.012270</td>\n",
              "      <td>0.084158</td>\n",
              "      <td>0.180328</td>\n",
              "      <td>0.155556</td>\n",
              "      <td>0.927869</td>\n",
              "      <td>0.602778</td>\n",
              "      <td>0.459754</td>\n",
              "      <td>0.000000</td>\n",
              "      <td>0.084158</td>\n",
              "    </tr>\n",
              "    <tr>\n",
              "      <th>9</th>\n",
              "      <td>0.084158</td>\n",
              "      <td>0.114754</td>\n",
              "      <td>0.177778</td>\n",
              "      <td>0.038250</td>\n",
              "      <td>0.241667</td>\n",
              "      <td>0.390648</td>\n",
              "      <td>0.000000</td>\n",
              "      <td>0.094059</td>\n",
              "      <td>0.098361</td>\n",
              "      <td>0.155556</td>\n",
              "      <td>0.476069</td>\n",
              "      <td>0.361111</td>\n",
              "      <td>0.403358</td>\n",
              "      <td>0.100204</td>\n",
              "      <td>0.094059</td>\n",
              "      <td>0.163934</td>\n",
              "      <td>0.177778</td>\n",
              "      <td>0.765240</td>\n",
              "      <td>0.597222</td>\n",
              "      <td>0.433662</td>\n",
              "      <td>0.012270</td>\n",
              "      <td>0.084158</td>\n",
              "      <td>0.180328</td>\n",
              "      <td>0.155556</td>\n",
              "      <td>0.927869</td>\n",
              "      <td>0.602778</td>\n",
              "      <td>0.459754</td>\n",
              "      <td>0.000000</td>\n",
              "      <td>0.084158</td>\n",
              "      <td>0.245902</td>\n",
              "      <td>0.133333</td>\n",
              "      <td>0.596370</td>\n",
              "      <td>0.783333</td>\n",
              "      <td>0.391011</td>\n",
              "      <td>0.329243</td>\n",
              "      <td>0.074257</td>\n",
              "    </tr>\n",
              "  </tbody>\n",
              "</table>\n",
              "</div>"
            ],
            "text/plain": [
              "   var1(t-5)  var2(t-5)  var3(t-5)  ...  var6(t-1)  var7(t-1)   var1(t)\n",
              "5   0.069307   0.081967   0.088889  ...   0.390648   0.000000  0.094059\n",
              "6   0.049505   0.049180   0.044444  ...   0.403358   0.100204  0.094059\n",
              "7   0.049505   0.081967   0.111111  ...   0.433662   0.012270  0.084158\n",
              "8   0.069307   0.098361   0.066667  ...   0.459754   0.000000  0.084158\n",
              "9   0.084158   0.114754   0.177778  ...   0.391011   0.329243  0.074257\n",
              "\n",
              "[5 rows x 36 columns]"
            ]
          },
          "metadata": {},
          "execution_count": 10
        }
      ]
    },
    {
      "cell_type": "code",
      "metadata": {
        "colab": {
          "base_uri": "https://localhost:8080/"
        },
        "id": "b6Mx9MPBARpb",
        "outputId": "21d92a04-2b21-44c2-f5ac-289dc367b7bb"
      },
      "source": [
        "# split into train and test sets\n",
        "values = reframed.values\n",
        "n_features = 7 # number of variables, including the one to be predicted\n",
        "n_train_days = 365 # we train using only the first year\n",
        "train = values[:n_train_days, :]\n",
        "test = values[n_train_days:, :] # we test using all successive years \n",
        "# split into input and outputs\n",
        "n_obs = n_days * n_features\n",
        "train_X, train_y = train[:, :n_obs], train[:, -1]\n",
        "test_X, test_y = test[:, :n_obs], test[:, -1]\n",
        "print(train_X.shape, len(train_X), train_y.shape)\n",
        "# reshape input to be 3D [samples, timesteps, features]\n",
        "train_X = train_X.reshape((train_X.shape[0], n_days, n_features))\n",
        "test_X = test_X.reshape((test_X.shape[0], n_days, n_features))\n",
        "print(train_X.shape, train_y.shape, test_X.shape, test_y.shape)"
      ],
      "execution_count": null,
      "outputs": [
        {
          "output_type": "stream",
          "name": "stdout",
          "text": [
            "(365, 35) 365 (365,)\n",
            "(365, 5, 7) (365,) (360, 5, 7) (360,)\n"
          ]
        }
      ]
    },
    {
      "cell_type": "markdown",
      "metadata": {
        "id": "NKLpWbJH7Kmj"
      },
      "source": [
        "# Modeling and training"
      ]
    },
    {
      "cell_type": "code",
      "metadata": {
        "id": "khCRjG-TXI5j"
      },
      "source": [
        "class LNSimpleRNNCell(keras.layers.Layer):\n",
        "       def __init__(self, units, activation=\"tanh\", **kwargs):         \n",
        "         super().__init__(**kwargs)         \n",
        "         self.state_size = units         \n",
        "         self.output_size = units         \n",
        "         self.simple_rnn_cell = keras.layers.SimpleRNNCell(units,                                                          \n",
        "                                                           activation=None)         \n",
        "         self.layer_norm = keras.layers.LayerNormalization()        \n",
        "         self.activation = keras.activations.get(activation)     \n",
        "       def call(self, inputs, states):         \n",
        "         outputs, new_states = self.simple_rnn_cell(inputs, states)         \n",
        "         norm_outputs = self.activation(self.layer_norm(outputs))        \n",
        "         return norm_outputs, [norm_outputs]"
      ],
      "execution_count": null,
      "outputs": []
    },
    {
      "cell_type": "code",
      "metadata": {
        "id": "Ggc63fyoD9MG"
      },
      "source": [
        "# design network\n",
        "model = keras.models.Sequential([     \n",
        "                                 keras.layers.RNN(LNSimpleRNNCell(50), return_sequences=True, input_shape=[train_X.shape[1], train_X.shape[2]]),     \n",
        "                                 keras.layers.RNN(LNSimpleRNNCell(50), return_sequences=True),    \n",
        "                                 keras.layers.TimeDistributed(keras.layers.Dense(1)) ])\n",
        "model.compile(loss='mae', optimizer='adam')\n",
        "# fit network\n",
        "early_stopping = EarlyStopping(patience=10, restore_best_weights = True)\n",
        "history = model.fit(train_X, train_y, epochs=100, batch_size=72, validation_data=(test_X, test_y), verbose=2, shuffle=False, callbacks=early_stopping)\n",
        "# plot history\n",
        "pyplot.plot(history.history['loss'], label='train')\n",
        "pyplot.plot(history.history['val_loss'], label='test')\n",
        "pyplot.legend()\n",
        "pyplot.show()"
      ],
      "execution_count": null,
      "outputs": []
    },
    {
      "cell_type": "code",
      "metadata": {
        "id": "u9O2_XEOvzQk"
      },
      "source": [
        "# design network\n",
        "model = keras.models.Sequential([     \n",
        "                                 keras.layers.RNN(LNSimpleRNNCell(50), return_sequences=True, input_shape=[train_X.shape[1], train_X.shape[2]]),\n",
        "                                 keras.layers.LSTM(50, return_sequences=True),        \n",
        "                                 keras.layers.TimeDistributed(keras.layers.Dense(1)) ])\n",
        "model.compile(loss='mae', optimizer='adam')\n",
        "# fit network\n",
        "early_stopping = EarlyStopping(patience=10, restore_best_weights = True)\n",
        "history = model.fit(train_X, train_y, epochs=100, batch_size=72, validation_data=(test_X, test_y), verbose=2, shuffle=False, callbacks=early_stopping)\n",
        "# plot history\n",
        "pyplot.plot(history.history['loss'], label='train')\n",
        "pyplot.plot(history.history['val_loss'], label='test')\n",
        "pyplot.legend()\n",
        "pyplot.show()"
      ],
      "execution_count": null,
      "outputs": []
    },
    {
      "cell_type": "code",
      "metadata": {
        "colab": {
          "base_uri": "https://localhost:8080/"
        },
        "id": "eCTZps5lsBMY",
        "outputId": "208cf8d8-fec7-4974-b735-b0a1580fec16"
      },
      "source": [
        "!pip install tensorflow_addons\n",
        "import tensorflow_addons as tfa"
      ],
      "execution_count": null,
      "outputs": [
        {
          "output_type": "stream",
          "name": "stdout",
          "text": [
            "Requirement already satisfied: tensorflow_addons in /usr/local/lib/python3.7/dist-packages (0.15.0)\n",
            "Requirement already satisfied: typeguard>=2.7 in /usr/local/lib/python3.7/dist-packages (from tensorflow_addons) (2.7.1)\n"
          ]
        }
      ]
    },
    {
      "cell_type": "code",
      "metadata": {
        "colab": {
          "base_uri": "https://localhost:8080/",
          "height": 1000
        },
        "id": "FkONcAh3wLpA",
        "outputId": "279e1f43-358d-4e00-f6a8-35ad01e89796"
      },
      "source": [
        "# design network\n",
        "model = Sequential()\n",
        "model.add(RNN(tfa.rnn.LayerNormLSTMCell(50), return_sequences=True, input_shape=(train_X.shape[1], train_X.shape[2])))\n",
        "model.add(RNN(tfa.rnn.LayerNormLSTMCell(50), return_sequences=True))\n",
        "model.add(RNN(tfa.rnn.LayerNormLSTMCell(50), return_sequences=False))\n",
        "model.add(Dense(1))\n",
        "model.compile(loss='mse', optimizer='adam')\n",
        "# fit network\n",
        "early_stopping = EarlyStopping(patience=10, restore_best_weights = True)\n",
        "history = model.fit(train_X, train_y, epochs=1000, batch_size=72, validation_data=(test_X, test_y), verbose=2, shuffle=False, callbacks=early_stopping)\n",
        "# plot history\n",
        "pyplot.plot(history.history['loss'], label='train')\n",
        "pyplot.plot(history.history['val_loss'], label='test')\n",
        "pyplot.legend()\n",
        "pyplot.show()"
      ],
      "execution_count": null,
      "outputs": [
        {
          "output_type": "stream",
          "name": "stdout",
          "text": [
            "Epoch 1/1000\n",
            "6/6 - 11s - loss: 0.1264 - val_loss: 0.0837 - 11s/epoch - 2s/step\n",
            "Epoch 2/1000\n",
            "6/6 - 0s - loss: 0.0618 - val_loss: 0.0432 - 323ms/epoch - 54ms/step\n",
            "Epoch 3/1000\n",
            "6/6 - 0s - loss: 0.0237 - val_loss: 0.0380 - 331ms/epoch - 55ms/step\n",
            "Epoch 4/1000\n",
            "6/6 - 0s - loss: 0.0227 - val_loss: 0.0300 - 321ms/epoch - 53ms/step\n",
            "Epoch 5/1000\n",
            "6/6 - 0s - loss: 0.0157 - val_loss: 0.0287 - 320ms/epoch - 53ms/step\n",
            "Epoch 6/1000\n",
            "6/6 - 0s - loss: 0.0162 - val_loss: 0.0258 - 321ms/epoch - 53ms/step\n",
            "Epoch 7/1000\n",
            "6/6 - 0s - loss: 0.0149 - val_loss: 0.0248 - 339ms/epoch - 56ms/step\n",
            "Epoch 8/1000\n",
            "6/6 - 0s - loss: 0.0135 - val_loss: 0.0243 - 332ms/epoch - 55ms/step\n",
            "Epoch 9/1000\n",
            "6/6 - 0s - loss: 0.0133 - val_loss: 0.0240 - 322ms/epoch - 54ms/step\n",
            "Epoch 10/1000\n",
            "6/6 - 0s - loss: 0.0124 - val_loss: 0.0232 - 347ms/epoch - 58ms/step\n",
            "Epoch 11/1000\n",
            "6/6 - 0s - loss: 0.0118 - val_loss: 0.0233 - 325ms/epoch - 54ms/step\n",
            "Epoch 12/1000\n",
            "6/6 - 0s - loss: 0.0114 - val_loss: 0.0224 - 331ms/epoch - 55ms/step\n",
            "Epoch 13/1000\n",
            "6/6 - 0s - loss: 0.0106 - val_loss: 0.0226 - 333ms/epoch - 55ms/step\n",
            "Epoch 14/1000\n",
            "6/6 - 0s - loss: 0.0105 - val_loss: 0.0220 - 331ms/epoch - 55ms/step\n",
            "Epoch 15/1000\n",
            "6/6 - 0s - loss: 0.0098 - val_loss: 0.0213 - 333ms/epoch - 56ms/step\n",
            "Epoch 16/1000\n",
            "6/6 - 0s - loss: 0.0091 - val_loss: 0.0220 - 344ms/epoch - 57ms/step\n",
            "Epoch 17/1000\n",
            "6/6 - 0s - loss: 0.0092 - val_loss: 0.0225 - 324ms/epoch - 54ms/step\n",
            "Epoch 18/1000\n",
            "6/6 - 0s - loss: 0.0092 - val_loss: 0.0196 - 323ms/epoch - 54ms/step\n",
            "Epoch 19/1000\n",
            "6/6 - 0s - loss: 0.0081 - val_loss: 0.0202 - 337ms/epoch - 56ms/step\n",
            "Epoch 20/1000\n",
            "6/6 - 0s - loss: 0.0088 - val_loss: 0.0418 - 330ms/epoch - 55ms/step\n",
            "Epoch 21/1000\n",
            "6/6 - 0s - loss: 0.0221 - val_loss: 0.0193 - 343ms/epoch - 57ms/step\n",
            "Epoch 22/1000\n",
            "6/6 - 0s - loss: 0.0182 - val_loss: 0.0235 - 330ms/epoch - 55ms/step\n",
            "Epoch 23/1000\n",
            "6/6 - 0s - loss: 0.0229 - val_loss: 0.0410 - 326ms/epoch - 54ms/step\n",
            "Epoch 24/1000\n",
            "6/6 - 0s - loss: 0.0296 - val_loss: 0.0332 - 318ms/epoch - 53ms/step\n",
            "Epoch 25/1000\n",
            "6/6 - 0s - loss: 0.0160 - val_loss: 0.0279 - 332ms/epoch - 55ms/step\n",
            "Epoch 26/1000\n",
            "6/6 - 0s - loss: 0.0129 - val_loss: 0.0235 - 324ms/epoch - 54ms/step\n",
            "Epoch 27/1000\n",
            "6/6 - 0s - loss: 0.0104 - val_loss: 0.0192 - 339ms/epoch - 56ms/step\n",
            "Epoch 28/1000\n",
            "6/6 - 0s - loss: 0.0093 - val_loss: 0.0205 - 341ms/epoch - 57ms/step\n",
            "Epoch 29/1000\n",
            "6/6 - 0s - loss: 0.0091 - val_loss: 0.0182 - 322ms/epoch - 54ms/step\n",
            "Epoch 30/1000\n",
            "6/6 - 0s - loss: 0.0077 - val_loss: 0.0198 - 344ms/epoch - 57ms/step\n",
            "Epoch 31/1000\n",
            "6/6 - 0s - loss: 0.0081 - val_loss: 0.0178 - 349ms/epoch - 58ms/step\n",
            "Epoch 32/1000\n",
            "6/6 - 0s - loss: 0.0068 - val_loss: 0.0183 - 321ms/epoch - 53ms/step\n",
            "Epoch 33/1000\n",
            "6/6 - 0s - loss: 0.0068 - val_loss: 0.0167 - 326ms/epoch - 54ms/step\n",
            "Epoch 34/1000\n",
            "6/6 - 0s - loss: 0.0060 - val_loss: 0.0177 - 326ms/epoch - 54ms/step\n",
            "Epoch 35/1000\n",
            "6/6 - 0s - loss: 0.0061 - val_loss: 0.0170 - 319ms/epoch - 53ms/step\n",
            "Epoch 36/1000\n",
            "6/6 - 0s - loss: 0.0055 - val_loss: 0.0171 - 331ms/epoch - 55ms/step\n",
            "Epoch 37/1000\n",
            "6/6 - 0s - loss: 0.0054 - val_loss: 0.0172 - 349ms/epoch - 58ms/step\n",
            "Epoch 38/1000\n",
            "6/6 - 0s - loss: 0.0051 - val_loss: 0.0170 - 343ms/epoch - 57ms/step\n",
            "Epoch 39/1000\n",
            "6/6 - 0s - loss: 0.0049 - val_loss: 0.0174 - 324ms/epoch - 54ms/step\n",
            "Epoch 40/1000\n",
            "6/6 - 0s - loss: 0.0048 - val_loss: 0.0175 - 325ms/epoch - 54ms/step\n",
            "Epoch 41/1000\n",
            "6/6 - 0s - loss: 0.0047 - val_loss: 0.0170 - 322ms/epoch - 54ms/step\n",
            "Epoch 42/1000\n",
            "6/6 - 0s - loss: 0.0044 - val_loss: 0.0173 - 333ms/epoch - 56ms/step\n",
            "Epoch 43/1000\n",
            "6/6 - 0s - loss: 0.0044 - val_loss: 0.0182 - 332ms/epoch - 55ms/step\n"
          ]
        },
        {
          "output_type": "display_data",
          "data": {
            "image/png": "[encoded data removed]",
            "text/plain": [
              "<Figure size 432x288 with 1 Axes>"
            ]
          },
          "metadata": {
            "needs_background": "light"
          }
        }
      ]
    },
    {
      "cell_type": "code",
      "metadata": {
        "id": "Ni-QrFIMvri0"
      },
      "source": [
        "class LNSimpleRNNCell(keras.layers.Layer):\n",
        "       def __init__(self, units, activation=\"tanh\", **kwargs):         \n",
        "         super().__init__(**kwargs)         \n",
        "         self.state_size = units         \n",
        "         self.output_size = units         \n",
        "         self.simple_rnn_cell = tfa.rnn.LayerNormLSTMCell(units)                     \n",
        "       def call(self, inputs, states):         \n",
        "         outputs, new_states = self.simple_rnn_cell(inputs, states)                \n",
        "         return outputs"
      ],
      "execution_count": null,
      "outputs": []
    },
    {
      "cell_type": "markdown",
      "metadata": {
        "id": "DetuxaYg7V9x"
      },
      "source": [
        "## Predictions "
      ]
    },
    {
      "cell_type": "code",
      "metadata": {
        "id": "TUI-z2ULSR2T"
      },
      "source": [
        "# make a prediction\n",
        "yhat = model.predict(test_X)\n",
        "test_X = test_X.reshape((test_X.shape[0], n_days*n_features))\n",
        "# invert scaling for forecast\n",
        "inv_yhat = concatenate((yhat, test_X[:, -6:]), axis=1)\n",
        "inv_yhat = scaler.inverse_transform(inv_yhat)\n",
        "inv_yhat = inv_yhat[:,0]\n",
        "# invert scaling for actual\n",
        "test_y = test_y.reshape((len(test_y), 1))\n",
        "inv_y = concatenate((test_y, test_X[:, -6:]), axis=1)\n",
        "inv_y = scaler.inverse_transform(inv_y)\n",
        "inv_y = inv_y[:,0]\n",
        "# calculate RMSE\n",
        "rmse = sqrt(mean_squared_error(inv_y, inv_yhat))\n",
        "print('Test RMSE: %.3f' % rmse)"
      ],
      "execution_count": null,
      "outputs": []
    },
    {
      "cell_type": "markdown",
      "metadata": {
        "id": "PhNcUjYz7Z5J"
      },
      "source": [
        "#### Prediciton plots"
      ]
    },
    {
      "cell_type": "code",
      "metadata": {
        "colab": {
          "base_uri": "https://localhost:8080/",
          "height": 265
        },
        "id": "xgvSi2LHmWWP",
        "outputId": "1853c8f7-5161-4cad-bcd2-4f7fe26b01a2"
      },
      "source": [
        "pyplot.plot(inv_yhat, label = 'Prediction')\n",
        "pyplot.plot(inv_y, label = 'Real')\n",
        "pyplot.legend()\n",
        "pyplot.show()"
      ],
      "execution_count": null,
      "outputs": [
        {
          "data": {
            "image/png": "[encoded data removed]",
            "text/plain": [
              "<Figure size 432x288 with 1 Axes>"
            ]
          },
          "metadata": {},
          "output_type": "display_data"
        }
      ]
    },
    {
      "cell_type": "code",
      "metadata": {
        "colab": {
          "base_uri": "https://localhost:8080/"
        },
        "id": "jwVXWcCJoosn",
        "outputId": "d8ad52ab-68a4-4412-ebc9-cb8863d334dd"
      },
      "source": [
        "!pip install mpld3\n",
        "import mpld3\n",
        "from mpld3 import plugins"
      ],
      "execution_count": null,
      "outputs": [
        {
          "name": "stdout",
          "output_type": "stream",
          "text": [
            "Collecting mpld3\n",
            "  Downloading mpld3-0.5.5.tar.gz (1.0 MB)\n",
            "\u001b[?25l\r\u001b[K     |▎                               | 10 kB 22.6 MB/s eta 0:00:01\r\u001b[K     |▋                               | 20 kB 28.8 MB/s eta 0:00:01\r\u001b[K     |█                               | 30 kB 12.6 MB/s eta 0:00:01\r\u001b[K     |█▎                              | 40 kB 9.5 MB/s eta 0:00:01\r\u001b[K     |█▋                              | 51 kB 5.4 MB/s eta 0:00:01\r\u001b[K     |██                              | 61 kB 5.9 MB/s eta 0:00:01\r\u001b[K     |██▎                             | 71 kB 5.7 MB/s eta 0:00:01\r\u001b[K     |██▋                             | 81 kB 6.3 MB/s eta 0:00:01\r\u001b[K     |██▉                             | 92 kB 4.8 MB/s eta 0:00:01\r\u001b[K     |███▏                            | 102 kB 5.2 MB/s eta 0:00:01\r\u001b[K     |███▌                            | 112 kB 5.2 MB/s eta 0:00:01\r\u001b[K     |███▉                            | 122 kB 5.2 MB/s eta 0:00:01\r\u001b[K     |████▏                           | 133 kB 5.2 MB/s eta 0:00:01\r\u001b[K     |████▌                           | 143 kB 5.2 MB/s eta 0:00:01\r\u001b[K     |████▉                           | 153 kB 5.2 MB/s eta 0:00:01\r\u001b[K     |█████▏                          | 163 kB 5.2 MB/s eta 0:00:01\r\u001b[K     |█████▍                          | 174 kB 5.2 MB/s eta 0:00:01\r\u001b[K     |█████▊                          | 184 kB 5.2 MB/s eta 0:00:01\r\u001b[K     |██████                          | 194 kB 5.2 MB/s eta 0:00:01\r\u001b[K     |██████▍                         | 204 kB 5.2 MB/s eta 0:00:01\r\u001b[K     |██████▊                         | 215 kB 5.2 MB/s eta 0:00:01\r\u001b[K     |███████                         | 225 kB 5.2 MB/s eta 0:00:01\r\u001b[K     |███████▍                        | 235 kB 5.2 MB/s eta 0:00:01\r\u001b[K     |███████▊                        | 245 kB 5.2 MB/s eta 0:00:01\r\u001b[K     |████████                        | 256 kB 5.2 MB/s eta 0:00:01\r\u001b[K     |████████▎                       | 266 kB 5.2 MB/s eta 0:00:01\r\u001b[K     |████████▋                       | 276 kB 5.2 MB/s eta 0:00:01\r\u001b[K     |█████████                       | 286 kB 5.2 MB/s eta 0:00:01\r\u001b[K     |█████████▎                      | 296 kB 5.2 MB/s eta 0:00:01\r\u001b[K     |█████████▋                      | 307 kB 5.2 MB/s eta 0:00:01\r\u001b[K     |██████████                      | 317 kB 5.2 MB/s eta 0:00:01\r\u001b[K     |██████████▎                     | 327 kB 5.2 MB/s eta 0:00:01\r\u001b[K     |██████████▌                     | 337 kB 5.2 MB/s eta 0:00:01\r\u001b[K     |██████████▉                     | 348 kB 5.2 MB/s eta 0:00:01\r\u001b[K     |███████████▏                    | 358 kB 5.2 MB/s eta 0:00:01\r\u001b[K     |███████████▌                    | 368 kB 5.2 MB/s eta 0:00:01\r\u001b[K     |███████████▉                    | 378 kB 5.2 MB/s eta 0:00:01\r\u001b[K     |████████████▏                   | 389 kB 5.2 MB/s eta 0:00:01\r\u001b[K     |████████████▌                   | 399 kB 5.2 MB/s eta 0:00:01\r\u001b[K     |████████████▉                   | 409 kB 5.2 MB/s eta 0:00:01\r\u001b[K     |█████████████                   | 419 kB 5.2 MB/s eta 0:00:01\r\u001b[K     |█████████████▍                  | 430 kB 5.2 MB/s eta 0:00:01\r\u001b[K     |█████████████▊                  | 440 kB 5.2 MB/s eta 0:00:01\r\u001b[K     |██████████████                  | 450 kB 5.2 MB/s eta 0:00:01\r\u001b[K     |██████████████▍                 | 460 kB 5.2 MB/s eta 0:00:01\r\u001b[K     |██████████████▊                 | 471 kB 5.2 MB/s eta 0:00:01\r\u001b[K     |███████████████                 | 481 kB 5.2 MB/s eta 0:00:01\r\u001b[K     |███████████████▍                | 491 kB 5.2 MB/s eta 0:00:01\r\u001b[K     |███████████████▋                | 501 kB 5.2 MB/s eta 0:00:01\r\u001b[K     |████████████████                | 512 kB 5.2 MB/s eta 0:00:01\r\u001b[K     |████████████████▎               | 522 kB 5.2 MB/s eta 0:00:01\r\u001b[K     |████████████████▋               | 532 kB 5.2 MB/s eta 0:00:01\r\u001b[K     |█████████████████               | 542 kB 5.2 MB/s eta 0:00:01\r\u001b[K     |█████████████████▎              | 552 kB 5.2 MB/s eta 0:00:01\r\u001b[K     |█████████████████▋              | 563 kB 5.2 MB/s eta 0:00:01\r\u001b[K     |██████████████████              | 573 kB 5.2 MB/s eta 0:00:01\r\u001b[K     |██████████████████▏             | 583 kB 5.2 MB/s eta 0:00:01\r\u001b[K     |██████████████████▌             | 593 kB 5.2 MB/s eta 0:00:01\r\u001b[K     |██████████████████▉             | 604 kB 5.2 MB/s eta 0:00:01\r\u001b[K     |███████████████████▏            | 614 kB 5.2 MB/s eta 0:00:01\r\u001b[K     |███████████████████▌            | 624 kB 5.2 MB/s eta 0:00:01\r\u001b[K     |███████████████████▉            | 634 kB 5.2 MB/s eta 0:00:01\r\u001b[K     |████████████████████▏           | 645 kB 5.2 MB/s eta 0:00:01\r\u001b[K     |████████████████████▌           | 655 kB 5.2 MB/s eta 0:00:01\r\u001b[K     |████████████████████▊           | 665 kB 5.2 MB/s eta 0:00:01\r\u001b[K     |█████████████████████           | 675 kB 5.2 MB/s eta 0:00:01\r\u001b[K     |█████████████████████▍          | 686 kB 5.2 MB/s eta 0:00:01\r\u001b[K     |█████████████████████▊          | 696 kB 5.2 MB/s eta 0:00:01\r\u001b[K     |██████████████████████          | 706 kB 5.2 MB/s eta 0:00:01\r\u001b[K     |██████████████████████▍         | 716 kB 5.2 MB/s eta 0:00:01\r\u001b[K     |██████████████████████▊         | 727 kB 5.2 MB/s eta 0:00:01\r\u001b[K     |███████████████████████         | 737 kB 5.2 MB/s eta 0:00:01\r\u001b[K     |███████████████████████▎        | 747 kB 5.2 MB/s eta 0:00:01\r\u001b[K     |███████████████████████▋        | 757 kB 5.2 MB/s eta 0:00:01\r\u001b[K     |████████████████████████        | 768 kB 5.2 MB/s eta 0:00:01\r\u001b[K     |████████████████████████▎       | 778 kB 5.2 MB/s eta 0:00:01\r\u001b[K     |████████████████████████▋       | 788 kB 5.2 MB/s eta 0:00:01\r\u001b[K     |█████████████████████████       | 798 kB 5.2 MB/s eta 0:00:01\r\u001b[K     |█████████████████████████▎      | 808 kB 5.2 MB/s eta 0:00:01\r\u001b[K     |█████████████████████████▋      | 819 kB 5.2 MB/s eta 0:00:01\r\u001b[K     |█████████████████████████▉      | 829 kB 5.2 MB/s eta 0:00:01\r\u001b[K     |██████████████████████████▏     | 839 kB 5.2 MB/s eta 0:00:01\r\u001b[K     |██████████████████████████▌     | 849 kB 5.2 MB/s eta 0:00:01\r\u001b[K     |██████████████████████████▉     | 860 kB 5.2 MB/s eta 0:00:01\r\u001b[K     |███████████████████████████▏    | 870 kB 5.2 MB/s eta 0:00:01\r\u001b[K     |███████████████████████████▌    | 880 kB 5.2 MB/s eta 0:00:01\r\u001b[K     |███████████████████████████▉    | 890 kB 5.2 MB/s eta 0:00:01\r\u001b[K     |████████████████████████████▏   | 901 kB 5.2 MB/s eta 0:00:01\r\u001b[K     |████████████████████████████▍   | 911 kB 5.2 MB/s eta 0:00:01\r\u001b[K     |████████████████████████████▊   | 921 kB 5.2 MB/s eta 0:00:01\r\u001b[K     |█████████████████████████████   | 931 kB 5.2 MB/s eta 0:00:01\r\u001b[K     |█████████████████████████████▍  | 942 kB 5.2 MB/s eta 0:00:01\r\u001b[K     |█████████████████████████████▊  | 952 kB 5.2 MB/s eta 0:00:01\r\u001b[K     |██████████████████████████████  | 962 kB 5.2 MB/s eta 0:00:01\r\u001b[K     |██████████████████████████████▍ | 972 kB 5.2 MB/s eta 0:00:01\r\u001b[K     |██████████████████████████████▊ | 983 kB 5.2 MB/s eta 0:00:01\r\u001b[K     |███████████████████████████████ | 993 kB 5.2 MB/s eta 0:00:01\r\u001b[K     |███████████████████████████████▎| 1.0 MB 5.2 MB/s eta 0:00:01\r\u001b[K     |███████████████████████████████▋| 1.0 MB 5.2 MB/s eta 0:00:01\r\u001b[K     |████████████████████████████████| 1.0 MB 5.2 MB/s eta 0:00:01\r\u001b[K     |████████████████████████████████| 1.0 MB 5.2 MB/s \n",
            "\u001b[?25hRequirement already satisfied: jinja2 in /usr/local/lib/python3.7/dist-packages (from mpld3) (2.11.3)\n",
            "Requirement already satisfied: matplotlib in /usr/local/lib/python3.7/dist-packages (from mpld3) (3.2.2)\n",
            "Requirement already satisfied: MarkupSafe>=0.23 in /usr/local/lib/python3.7/dist-packages (from jinja2->mpld3) (2.0.1)\n",
            "Requirement already satisfied: python-dateutil>=2.1 in /usr/local/lib/python3.7/dist-packages (from matplotlib->mpld3) (2.8.2)\n",
            "Requirement already satisfied: pyparsing!=2.0.4,!=2.1.2,!=2.1.6,>=2.0.1 in /usr/local/lib/python3.7/dist-packages (from matplotlib->mpld3) (2.4.7)\n",
            "Requirement already satisfied: kiwisolver>=1.0.1 in /usr/local/lib/python3.7/dist-packages (from matplotlib->mpld3) (1.3.2)\n",
            "Requirement already satisfied: numpy>=1.11 in /usr/local/lib/python3.7/dist-packages (from matplotlib->mpld3) (1.19.5)\n",
            "Requirement already satisfied: cycler>=0.10 in /usr/local/lib/python3.7/dist-packages (from matplotlib->mpld3) (0.10.0)\n",
            "Requirement already satisfied: six in /usr/local/lib/python3.7/dist-packages (from cycler>=0.10->matplotlib->mpld3) (1.15.0)\n",
            "Building wheels for collected packages: mpld3\n",
            "  Building wheel for mpld3 (setup.py) ... \u001b[?25l\u001b[?25hdone\n",
            "  Created wheel for mpld3: filename=mpld3-0.5.5-py3-none-any.whl size=200907 sha256=7929a6b64c5c7c25d2a929c2e5f2ea7336eef1f0af4a3a78bf43c0a8e6c8520b\n",
            "  Stored in directory: /root/.cache/pip/wheels/3b/f3/08/a11447ac4ea31d7603142e76b4cba9e48b2fa7d82b76b69731\n",
            "Successfully built mpld3\n",
            "Installing collected packages: mpld3\n",
            "Successfully installed mpld3-0.5.5\n"
          ]
        }
      ]
    },
    {
      "cell_type": "code",
      "metadata": {
        "colab": {
          "base_uri": "https://localhost:8080/",
          "height": 308
        },
        "id": "aDXbWD77pf93",
        "outputId": "c3ad1721-cb42-440b-bb01-f4d4cae5f9dc"
      },
      "source": [
        "pyplot.plot(inv_yhat, label = 'Prediction')\n",
        "pyplot.plot(inv_y, label = 'Real')\n",
        "pyplot.legend()\n",
        "mpld3.display()"
      ],
      "execution_count": null,
      "outputs": [
        {
          "data": {
            "text/html": [
              "\n",
              "\n",
              "<style>\n",
              "\n",
              "</style>\n",
              "\n",
              "<div id=\"fig_el661396605624411687041887420\"></div>\n",
              "<script>\n",
              "function mpld3_load_lib(url, callback){\n",
              "  var s = document.createElement('script');\n",
              "  s.src = url;\n",
              "  s.async = true;\n",
              "  s.onreadystatechange = s.onload = callback;\n",
              "  s.onerror = function(){console.warn(\"failed to load library \" + url);};\n",
              "  document.getElementsByTagName(\"head\")[0].appendChild(s);\n",
              "}\n",
              "\n",
              "if(typeof(mpld3) !== \"undefined\" && mpld3._mpld3IsLoaded){\n",
              "   // already loaded: just create the figure\n",
              "   !function(mpld3){\n",
              "       \n",
              "       mpld3.draw_figure(\"fig_el661396605624411687041887420\", {\"width\": 432.0, \"height\": 288.0, \"axes\": [{\"bbox\": [0.125, 0.125, 0.775, 0.755], \"xlim\": [-17.95, 376.95], \"ylim\": [-2.5377291798591615, 21.282749807834627], \"xdomain\": [-17.95, 376.95], \"ydomain\": [-2.5377291798591615, 21.282749807834627], \"xscale\": \"linear\", \"yscale\": \"linear\", \"axes\": [{\"position\": \"bottom\", \"nticks\": 10, \"tickvalues\": null, \"tickformat_formatter\": \"\", \"tickformat\": null, \"scale\": \"linear\", \"fontsize\": 10.0, \"grid\": {\"gridOn\": false}, \"visible\": true}, {\"position\": \"left\", \"nticks\": 7, \"tickvalues\": null, \"tickformat_formatter\": \"\", \"tickformat\": null, \"scale\": \"linear\", \"fontsize\": 10.0, \"grid\": {\"gridOn\": false}, \"visible\": true}], \"axesbg\": \"#FFFFFF\", \"axesbgalpha\": null, \"zoomable\": true, \"id\": \"el66139660562499664\", \"lines\": [{\"data\": \"data01\", \"xindex\": 0, \"yindex\": 1, \"coordinates\": \"data\", \"id\": \"el66139660562565136\", \"color\": \"#1F77B4\", \"linewidth\": 1.5, \"dasharray\": \"none\", \"alpha\": 1, \"zorder\": 2, \"drawstyle\": \"default\"}, {\"data\": \"data01\", \"xindex\": 0, \"yindex\": 2, \"coordinates\": \"data\", \"id\": \"el66139660562566544\", \"color\": \"#FF7F0E\", \"linewidth\": 1.5, \"dasharray\": \"none\", \"alpha\": 1, \"zorder\": 2, \"drawstyle\": \"default\"}, {\"data\": \"data02\", \"xindex\": 0, \"yindex\": 1, \"coordinates\": \"axes\", \"id\": \"el66139660562601232\", \"color\": \"#1F77B4\", \"linewidth\": 1.5, \"dasharray\": \"none\", \"alpha\": 1, \"zorder\": 1000002.0, \"drawstyle\": \"default\"}, {\"data\": \"data02\", \"xindex\": 0, \"yindex\": 2, \"coordinates\": \"axes\", \"id\": \"el66139660562603024\", \"color\": \"#FF7F0E\", \"linewidth\": 1.5, \"dasharray\": \"none\", \"alpha\": 1, \"zorder\": 1000002.0, \"drawstyle\": \"default\"}], \"paths\": [{\"data\": \"data03\", \"xindex\": 0, \"yindex\": 1, \"coordinates\": \"axes\", \"pathcodes\": [\"M\", \"L\", \"S\", \"L\", \"S\", \"L\", \"S\", \"L\", \"S\", \"Z\"], \"id\": \"el66139660600187280\", \"dasharray\": \"none\", \"alpha\": 0.8, \"facecolor\": \"rgba(255, 255, 255, 0.8)\", \"edgecolor\": \"rgba(204, 204, 204, 0.8)\", \"edgewidth\": 1.0, \"zorder\": 1000000.0}], \"markers\": [], \"texts\": [{\"text\": \"Prediction\", \"position\": [0.8245221027479092, 0.9218175128771156], \"coordinates\": \"axes\", \"h_anchor\": \"start\", \"v_baseline\": \"auto\", \"rotation\": -0.0, \"fontsize\": 10.0, \"color\": \"#000000\", \"alpha\": 1, \"zorder\": 1000003.0, \"id\": \"el66139660562600848\"}, {\"text\": \"Real\", \"position\": [0.8245221027479092, 0.8528329654157469], \"coordinates\": \"axes\", \"h_anchor\": \"start\", \"v_baseline\": \"auto\", \"rotation\": -0.0, \"fontsize\": 10.0, \"color\": \"#000000\", \"alpha\": 1, \"zorder\": 1000003.0, \"id\": \"el66139660562602576\"}], \"collections\": [], \"images\": [], \"sharex\": [], \"sharey\": []}], \"data\": {\"data01\": [[0.0, 0.47031617164611816, 1.899999976158142], [1.0, 1.1837680339813232, 4.099999904632568], [2.0, 2.742615222930908, 3.200000286102295], [3.0, 4.155791282653809, 3.5], [4.0, 4.8978271484375, 3.4000000953674316], [5.0, 4.532318115234375, 1.7999999523162842], [6.0, 3.170147180557251, 0.5], [7.0, 1.6381138563156128, 1.899999976158142], [8.0, 1.7092036008834839, 3.299999952316284], [9.0, 2.856651782989502, 1.7999999523162842], [10.0, 2.6075496673583984, 1.399999976158142], [11.0, 2.1605288982391357, 1.2999999523162842], [12.0, 1.2186261415481567, 1.2000000476837158], [13.0, 1.1353024244308472, 0.8000000715255737], [14.0, 1.1624144315719604, 0.6000000238418579], [15.0, 1.3053759336471558, 1.7000000476837158], [16.0, 2.048198699951172, 0.0], [17.0, 0.8838823437690735, 0.10000000894069672], [18.0, 0.5418211817741394, 1.7000000476837158], [19.0, 1.516541600227356, 1.100000023841858], [20.0, 1.9584895372390747, 3.299999952316284], [21.0, 3.6605441570281982, 2.5], [22.0, 3.4389710426330566, 2.299999952316284], [23.0, 3.085935592651367, 2.799999952316284], [24.0, 3.0827298164367676, 1.2999999523162842], [25.0, 1.5434437990188599, 0.10000000894069672], [26.0, 0.4340481162071228, 0.0], [27.0, 0.6216369867324829, 0.0], [28.0, 0.3359487056732178, 0.0], [29.0, 0.6629940271377563, 0.0], [30.0, 1.071604609489441, 0.0], [31.0, 0.8686092495918274, 0.8999999761581421], [32.0, 1.0944079160690308, 1.100000023841858], [33.0, 1.2789232730865479, 0.0], [34.0, 0.6701107025146484, 0.0], [35.0, 0.29015401005744934, 0.0], [36.0, 0.40385523438453674, 0.0], [37.0, 0.005233349744230509, 0.20000001788139343], [38.0, 0.6225806474685669, 0.5], [39.0, 0.5799485445022583, 0.0], [40.0, 0.7117086052894592, 1.399999976158142], [41.0, 1.4521749019622803, 2.299999952316284], [42.0, 1.8826900720596313, 0.0], [43.0, 1.0523799657821655, 0.0], [44.0, 0.9799597263336182, 9.699999809265137], [45.0, 4.2538909912109375, 11.700000762939453], [46.0, 8.207772254943848, 16.100000381469727], [47.0, 12.429098129272461, 14.899999618530273], [48.0, 13.26511001586914, 20.200000762939453], [49.0, 16.730844497680664, 19.100000381469727], [50.0, 14.721173286437988, 17.5], [51.0, 14.715508460998535, 17.299999237060547], [52.0, 14.269927978515625, 17.200000762939453], [53.0, 14.135676383972168, 14.300000190734863], [54.0, 13.51911449432373, 17.5], [55.0, 13.625629425048828, 15.600000381469727], [56.0, 12.968306541442871, 8.699999809265137], [57.0, 9.693830490112305, 9.100000381469727], [58.0, 9.01990032196045, 11.399999618530273], [59.0, 10.378388404846191, 9.300000190734863], [60.0, 9.424918174743652, 7.800000190734863], [61.0, 8.30269718170166, 12.100000381469727], [62.0, 10.119406700134277, 11.899998664855957], [63.0, 11.261754035949707, 12.300000190734863], [64.0, 11.615386009216309, 10.399999618530273], [65.0, 10.77379322052002, 10.800000190734863], [66.0, 7.818933010101318, 8.600000381469727], [67.0, 7.9660420417785645, 9.399999618530273], [68.0, 9.302851676940918, 16.399999618530273], [69.0, 14.043475151062012, 13.300000190734863], [70.0, 14.248706817626953, 12.300000190734863], [71.0, 13.626585006713867, 14.800000190734863], [72.0, 12.71623420715332, 13.5], [73.0, 12.465472221374512, 12.0], [74.0, 10.648673057556152, 10.100000381469727], [75.0, 9.444122314453125, 11.0], [76.0, 10.04382610321045, 9.600000381469727], [77.0, 9.309775352478027, 10.100000381469727], [78.0, 9.365955352783203, 9.199999809265137], [79.0, 9.459576606750488, 7.599999904632568], [80.0, 8.707832336425781, 7.300000190734863], [81.0, 8.13247299194336, 8.0], [82.0, 8.027867317199707, 7.599999904632568], [83.0, 7.76547384262085, 8.600000381469727], [84.0, 8.162454605102539, 8.699999809265137], [85.0, 8.78012466430664, 6.800000190734863], [86.0, 7.7754316329956055, 5.799999713897705], [87.0, 6.811590671539307, 6.699999809265137], [88.0, 5.232903957366943, 6.499999523162842], [89.0, 6.297971725463867, 6.699999809265137], [90.0, 6.973487377166748, 8.199999809265137], [91.0, 8.94251823425293, 8.699999809265137], [92.0, 9.00543212890625, 9.800000190734863], [93.0, 10.05842113494873, 9.600000381469727], [94.0, 11.234529495239258, 10.399999618530273], [95.0, 11.58670425415039, 11.100000381469727], [96.0, 11.376029014587402, 9.5], [97.0, 8.665865898132324, 7.599999904632568], [98.0, 5.95246696472168, 6.900000095367432], [99.0, 6.481106281280518, 7.5], [100.0, 7.5324578285217285, 5.199999809265137], [101.0, 5.374574661254883, 5.400000095367432], [102.0, 5.370888710021973, 5.900000095367432], [103.0, 5.8599042892456055, 7.800000190734863], [104.0, 7.402726173400879, 8.399999618530273], [105.0, 7.521522521972656, 6.499999523162842], [106.0, 5.732632160186768, 6.599999904632568], [107.0, 6.269041061401367, 6.499999523162842], [108.0, 6.963031768798828, 6.199999809265137], [109.0, 7.483474254608154, 6.40000057220459], [110.0, 7.407280921936035, 6.300000190734863], [111.0, 6.596372127532959, 5.599999904632568], [112.0, 5.9579362869262695, 5.300000190734863], [113.0, 5.313760280609131, 5.5], [114.0, 5.2942328453063965, 5.300000190734863], [115.0, 5.4011969566345215, 6.0], [116.0, 5.836836814880371, 7.100000381469727], [117.0, 6.845506191253662, 8.0], [118.0, 7.605749130249023, 7.300000190734863], [119.0, 6.879159450531006, 6.900000095367432], [120.0, 7.083446025848389, 5.599999904632568], [121.0, 5.48689603805542, 5.099999904632568], [122.0, 5.405280113220215, 4.300000190734863], [123.0, 5.356775283813477, 4.300000190734863], [124.0, 4.385462760925293, 4.199999809265137], [125.0, 5.067249774932861, 4.800000190734863], [126.0, 5.715911388397217, 5.099999904632568], [127.0, 5.787712097167969, 6.0], [128.0, 5.428382873535156, 5.699999809265137], [129.0, 5.202862739562988, 4.300000190734863], [130.0, 5.040173530578613, 4.599999904632568], [131.0, 5.12375545501709, 3.799999952316284], [132.0, 4.390070915222168, 4.099999904632568], [133.0, 4.4832305908203125, 4.400000095367432], [134.0, 4.920131683349609, 4.800000190734863], [135.0, 4.795965671539307, 3.5999999046325684], [136.0, 3.4994678497314453, 3.5999999046325684], [137.0, 3.4694716930389404, 2.5], [138.0, 2.0828890800476074, 1.5], [139.0, 2.1535181999206543, 2.700000047683716], [140.0, 2.7252728939056396, 3.0], [141.0, 3.0980303287506104, 3.200000286102295], [142.0, 3.6346161365509033, 5.199999809265137], [143.0, 5.25723123550415, 6.199999809265137], [144.0, 7.152544021606445, 10.699999809265137], [145.0, 9.49052619934082, 10.30000114440918], [146.0, 8.687970161437988, 9.199999809265137], [147.0, 8.874100685119629, 7.599999904632568], [148.0, 6.666839122772217, 7.400000095367432], [149.0, 6.824353218078613, 7.0], [150.0, 7.114437103271484, 7.0], [151.0, 6.72752046585083, 6.599999904632568], [152.0, 5.583184242248535, 5.300000190734863], [153.0, 5.170236110687256, 5.900000095367432], [154.0, 6.142881393432617, 6.599999904632568], [155.0, 7.321796417236328, 7.300000190734863], [156.0, 8.790124893188477, 7.599999904632568], [157.0, 7.512479305267334, 7.599999904632568], [158.0, 6.405462265014648, 7.599999904632568], [159.0, 6.563161849975586, 7.5], [160.0, 7.341492176055908, 5.900000095367432], [161.0, 5.155785083770752, 4.099999904632568], [162.0, 5.0402936935424805, 6.699999809265137], [163.0, 5.815286636352539, 6.199999809265137], [164.0, 6.665560722351074, 6.699999809265137], [165.0, 5.563769340515137, 6.800000190734863], [166.0, 6.4696879386901855, 6.300000190734863], [167.0, 5.743752479553223, 4.300000190734863], [168.0, 4.66279935836792, 5.300000190734863], [169.0, 5.198214054107666, 5.699999809265137], [170.0, 5.315372943878174, 5.799999713897705], [171.0, 6.09407901763916, 5.699999809265137], [172.0, 5.764742374420166, 5.099999904632568], [173.0, 3.8697316646575928, 3.799999952316284], [174.0, 3.659329652786255, 2.5], [175.0, 3.9561030864715576, 1.7000000476837158], [176.0, 2.753412961959839, 1.5], [177.0, 1.0337111949920654, 1.5], [178.0, 1.29581618309021, 1.2000000476837158], [179.0, 1.9508397579193115, 0.8999999761581421], [180.0, 1.7417880296707153, 0.8000000715255737], [181.0, 1.4132812023162842, 0.8000000715255737], [182.0, 1.0353268384933472, 0.40000003576278687], [183.0, 0.9248523116111755, 1.7000000476837158], [184.0, 2.1787497997283936, 3.0], [185.0, 2.7907931804656982, 3.5], [186.0, 3.046095609664917, 3.5], [187.0, 2.857823610305786, 2.799999952316284], [188.0, 3.015436887741089, 3.4000000953674316], [189.0, 3.190309762954712, 2.299999952316284], [190.0, 1.6189193725585938, 0.5], [191.0, 1.3936760425567627, 1.2000000476837158], [192.0, 0.9032610058784485, 0.20000001788139343], [193.0, 0.753767192363739, 0.0], [194.0, 0.39652708172798157, 0.0], [195.0, -0.34307101368904114, 0.10000000894069672], [196.0, 0.1481892317533493, 0.10000000894069672], [197.0, 0.2548013925552368, 0.20000001788139343], [198.0, 0.20409774780273438, 0.10000000894069672], [199.0, -0.19100522994995117, 0.0], [200.0, 0.07133719325065613, 0.0], [201.0, 0.26176515221595764, 0.0], [202.0, -0.42677104473114014, 0.0], [203.0, -0.39647918939590454, 0.10000000894069672], [204.0, -0.5132274627685547, 0.0], [205.0, -0.11798702925443649, 0.0], [206.0, -0.3394351601600647, 0.0], [207.0, -0.31961923837661743, 0.0], [208.0, -0.025684993714094162, 0.0], [209.0, -0.44623038172721863, 0.0], [210.0, -1.4549801349639893, 0.0], [211.0, -1.0579745769500732, 0.0], [212.0, -0.20762121677398682, 0.0], [213.0, 0.5029500722885132, 0.10000000894069672], [214.0, 0.03073366917669773, 0.0], [215.0, -0.1857813447713852, 0.20000001788139343], [216.0, 0.08586648106575012, 0.10000000894069672], [217.0, -0.058525200933218, 0.699999988079071], [218.0, 0.19534918665885925, 2.200000047683716], [219.0, 1.0250440835952759, 0.30000001192092896], [220.0, 0.8498944044113159, 0.0], [221.0, 0.6398991346359253, 0.0], [222.0, 0.19474390149116516, 0.0], [223.0, -0.031116779893636703, 0.10000000894069672], [224.0, 0.3420574963092804, 3.0], [225.0, 1.19235360622406, 0.20000001788139343], [226.0, 0.7628809213638306, 0.0], [227.0, 0.24808526039123535, 0.0], [228.0, -0.1151995062828064, 0.0], [229.0, -0.051639508455991745, 0.0], [230.0, 0.15287594497203827, 0.0], [231.0, -1.0763059854507446, 0.0], [232.0, -0.8392647504806519, 0.0], [233.0, -0.18969173729419708, 0.0], [234.0, 0.07402980327606201, 0.0], [235.0, 0.1901451051235199, 0.0], [236.0, -0.026900874450802803, 0.10000000894069672], [237.0, 0.39380592107772827, 0.0], [238.0, 0.33092889189720154, 0.0], [239.0, 0.05535009875893593, 0.0], [240.0, 0.04014657437801361, 0.0], [241.0, 0.020450090989470482, 0.0], [242.0, -0.09604199975728989, 0.0], [243.0, -0.16668513417243958, 0.0], [244.0, -0.11608193814754486, 0.5], [245.0, 0.30120649933815, 0.20000001788139343], [246.0, 0.31110092997550964, 0.0], [247.0, 0.07202259451150894, 0.10000000894069672], [248.0, -0.07150975614786148, 0.0], [249.0, -0.26425209641456604, 0.0], [250.0, -0.27008217573165894, 0.0], [251.0, -0.10740108788013458, 0.5], [252.0, 0.29014089703559875, 0.0], [253.0, 0.2226324826478958, 0.10000000894069672], [254.0, 0.030067820101976395, 0.0], [255.0, -0.0020786828827112913, 0.0], [256.0, 0.017432738095521927, 0.0], [257.0, -0.24365313351154327, 0.0], [258.0, -0.24014334380626678, 0.0], [259.0, 0.08443541824817657, 0.0], [260.0, 0.061719249933958054, 0.0], [261.0, -0.06732290238142014, 0.8999999761581421], [262.0, 0.5751252770423889, 0.20000001788139343], [263.0, 0.79598069190979, 0.8000000715255737], [264.0, 1.5340584516525269, 1.2000000476837158], [265.0, 1.773084282875061, 1.0], [266.0, 1.2851624488830566, 0.5], [267.0, 0.7212117910385132, 0.0], [268.0, 0.3823942542076111, 0.10000000894069672], [269.0, 0.09482155740261078, 0.30000001192092896], [270.0, 0.12390182912349701, 0.0], [271.0, 0.00297767692245543, 0.40000003576278687], [272.0, 0.09079813957214355, 0.0], [273.0, 0.8681621551513672, 0.10000000894069672], [274.0, 0.9359568953514099, 0.0], [275.0, 0.17425128817558289, 0.0], [276.0, -0.28498613834381104, 0.5], [277.0, -0.1950620859861374, 2.8999998569488525], [278.0, 1.7826223373413086, 6.199999809265137], [279.0, 4.493376731872559, 3.700000047683716], [280.0, 3.5179555416107178, 0.40000003576278687], [281.0, 2.197498321533203, 0.0], [282.0, 0.8862450122833252, 0.40000003576278687], [283.0, 0.43511343002319336, 0.20000001788139343], [284.0, 0.2779957950115204, 0.5], [285.0, 0.36272692680358887, 2.8999998569488525], [286.0, 2.0711328983306885, 3.700000047683716], [287.0, 2.3966686725616455, 2.299999952316284], [288.0, 2.2272143363952637, 3.799999952316284], [289.0, 3.193094253540039, 1.2000000476837158], [290.0, 2.4966461658477783, 1.2000000476837158], [291.0, 1.908890724182129, 5.099999904632568], [292.0, 4.176529407501221, 6.800000190734863], [293.0, 5.663677215576172, 6.699999809265137], [294.0, 5.660989284515381, 7.599999904632568], [295.0, 6.344463348388672, 3.4000000953674316], [296.0, 4.692371845245361, 0.10000000894069672], [297.0, 2.918670177459717, 0.0], [298.0, 1.7980635166168213, 0.30000001192092896], [299.0, 1.1106185913085938, 1.7999999523162842], [300.0, 1.0967081785202026, 0.0], [301.0, 0.38732436299324036, 0.20000001788139343], [302.0, 0.31789878010749817, 3.299999952316284], [303.0, 1.6880227327346802, 2.200000047683716], [304.0, 1.6938469409942627, 0.10000000894069672], [305.0, 1.4710693359375, 0.10000000894069672], [306.0, 1.265525221824646, 0.8999999761581421], [307.0, 1.1516971588134766, 0.0], [308.0, 0.7346360087394714, 1.2000000476837158], [309.0, 0.5283368825912476, 6.0], [310.0, 3.581061363220215, 5.5], [311.0, 5.202765464782715, 3.0999999046325684], [312.0, 3.588791608810425, 1.2999999523162842], [313.0, 2.4711647033691406, 2.0], [314.0, 2.5423424243927, 5.0], [315.0, 4.523421764373779, 4.099999904632568], [316.0, 4.759915828704834, 5.300000190734863], [317.0, 5.452463150024414, 9.399999618530273], [318.0, 7.602360725402832, 8.5], [319.0, 7.517724514007568, 8.399999618530273], [320.0, 7.460780143737793, 2.5], [321.0, 4.992471218109131, 2.0], [322.0, 3.610696792602539, 3.9000000953674316], [323.0, 3.7204391956329346, 3.9000000953674316], [324.0, 4.13109827041626, 4.800000190734863], [325.0, 4.548961639404297, 4.800000190734863], [326.0, 5.327854156494141, 4.5], [327.0, 4.591916561126709, 3.799999952316284], [328.0, 3.5171451568603516, 1.7000000476837158], [329.0, 2.417579174041748, 1.7999999523162842], [330.0, 2.485773801803589, 3.299999952316284], [331.0, 3.4362246990203857, 6.0], [332.0, 5.483823299407959, 8.399999618530273], [333.0, 7.591765880584717, 10.199999809265137], [334.0, 8.634580612182617, 8.100000381469727], [335.0, 8.32266902923584, 7.300000190734863], [336.0, 8.001310348510742, 9.699999809265137], [337.0, 9.203145027160645, 9.5], [338.0, 9.652891159057617, 6.900000095367432], [339.0, 8.216458320617676, 5.300000190734863], [340.0, 6.96964693069458, 2.8999998569488525], [341.0, 5.199886322021484, 1.7000000476837158], [342.0, 3.932955741882324, 2.0999999046325684], [343.0, 3.295165538787842, 16.899999618530273], [344.0, 9.763431549072266, 14.5], [345.0, 10.994729042053223, 13.399999618530273], [346.0, 11.480340003967285, 10.499999046325684], [347.0, 10.48849105834961, 8.5], [348.0, 8.150833129882812, 7.5], [349.0, 7.411494255065918, 6.099999904632568], [350.0, 5.89597225189209, 4.599999904632568], [351.0, 5.479290962219238, 4.300000190734863], [352.0, 4.902846813201904, 3.0], [353.0, 4.069547653198242, 5.900000095367432], [354.0, 4.964233875274658, 7.300000190734863], [355.0, 5.646498203277588, 7.5], [356.0, 6.818817138671875, 8.899999618530273], [357.0, 8.09377384185791, 9.699999809265137], [358.0, 8.959050178527832, 10.499999046325684], [359.0, 9.480717658996582, 9.5]], \"data02\": [[0.7408900836320191, 0.9379139072847682, 0.8689293598233996], [0.8006272401433692, 0.9379139072847682, 0.8689293598233996]], \"data03\": [[0.7349163679808841, 0.8252391464311994], [0.9790919952210274, 0.8252391464311994], [0.9850657108721624, 0.8252391464311994], [0.9850657108721624, 0.8344370860927152], [0.9850657108721624, 0.9678072111846947], [0.9850657108721624, 0.9770051508462105], [0.9790919952210274, 0.9770051508462105], [0.7349163679808841, 0.9770051508462105], [0.7289426523297491, 0.9770051508462105], [0.7289426523297491, 0.9678072111846947], [0.7289426523297491, 0.8344370860927152], [0.7289426523297491, 0.8252391464311994], [0.7349163679808841, 0.8252391464311994]]}, \"id\": \"el66139660562441168\", \"plugins\": [{\"type\": \"reset\"}, {\"type\": \"zoom\", \"button\": true, \"enabled\": false}, {\"type\": \"boxzoom\", \"button\": true, \"enabled\": false}]});\n",
              "   }(mpld3);\n",
              "}else if(typeof define === \"function\" && define.amd){\n",
              "   // require.js is available: use it to load d3/mpld3\n",
              "   require.config({paths: {d3: \"https://d3js.org/d3.v5\"}});\n",
              "   require([\"d3\"], function(d3){\n",
              "      window.d3 = d3;\n",
              "      mpld3_load_lib(\"https://mpld3.github.io/js/mpld3.v0.5.5.js\", function(){\n",
              "         \n",
              "         mpld3.draw_figure(\"fig_el661396605624411687041887420\", {\"width\": 432.0, \"height\": 288.0, \"axes\": [{\"bbox\": [0.125, 0.125, 0.775, 0.755], \"xlim\": [-17.95, 376.95], \"ylim\": [-2.5377291798591615, 21.282749807834627], \"xdomain\": [-17.95, 376.95], \"ydomain\": [-2.5377291798591615, 21.282749807834627], \"xscale\": \"linear\", \"yscale\": \"linear\", \"axes\": [{\"position\": \"bottom\", \"nticks\": 10, \"tickvalues\": null, \"tickformat_formatter\": \"\", \"tickformat\": null, \"scale\": \"linear\", \"fontsize\": 10.0, \"grid\": {\"gridOn\": false}, \"visible\": true}, {\"position\": \"left\", \"nticks\": 7, \"tickvalues\": null, \"tickformat_formatter\": \"\", \"tickformat\": null, \"scale\": \"linear\", \"fontsize\": 10.0, \"grid\": {\"gridOn\": false}, \"visible\": true}], \"axesbg\": \"#FFFFFF\", \"axesbgalpha\": null, \"zoomable\": true, \"id\": \"el66139660562499664\", \"lines\": [{\"data\": \"data01\", \"xindex\": 0, \"yindex\": 1, \"coordinates\": \"data\", \"id\": \"el66139660562565136\", \"color\": \"#1F77B4\", \"linewidth\": 1.5, \"dasharray\": \"none\", \"alpha\": 1, \"zorder\": 2, \"drawstyle\": \"default\"}, {\"data\": \"data01\", \"xindex\": 0, \"yindex\": 2, \"coordinates\": \"data\", \"id\": \"el66139660562566544\", \"color\": \"#FF7F0E\", \"linewidth\": 1.5, \"dasharray\": \"none\", \"alpha\": 1, \"zorder\": 2, \"drawstyle\": \"default\"}, {\"data\": \"data02\", \"xindex\": 0, \"yindex\": 1, \"coordinates\": \"axes\", \"id\": \"el66139660562601232\", \"color\": \"#1F77B4\", \"linewidth\": 1.5, \"dasharray\": \"none\", \"alpha\": 1, \"zorder\": 1000002.0, \"drawstyle\": \"default\"}, {\"data\": \"data02\", \"xindex\": 0, \"yindex\": 2, \"coordinates\": \"axes\", \"id\": \"el66139660562603024\", \"color\": \"#FF7F0E\", \"linewidth\": 1.5, \"dasharray\": \"none\", \"alpha\": 1, \"zorder\": 1000002.0, \"drawstyle\": \"default\"}], \"paths\": [{\"data\": \"data03\", \"xindex\": 0, \"yindex\": 1, \"coordinates\": \"axes\", \"pathcodes\": [\"M\", \"L\", \"S\", \"L\", \"S\", \"L\", \"S\", \"L\", \"S\", \"Z\"], \"id\": \"el66139660600187280\", \"dasharray\": \"none\", \"alpha\": 0.8, \"facecolor\": \"rgba(255, 255, 255, 0.8)\", \"edgecolor\": \"rgba(204, 204, 204, 0.8)\", \"edgewidth\": 1.0, \"zorder\": 1000000.0}], \"markers\": [], \"texts\": [{\"text\": \"Prediction\", \"position\": [0.8245221027479092, 0.9218175128771156], \"coordinates\": \"axes\", \"h_anchor\": \"start\", \"v_baseline\": \"auto\", \"rotation\": -0.0, \"fontsize\": 10.0, \"color\": \"#000000\", \"alpha\": 1, \"zorder\": 1000003.0, \"id\": \"el66139660562600848\"}, {\"text\": \"Real\", \"position\": [0.8245221027479092, 0.8528329654157469], \"coordinates\": \"axes\", \"h_anchor\": \"start\", \"v_baseline\": \"auto\", \"rotation\": -0.0, \"fontsize\": 10.0, \"color\": \"#000000\", \"alpha\": 1, \"zorder\": 1000003.0, \"id\": \"el66139660562602576\"}], \"collections\": [], \"images\": [], \"sharex\": [], \"sharey\": []}], \"data\": {\"data01\": [[0.0, 0.47031617164611816, 1.899999976158142], [1.0, 1.1837680339813232, 4.099999904632568], [2.0, 2.742615222930908, 3.200000286102295], [3.0, 4.155791282653809, 3.5], [4.0, 4.8978271484375, 3.4000000953674316], [5.0, 4.532318115234375, 1.7999999523162842], [6.0, 3.170147180557251, 0.5], [7.0, 1.6381138563156128, 1.899999976158142], [8.0, 1.7092036008834839, 3.299999952316284], [9.0, 2.856651782989502, 1.7999999523162842], [10.0, 2.6075496673583984, 1.399999976158142], [11.0, 2.1605288982391357, 1.2999999523162842], [12.0, 1.2186261415481567, 1.2000000476837158], [13.0, 1.1353024244308472, 0.8000000715255737], [14.0, 1.1624144315719604, 0.6000000238418579], [15.0, 1.3053759336471558, 1.7000000476837158], [16.0, 2.048198699951172, 0.0], [17.0, 0.8838823437690735, 0.10000000894069672], [18.0, 0.5418211817741394, 1.7000000476837158], [19.0, 1.516541600227356, 1.100000023841858], [20.0, 1.9584895372390747, 3.299999952316284], [21.0, 3.6605441570281982, 2.5], [22.0, 3.4389710426330566, 2.299999952316284], [23.0, 3.085935592651367, 2.799999952316284], [24.0, 3.0827298164367676, 1.2999999523162842], [25.0, 1.5434437990188599, 0.10000000894069672], [26.0, 0.4340481162071228, 0.0], [27.0, 0.6216369867324829, 0.0], [28.0, 0.3359487056732178, 0.0], [29.0, 0.6629940271377563, 0.0], [30.0, 1.071604609489441, 0.0], [31.0, 0.8686092495918274, 0.8999999761581421], [32.0, 1.0944079160690308, 1.100000023841858], [33.0, 1.2789232730865479, 0.0], [34.0, 0.6701107025146484, 0.0], [35.0, 0.29015401005744934, 0.0], [36.0, 0.40385523438453674, 0.0], [37.0, 0.005233349744230509, 0.20000001788139343], [38.0, 0.6225806474685669, 0.5], [39.0, 0.5799485445022583, 0.0], [40.0, 0.7117086052894592, 1.399999976158142], [41.0, 1.4521749019622803, 2.299999952316284], [42.0, 1.8826900720596313, 0.0], [43.0, 1.0523799657821655, 0.0], [44.0, 0.9799597263336182, 9.699999809265137], [45.0, 4.2538909912109375, 11.700000762939453], [46.0, 8.207772254943848, 16.100000381469727], [47.0, 12.429098129272461, 14.899999618530273], [48.0, 13.26511001586914, 20.200000762939453], [49.0, 16.730844497680664, 19.100000381469727], [50.0, 14.721173286437988, 17.5], [51.0, 14.715508460998535, 17.299999237060547], [52.0, 14.269927978515625, 17.200000762939453], [53.0, 14.135676383972168, 14.300000190734863], [54.0, 13.51911449432373, 17.5], [55.0, 13.625629425048828, 15.600000381469727], [56.0, 12.968306541442871, 8.699999809265137], [57.0, 9.693830490112305, 9.100000381469727], [58.0, 9.01990032196045, 11.399999618530273], [59.0, 10.378388404846191, 9.300000190734863], [60.0, 9.424918174743652, 7.800000190734863], [61.0, 8.30269718170166, 12.100000381469727], [62.0, 10.119406700134277, 11.899998664855957], [63.0, 11.261754035949707, 12.300000190734863], [64.0, 11.615386009216309, 10.399999618530273], [65.0, 10.77379322052002, 10.800000190734863], [66.0, 7.818933010101318, 8.600000381469727], [67.0, 7.9660420417785645, 9.399999618530273], [68.0, 9.302851676940918, 16.399999618530273], [69.0, 14.043475151062012, 13.300000190734863], [70.0, 14.248706817626953, 12.300000190734863], [71.0, 13.626585006713867, 14.800000190734863], [72.0, 12.71623420715332, 13.5], [73.0, 12.465472221374512, 12.0], [74.0, 10.648673057556152, 10.100000381469727], [75.0, 9.444122314453125, 11.0], [76.0, 10.04382610321045, 9.600000381469727], [77.0, 9.309775352478027, 10.100000381469727], [78.0, 9.365955352783203, 9.199999809265137], [79.0, 9.459576606750488, 7.599999904632568], [80.0, 8.707832336425781, 7.300000190734863], [81.0, 8.13247299194336, 8.0], [82.0, 8.027867317199707, 7.599999904632568], [83.0, 7.76547384262085, 8.600000381469727], [84.0, 8.162454605102539, 8.699999809265137], [85.0, 8.78012466430664, 6.800000190734863], [86.0, 7.7754316329956055, 5.799999713897705], [87.0, 6.811590671539307, 6.699999809265137], [88.0, 5.232903957366943, 6.499999523162842], [89.0, 6.297971725463867, 6.699999809265137], [90.0, 6.973487377166748, 8.199999809265137], [91.0, 8.94251823425293, 8.699999809265137], [92.0, 9.00543212890625, 9.800000190734863], [93.0, 10.05842113494873, 9.600000381469727], [94.0, 11.234529495239258, 10.399999618530273], [95.0, 11.58670425415039, 11.100000381469727], [96.0, 11.376029014587402, 9.5], [97.0, 8.665865898132324, 7.599999904632568], [98.0, 5.95246696472168, 6.900000095367432], [99.0, 6.481106281280518, 7.5], [100.0, 7.5324578285217285, 5.199999809265137], [101.0, 5.374574661254883, 5.400000095367432], [102.0, 5.370888710021973, 5.900000095367432], [103.0, 5.8599042892456055, 7.800000190734863], [104.0, 7.402726173400879, 8.399999618530273], [105.0, 7.521522521972656, 6.499999523162842], [106.0, 5.732632160186768, 6.599999904632568], [107.0, 6.269041061401367, 6.499999523162842], [108.0, 6.963031768798828, 6.199999809265137], [109.0, 7.483474254608154, 6.40000057220459], [110.0, 7.407280921936035, 6.300000190734863], [111.0, 6.596372127532959, 5.599999904632568], [112.0, 5.9579362869262695, 5.300000190734863], [113.0, 5.313760280609131, 5.5], [114.0, 5.2942328453063965, 5.300000190734863], [115.0, 5.4011969566345215, 6.0], [116.0, 5.836836814880371, 7.100000381469727], [117.0, 6.845506191253662, 8.0], [118.0, 7.605749130249023, 7.300000190734863], [119.0, 6.879159450531006, 6.900000095367432], [120.0, 7.083446025848389, 5.599999904632568], [121.0, 5.48689603805542, 5.099999904632568], [122.0, 5.405280113220215, 4.300000190734863], [123.0, 5.356775283813477, 4.300000190734863], [124.0, 4.385462760925293, 4.199999809265137], [125.0, 5.067249774932861, 4.800000190734863], [126.0, 5.715911388397217, 5.099999904632568], [127.0, 5.787712097167969, 6.0], [128.0, 5.428382873535156, 5.699999809265137], [129.0, 5.202862739562988, 4.300000190734863], [130.0, 5.040173530578613, 4.599999904632568], [131.0, 5.12375545501709, 3.799999952316284], [132.0, 4.390070915222168, 4.099999904632568], [133.0, 4.4832305908203125, 4.400000095367432], [134.0, 4.920131683349609, 4.800000190734863], [135.0, 4.795965671539307, 3.5999999046325684], [136.0, 3.4994678497314453, 3.5999999046325684], [137.0, 3.4694716930389404, 2.5], [138.0, 2.0828890800476074, 1.5], [139.0, 2.1535181999206543, 2.700000047683716], [140.0, 2.7252728939056396, 3.0], [141.0, 3.0980303287506104, 3.200000286102295], [142.0, 3.6346161365509033, 5.199999809265137], [143.0, 5.25723123550415, 6.199999809265137], [144.0, 7.152544021606445, 10.699999809265137], [145.0, 9.49052619934082, 10.30000114440918], [146.0, 8.687970161437988, 9.199999809265137], [147.0, 8.874100685119629, 7.599999904632568], [148.0, 6.666839122772217, 7.400000095367432], [149.0, 6.824353218078613, 7.0], [150.0, 7.114437103271484, 7.0], [151.0, 6.72752046585083, 6.599999904632568], [152.0, 5.583184242248535, 5.300000190734863], [153.0, 5.170236110687256, 5.900000095367432], [154.0, 6.142881393432617, 6.599999904632568], [155.0, 7.321796417236328, 7.300000190734863], [156.0, 8.790124893188477, 7.599999904632568], [157.0, 7.512479305267334, 7.599999904632568], [158.0, 6.405462265014648, 7.599999904632568], [159.0, 6.563161849975586, 7.5], [160.0, 7.341492176055908, 5.900000095367432], [161.0, 5.155785083770752, 4.099999904632568], [162.0, 5.0402936935424805, 6.699999809265137], [163.0, 5.815286636352539, 6.199999809265137], [164.0, 6.665560722351074, 6.699999809265137], [165.0, 5.563769340515137, 6.800000190734863], [166.0, 6.4696879386901855, 6.300000190734863], [167.0, 5.743752479553223, 4.300000190734863], [168.0, 4.66279935836792, 5.300000190734863], [169.0, 5.198214054107666, 5.699999809265137], [170.0, 5.315372943878174, 5.799999713897705], [171.0, 6.09407901763916, 5.699999809265137], [172.0, 5.764742374420166, 5.099999904632568], [173.0, 3.8697316646575928, 3.799999952316284], [174.0, 3.659329652786255, 2.5], [175.0, 3.9561030864715576, 1.7000000476837158], [176.0, 2.753412961959839, 1.5], [177.0, 1.0337111949920654, 1.5], [178.0, 1.29581618309021, 1.2000000476837158], [179.0, 1.9508397579193115, 0.8999999761581421], [180.0, 1.7417880296707153, 0.8000000715255737], [181.0, 1.4132812023162842, 0.8000000715255737], [182.0, 1.0353268384933472, 0.40000003576278687], [183.0, 0.9248523116111755, 1.7000000476837158], [184.0, 2.1787497997283936, 3.0], [185.0, 2.7907931804656982, 3.5], [186.0, 3.046095609664917, 3.5], [187.0, 2.857823610305786, 2.799999952316284], [188.0, 3.015436887741089, 3.4000000953674316], [189.0, 3.190309762954712, 2.299999952316284], [190.0, 1.6189193725585938, 0.5], [191.0, 1.3936760425567627, 1.2000000476837158], [192.0, 0.9032610058784485, 0.20000001788139343], [193.0, 0.753767192363739, 0.0], [194.0, 0.39652708172798157, 0.0], [195.0, -0.34307101368904114, 0.10000000894069672], [196.0, 0.1481892317533493, 0.10000000894069672], [197.0, 0.2548013925552368, 0.20000001788139343], [198.0, 0.20409774780273438, 0.10000000894069672], [199.0, -0.19100522994995117, 0.0], [200.0, 0.07133719325065613, 0.0], [201.0, 0.26176515221595764, 0.0], [202.0, -0.42677104473114014, 0.0], [203.0, -0.39647918939590454, 0.10000000894069672], [204.0, -0.5132274627685547, 0.0], [205.0, -0.11798702925443649, 0.0], [206.0, -0.3394351601600647, 0.0], [207.0, -0.31961923837661743, 0.0], [208.0, -0.025684993714094162, 0.0], [209.0, -0.44623038172721863, 0.0], [210.0, -1.4549801349639893, 0.0], [211.0, -1.0579745769500732, 0.0], [212.0, -0.20762121677398682, 0.0], [213.0, 0.5029500722885132, 0.10000000894069672], [214.0, 0.03073366917669773, 0.0], [215.0, -0.1857813447713852, 0.20000001788139343], [216.0, 0.08586648106575012, 0.10000000894069672], [217.0, -0.058525200933218, 0.699999988079071], [218.0, 0.19534918665885925, 2.200000047683716], [219.0, 1.0250440835952759, 0.30000001192092896], [220.0, 0.8498944044113159, 0.0], [221.0, 0.6398991346359253, 0.0], [222.0, 0.19474390149116516, 0.0], [223.0, -0.031116779893636703, 0.10000000894069672], [224.0, 0.3420574963092804, 3.0], [225.0, 1.19235360622406, 0.20000001788139343], [226.0, 0.7628809213638306, 0.0], [227.0, 0.24808526039123535, 0.0], [228.0, -0.1151995062828064, 0.0], [229.0, -0.051639508455991745, 0.0], [230.0, 0.15287594497203827, 0.0], [231.0, -1.0763059854507446, 0.0], [232.0, -0.8392647504806519, 0.0], [233.0, -0.18969173729419708, 0.0], [234.0, 0.07402980327606201, 0.0], [235.0, 0.1901451051235199, 0.0], [236.0, -0.026900874450802803, 0.10000000894069672], [237.0, 0.39380592107772827, 0.0], [238.0, 0.33092889189720154, 0.0], [239.0, 0.05535009875893593, 0.0], [240.0, 0.04014657437801361, 0.0], [241.0, 0.020450090989470482, 0.0], [242.0, -0.09604199975728989, 0.0], [243.0, -0.16668513417243958, 0.0], [244.0, -0.11608193814754486, 0.5], [245.0, 0.30120649933815, 0.20000001788139343], [246.0, 0.31110092997550964, 0.0], [247.0, 0.07202259451150894, 0.10000000894069672], [248.0, -0.07150975614786148, 0.0], [249.0, -0.26425209641456604, 0.0], [250.0, -0.27008217573165894, 0.0], [251.0, -0.10740108788013458, 0.5], [252.0, 0.29014089703559875, 0.0], [253.0, 0.2226324826478958, 0.10000000894069672], [254.0, 0.030067820101976395, 0.0], [255.0, -0.0020786828827112913, 0.0], [256.0, 0.017432738095521927, 0.0], [257.0, -0.24365313351154327, 0.0], [258.0, -0.24014334380626678, 0.0], [259.0, 0.08443541824817657, 0.0], [260.0, 0.061719249933958054, 0.0], [261.0, -0.06732290238142014, 0.8999999761581421], [262.0, 0.5751252770423889, 0.20000001788139343], [263.0, 0.79598069190979, 0.8000000715255737], [264.0, 1.5340584516525269, 1.2000000476837158], [265.0, 1.773084282875061, 1.0], [266.0, 1.2851624488830566, 0.5], [267.0, 0.7212117910385132, 0.0], [268.0, 0.3823942542076111, 0.10000000894069672], [269.0, 0.09482155740261078, 0.30000001192092896], [270.0, 0.12390182912349701, 0.0], [271.0, 0.00297767692245543, 0.40000003576278687], [272.0, 0.09079813957214355, 0.0], [273.0, 0.8681621551513672, 0.10000000894069672], [274.0, 0.9359568953514099, 0.0], [275.0, 0.17425128817558289, 0.0], [276.0, -0.28498613834381104, 0.5], [277.0, -0.1950620859861374, 2.8999998569488525], [278.0, 1.7826223373413086, 6.199999809265137], [279.0, 4.493376731872559, 3.700000047683716], [280.0, 3.5179555416107178, 0.40000003576278687], [281.0, 2.197498321533203, 0.0], [282.0, 0.8862450122833252, 0.40000003576278687], [283.0, 0.43511343002319336, 0.20000001788139343], [284.0, 0.2779957950115204, 0.5], [285.0, 0.36272692680358887, 2.8999998569488525], [286.0, 2.0711328983306885, 3.700000047683716], [287.0, 2.3966686725616455, 2.299999952316284], [288.0, 2.2272143363952637, 3.799999952316284], [289.0, 3.193094253540039, 1.2000000476837158], [290.0, 2.4966461658477783, 1.2000000476837158], [291.0, 1.908890724182129, 5.099999904632568], [292.0, 4.176529407501221, 6.800000190734863], [293.0, 5.663677215576172, 6.699999809265137], [294.0, 5.660989284515381, 7.599999904632568], [295.0, 6.344463348388672, 3.4000000953674316], [296.0, 4.692371845245361, 0.10000000894069672], [297.0, 2.918670177459717, 0.0], [298.0, 1.7980635166168213, 0.30000001192092896], [299.0, 1.1106185913085938, 1.7999999523162842], [300.0, 1.0967081785202026, 0.0], [301.0, 0.38732436299324036, 0.20000001788139343], [302.0, 0.31789878010749817, 3.299999952316284], [303.0, 1.6880227327346802, 2.200000047683716], [304.0, 1.6938469409942627, 0.10000000894069672], [305.0, 1.4710693359375, 0.10000000894069672], [306.0, 1.265525221824646, 0.8999999761581421], [307.0, 1.1516971588134766, 0.0], [308.0, 0.7346360087394714, 1.2000000476837158], [309.0, 0.5283368825912476, 6.0], [310.0, 3.581061363220215, 5.5], [311.0, 5.202765464782715, 3.0999999046325684], [312.0, 3.588791608810425, 1.2999999523162842], [313.0, 2.4711647033691406, 2.0], [314.0, 2.5423424243927, 5.0], [315.0, 4.523421764373779, 4.099999904632568], [316.0, 4.759915828704834, 5.300000190734863], [317.0, 5.452463150024414, 9.399999618530273], [318.0, 7.602360725402832, 8.5], [319.0, 7.517724514007568, 8.399999618530273], [320.0, 7.460780143737793, 2.5], [321.0, 4.992471218109131, 2.0], [322.0, 3.610696792602539, 3.9000000953674316], [323.0, 3.7204391956329346, 3.9000000953674316], [324.0, 4.13109827041626, 4.800000190734863], [325.0, 4.548961639404297, 4.800000190734863], [326.0, 5.327854156494141, 4.5], [327.0, 4.591916561126709, 3.799999952316284], [328.0, 3.5171451568603516, 1.7000000476837158], [329.0, 2.417579174041748, 1.7999999523162842], [330.0, 2.485773801803589, 3.299999952316284], [331.0, 3.4362246990203857, 6.0], [332.0, 5.483823299407959, 8.399999618530273], [333.0, 7.591765880584717, 10.199999809265137], [334.0, 8.634580612182617, 8.100000381469727], [335.0, 8.32266902923584, 7.300000190734863], [336.0, 8.001310348510742, 9.699999809265137], [337.0, 9.203145027160645, 9.5], [338.0, 9.652891159057617, 6.900000095367432], [339.0, 8.216458320617676, 5.300000190734863], [340.0, 6.96964693069458, 2.8999998569488525], [341.0, 5.199886322021484, 1.7000000476837158], [342.0, 3.932955741882324, 2.0999999046325684], [343.0, 3.295165538787842, 16.899999618530273], [344.0, 9.763431549072266, 14.5], [345.0, 10.994729042053223, 13.399999618530273], [346.0, 11.480340003967285, 10.499999046325684], [347.0, 10.48849105834961, 8.5], [348.0, 8.150833129882812, 7.5], [349.0, 7.411494255065918, 6.099999904632568], [350.0, 5.89597225189209, 4.599999904632568], [351.0, 5.479290962219238, 4.300000190734863], [352.0, 4.902846813201904, 3.0], [353.0, 4.069547653198242, 5.900000095367432], [354.0, 4.964233875274658, 7.300000190734863], [355.0, 5.646498203277588, 7.5], [356.0, 6.818817138671875, 8.899999618530273], [357.0, 8.09377384185791, 9.699999809265137], [358.0, 8.959050178527832, 10.499999046325684], [359.0, 9.480717658996582, 9.5]], \"data02\": [[0.7408900836320191, 0.9379139072847682, 0.8689293598233996], [0.8006272401433692, 0.9379139072847682, 0.8689293598233996]], \"data03\": [[0.7349163679808841, 0.8252391464311994], [0.9790919952210274, 0.8252391464311994], [0.9850657108721624, 0.8252391464311994], [0.9850657108721624, 0.8344370860927152], [0.9850657108721624, 0.9678072111846947], [0.9850657108721624, 0.9770051508462105], [0.9790919952210274, 0.9770051508462105], [0.7349163679808841, 0.9770051508462105], [0.7289426523297491, 0.9770051508462105], [0.7289426523297491, 0.9678072111846947], [0.7289426523297491, 0.8344370860927152], [0.7289426523297491, 0.8252391464311994], [0.7349163679808841, 0.8252391464311994]]}, \"id\": \"el66139660562441168\", \"plugins\": [{\"type\": \"reset\"}, {\"type\": \"zoom\", \"button\": true, \"enabled\": false}, {\"type\": \"boxzoom\", \"button\": true, \"enabled\": false}]});\n",
              "      });\n",
              "    });\n",
              "}else{\n",
              "    // require.js not available: dynamically load d3 & mpld3\n",
              "    mpld3_load_lib(\"https://d3js.org/d3.v5.js\", function(){\n",
              "         mpld3_load_lib(\"https://mpld3.github.io/js/mpld3.v0.5.5.js\", function(){\n",
              "                 \n",
              "                 mpld3.draw_figure(\"fig_el661396605624411687041887420\", {\"width\": 432.0, \"height\": 288.0, \"axes\": [{\"bbox\": [0.125, 0.125, 0.775, 0.755], \"xlim\": [-17.95, 376.95], \"ylim\": [-2.5377291798591615, 21.282749807834627], \"xdomain\": [-17.95, 376.95], \"ydomain\": [-2.5377291798591615, 21.282749807834627], \"xscale\": \"linear\", \"yscale\": \"linear\", \"axes\": [{\"position\": \"bottom\", \"nticks\": 10, \"tickvalues\": null, \"tickformat_formatter\": \"\", \"tickformat\": null, \"scale\": \"linear\", \"fontsize\": 10.0, \"grid\": {\"gridOn\": false}, \"visible\": true}, {\"position\": \"left\", \"nticks\": 7, \"tickvalues\": null, \"tickformat_formatter\": \"\", \"tickformat\": null, \"scale\": \"linear\", \"fontsize\": 10.0, \"grid\": {\"gridOn\": false}, \"visible\": true}], \"axesbg\": \"#FFFFFF\", \"axesbgalpha\": null, \"zoomable\": true, \"id\": \"el66139660562499664\", \"lines\": [{\"data\": \"data01\", \"xindex\": 0, \"yindex\": 1, \"coordinates\": \"data\", \"id\": \"el66139660562565136\", \"color\": \"#1F77B4\", \"linewidth\": 1.5, \"dasharray\": \"none\", \"alpha\": 1, \"zorder\": 2, \"drawstyle\": \"default\"}, {\"data\": \"data01\", \"xindex\": 0, \"yindex\": 2, \"coordinates\": \"data\", \"id\": \"el66139660562566544\", \"color\": \"#FF7F0E\", \"linewidth\": 1.5, \"dasharray\": \"none\", \"alpha\": 1, \"zorder\": 2, \"drawstyle\": \"default\"}, {\"data\": \"data02\", \"xindex\": 0, \"yindex\": 1, \"coordinates\": \"axes\", \"id\": \"el66139660562601232\", \"color\": \"#1F77B4\", \"linewidth\": 1.5, \"dasharray\": \"none\", \"alpha\": 1, \"zorder\": 1000002.0, \"drawstyle\": \"default\"}, {\"data\": \"data02\", \"xindex\": 0, \"yindex\": 2, \"coordinates\": \"axes\", \"id\": \"el66139660562603024\", \"color\": \"#FF7F0E\", \"linewidth\": 1.5, \"dasharray\": \"none\", \"alpha\": 1, \"zorder\": 1000002.0, \"drawstyle\": \"default\"}], \"paths\": [{\"data\": \"data03\", \"xindex\": 0, \"yindex\": 1, \"coordinates\": \"axes\", \"pathcodes\": [\"M\", \"L\", \"S\", \"L\", \"S\", \"L\", \"S\", \"L\", \"S\", \"Z\"], \"id\": \"el66139660600187280\", \"dasharray\": \"none\", \"alpha\": 0.8, \"facecolor\": \"rgba(255, 255, 255, 0.8)\", \"edgecolor\": \"rgba(204, 204, 204, 0.8)\", \"edgewidth\": 1.0, \"zorder\": 1000000.0}], \"markers\": [], \"texts\": [{\"text\": \"Prediction\", \"position\": [0.8245221027479092, 0.9218175128771156], \"coordinates\": \"axes\", \"h_anchor\": \"start\", \"v_baseline\": \"auto\", \"rotation\": -0.0, \"fontsize\": 10.0, \"color\": \"#000000\", \"alpha\": 1, \"zorder\": 1000003.0, \"id\": \"el66139660562600848\"}, {\"text\": \"Real\", \"position\": [0.8245221027479092, 0.8528329654157469], \"coordinates\": \"axes\", \"h_anchor\": \"start\", \"v_baseline\": \"auto\", \"rotation\": -0.0, \"fontsize\": 10.0, \"color\": \"#000000\", \"alpha\": 1, \"zorder\": 1000003.0, \"id\": \"el66139660562602576\"}], \"collections\": [], \"images\": [], \"sharex\": [], \"sharey\": []}], \"data\": {\"data01\": [[0.0, 0.47031617164611816, 1.899999976158142], [1.0, 1.1837680339813232, 4.099999904632568], [2.0, 2.742615222930908, 3.200000286102295], [3.0, 4.155791282653809, 3.5], [4.0, 4.8978271484375, 3.4000000953674316], [5.0, 4.532318115234375, 1.7999999523162842], [6.0, 3.170147180557251, 0.5], [7.0, 1.6381138563156128, 1.899999976158142], [8.0, 1.7092036008834839, 3.299999952316284], [9.0, 2.856651782989502, 1.7999999523162842], [10.0, 2.6075496673583984, 1.399999976158142], [11.0, 2.1605288982391357, 1.2999999523162842], [12.0, 1.2186261415481567, 1.2000000476837158], [13.0, 1.1353024244308472, 0.8000000715255737], [14.0, 1.1624144315719604, 0.6000000238418579], [15.0, 1.3053759336471558, 1.7000000476837158], [16.0, 2.048198699951172, 0.0], [17.0, 0.8838823437690735, 0.10000000894069672], [18.0, 0.5418211817741394, 1.7000000476837158], [19.0, 1.516541600227356, 1.100000023841858], [20.0, 1.9584895372390747, 3.299999952316284], [21.0, 3.6605441570281982, 2.5], [22.0, 3.4389710426330566, 2.299999952316284], [23.0, 3.085935592651367, 2.799999952316284], [24.0, 3.0827298164367676, 1.2999999523162842], [25.0, 1.5434437990188599, 0.10000000894069672], [26.0, 0.4340481162071228, 0.0], [27.0, 0.6216369867324829, 0.0], [28.0, 0.3359487056732178, 0.0], [29.0, 0.6629940271377563, 0.0], [30.0, 1.071604609489441, 0.0], [31.0, 0.8686092495918274, 0.8999999761581421], [32.0, 1.0944079160690308, 1.100000023841858], [33.0, 1.2789232730865479, 0.0], [34.0, 0.6701107025146484, 0.0], [35.0, 0.29015401005744934, 0.0], [36.0, 0.40385523438453674, 0.0], [37.0, 0.005233349744230509, 0.20000001788139343], [38.0, 0.6225806474685669, 0.5], [39.0, 0.5799485445022583, 0.0], [40.0, 0.7117086052894592, 1.399999976158142], [41.0, 1.4521749019622803, 2.299999952316284], [42.0, 1.8826900720596313, 0.0], [43.0, 1.0523799657821655, 0.0], [44.0, 0.9799597263336182, 9.699999809265137], [45.0, 4.2538909912109375, 11.700000762939453], [46.0, 8.207772254943848, 16.100000381469727], [47.0, 12.429098129272461, 14.899999618530273], [48.0, 13.26511001586914, 20.200000762939453], [49.0, 16.730844497680664, 19.100000381469727], [50.0, 14.721173286437988, 17.5], [51.0, 14.715508460998535, 17.299999237060547], [52.0, 14.269927978515625, 17.200000762939453], [53.0, 14.135676383972168, 14.300000190734863], [54.0, 13.51911449432373, 17.5], [55.0, 13.625629425048828, 15.600000381469727], [56.0, 12.968306541442871, 8.699999809265137], [57.0, 9.693830490112305, 9.100000381469727], [58.0, 9.01990032196045, 11.399999618530273], [59.0, 10.378388404846191, 9.300000190734863], [60.0, 9.424918174743652, 7.800000190734863], [61.0, 8.30269718170166, 12.100000381469727], [62.0, 10.119406700134277, 11.899998664855957], [63.0, 11.261754035949707, 12.300000190734863], [64.0, 11.615386009216309, 10.399999618530273], [65.0, 10.77379322052002, 10.800000190734863], [66.0, 7.818933010101318, 8.600000381469727], [67.0, 7.9660420417785645, 9.399999618530273], [68.0, 9.302851676940918, 16.399999618530273], [69.0, 14.043475151062012, 13.300000190734863], [70.0, 14.248706817626953, 12.300000190734863], [71.0, 13.626585006713867, 14.800000190734863], [72.0, 12.71623420715332, 13.5], [73.0, 12.465472221374512, 12.0], [74.0, 10.648673057556152, 10.100000381469727], [75.0, 9.444122314453125, 11.0], [76.0, 10.04382610321045, 9.600000381469727], [77.0, 9.309775352478027, 10.100000381469727], [78.0, 9.365955352783203, 9.199999809265137], [79.0, 9.459576606750488, 7.599999904632568], [80.0, 8.707832336425781, 7.300000190734863], [81.0, 8.13247299194336, 8.0], [82.0, 8.027867317199707, 7.599999904632568], [83.0, 7.76547384262085, 8.600000381469727], [84.0, 8.162454605102539, 8.699999809265137], [85.0, 8.78012466430664, 6.800000190734863], [86.0, 7.7754316329956055, 5.799999713897705], [87.0, 6.811590671539307, 6.699999809265137], [88.0, 5.232903957366943, 6.499999523162842], [89.0, 6.297971725463867, 6.699999809265137], [90.0, 6.973487377166748, 8.199999809265137], [91.0, 8.94251823425293, 8.699999809265137], [92.0, 9.00543212890625, 9.800000190734863], [93.0, 10.05842113494873, 9.600000381469727], [94.0, 11.234529495239258, 10.399999618530273], [95.0, 11.58670425415039, 11.100000381469727], [96.0, 11.376029014587402, 9.5], [97.0, 8.665865898132324, 7.599999904632568], [98.0, 5.95246696472168, 6.900000095367432], [99.0, 6.481106281280518, 7.5], [100.0, 7.5324578285217285, 5.199999809265137], [101.0, 5.374574661254883, 5.400000095367432], [102.0, 5.370888710021973, 5.900000095367432], [103.0, 5.8599042892456055, 7.800000190734863], [104.0, 7.402726173400879, 8.399999618530273], [105.0, 7.521522521972656, 6.499999523162842], [106.0, 5.732632160186768, 6.599999904632568], [107.0, 6.269041061401367, 6.499999523162842], [108.0, 6.963031768798828, 6.199999809265137], [109.0, 7.483474254608154, 6.40000057220459], [110.0, 7.407280921936035, 6.300000190734863], [111.0, 6.596372127532959, 5.599999904632568], [112.0, 5.9579362869262695, 5.300000190734863], [113.0, 5.313760280609131, 5.5], [114.0, 5.2942328453063965, 5.300000190734863], [115.0, 5.4011969566345215, 6.0], [116.0, 5.836836814880371, 7.100000381469727], [117.0, 6.845506191253662, 8.0], [118.0, 7.605749130249023, 7.300000190734863], [119.0, 6.879159450531006, 6.900000095367432], [120.0, 7.083446025848389, 5.599999904632568], [121.0, 5.48689603805542, 5.099999904632568], [122.0, 5.405280113220215, 4.300000190734863], [123.0, 5.356775283813477, 4.300000190734863], [124.0, 4.385462760925293, 4.199999809265137], [125.0, 5.067249774932861, 4.800000190734863], [126.0, 5.715911388397217, 5.099999904632568], [127.0, 5.787712097167969, 6.0], [128.0, 5.428382873535156, 5.699999809265137], [129.0, 5.202862739562988, 4.300000190734863], [130.0, 5.040173530578613, 4.599999904632568], [131.0, 5.12375545501709, 3.799999952316284], [132.0, 4.390070915222168, 4.099999904632568], [133.0, 4.4832305908203125, 4.400000095367432], [134.0, 4.920131683349609, 4.800000190734863], [135.0, 4.795965671539307, 3.5999999046325684], [136.0, 3.4994678497314453, 3.5999999046325684], [137.0, 3.4694716930389404, 2.5], [138.0, 2.0828890800476074, 1.5], [139.0, 2.1535181999206543, 2.700000047683716], [140.0, 2.7252728939056396, 3.0], [141.0, 3.0980303287506104, 3.200000286102295], [142.0, 3.6346161365509033, 5.199999809265137], [143.0, 5.25723123550415, 6.199999809265137], [144.0, 7.152544021606445, 10.699999809265137], [145.0, 9.49052619934082, 10.30000114440918], [146.0, 8.687970161437988, 9.199999809265137], [147.0, 8.874100685119629, 7.599999904632568], [148.0, 6.666839122772217, 7.400000095367432], [149.0, 6.824353218078613, 7.0], [150.0, 7.114437103271484, 7.0], [151.0, 6.72752046585083, 6.599999904632568], [152.0, 5.583184242248535, 5.300000190734863], [153.0, 5.170236110687256, 5.900000095367432], [154.0, 6.142881393432617, 6.599999904632568], [155.0, 7.321796417236328, 7.300000190734863], [156.0, 8.790124893188477, 7.599999904632568], [157.0, 7.512479305267334, 7.599999904632568], [158.0, 6.405462265014648, 7.599999904632568], [159.0, 6.563161849975586, 7.5], [160.0, 7.341492176055908, 5.900000095367432], [161.0, 5.155785083770752, 4.099999904632568], [162.0, 5.0402936935424805, 6.699999809265137], [163.0, 5.815286636352539, 6.199999809265137], [164.0, 6.665560722351074, 6.699999809265137], [165.0, 5.563769340515137, 6.800000190734863], [166.0, 6.4696879386901855, 6.300000190734863], [167.0, 5.743752479553223, 4.300000190734863], [168.0, 4.66279935836792, 5.300000190734863], [169.0, 5.198214054107666, 5.699999809265137], [170.0, 5.315372943878174, 5.799999713897705], [171.0, 6.09407901763916, 5.699999809265137], [172.0, 5.764742374420166, 5.099999904632568], [173.0, 3.8697316646575928, 3.799999952316284], [174.0, 3.659329652786255, 2.5], [175.0, 3.9561030864715576, 1.7000000476837158], [176.0, 2.753412961959839, 1.5], [177.0, 1.0337111949920654, 1.5], [178.0, 1.29581618309021, 1.2000000476837158], [179.0, 1.9508397579193115, 0.8999999761581421], [180.0, 1.7417880296707153, 0.8000000715255737], [181.0, 1.4132812023162842, 0.8000000715255737], [182.0, 1.0353268384933472, 0.40000003576278687], [183.0, 0.9248523116111755, 1.7000000476837158], [184.0, 2.1787497997283936, 3.0], [185.0, 2.7907931804656982, 3.5], [186.0, 3.046095609664917, 3.5], [187.0, 2.857823610305786, 2.799999952316284], [188.0, 3.015436887741089, 3.4000000953674316], [189.0, 3.190309762954712, 2.299999952316284], [190.0, 1.6189193725585938, 0.5], [191.0, 1.3936760425567627, 1.2000000476837158], [192.0, 0.9032610058784485, 0.20000001788139343], [193.0, 0.753767192363739, 0.0], [194.0, 0.39652708172798157, 0.0], [195.0, -0.34307101368904114, 0.10000000894069672], [196.0, 0.1481892317533493, 0.10000000894069672], [197.0, 0.2548013925552368, 0.20000001788139343], [198.0, 0.20409774780273438, 0.10000000894069672], [199.0, -0.19100522994995117, 0.0], [200.0, 0.07133719325065613, 0.0], [201.0, 0.26176515221595764, 0.0], [202.0, -0.42677104473114014, 0.0], [203.0, -0.39647918939590454, 0.10000000894069672], [204.0, -0.5132274627685547, 0.0], [205.0, -0.11798702925443649, 0.0], [206.0, -0.3394351601600647, 0.0], [207.0, -0.31961923837661743, 0.0], [208.0, -0.025684993714094162, 0.0], [209.0, -0.44623038172721863, 0.0], [210.0, -1.4549801349639893, 0.0], [211.0, -1.0579745769500732, 0.0], [212.0, -0.20762121677398682, 0.0], [213.0, 0.5029500722885132, 0.10000000894069672], [214.0, 0.03073366917669773, 0.0], [215.0, -0.1857813447713852, 0.20000001788139343], [216.0, 0.08586648106575012, 0.10000000894069672], [217.0, -0.058525200933218, 0.699999988079071], [218.0, 0.19534918665885925, 2.200000047683716], [219.0, 1.0250440835952759, 0.30000001192092896], [220.0, 0.8498944044113159, 0.0], [221.0, 0.6398991346359253, 0.0], [222.0, 0.19474390149116516, 0.0], [223.0, -0.031116779893636703, 0.10000000894069672], [224.0, 0.3420574963092804, 3.0], [225.0, 1.19235360622406, 0.20000001788139343], [226.0, 0.7628809213638306, 0.0], [227.0, 0.24808526039123535, 0.0], [228.0, -0.1151995062828064, 0.0], [229.0, -0.051639508455991745, 0.0], [230.0, 0.15287594497203827, 0.0], [231.0, -1.0763059854507446, 0.0], [232.0, -0.8392647504806519, 0.0], [233.0, -0.18969173729419708, 0.0], [234.0, 0.07402980327606201, 0.0], [235.0, 0.1901451051235199, 0.0], [236.0, -0.026900874450802803, 0.10000000894069672], [237.0, 0.39380592107772827, 0.0], [238.0, 0.33092889189720154, 0.0], [239.0, 0.05535009875893593, 0.0], [240.0, 0.04014657437801361, 0.0], [241.0, 0.020450090989470482, 0.0], [242.0, -0.09604199975728989, 0.0], [243.0, -0.16668513417243958, 0.0], [244.0, -0.11608193814754486, 0.5], [245.0, 0.30120649933815, 0.20000001788139343], [246.0, 0.31110092997550964, 0.0], [247.0, 0.07202259451150894, 0.10000000894069672], [248.0, -0.07150975614786148, 0.0], [249.0, -0.26425209641456604, 0.0], [250.0, -0.27008217573165894, 0.0], [251.0, -0.10740108788013458, 0.5], [252.0, 0.29014089703559875, 0.0], [253.0, 0.2226324826478958, 0.10000000894069672], [254.0, 0.030067820101976395, 0.0], [255.0, -0.0020786828827112913, 0.0], [256.0, 0.017432738095521927, 0.0], [257.0, -0.24365313351154327, 0.0], [258.0, -0.24014334380626678, 0.0], [259.0, 0.08443541824817657, 0.0], [260.0, 0.061719249933958054, 0.0], [261.0, -0.06732290238142014, 0.8999999761581421], [262.0, 0.5751252770423889, 0.20000001788139343], [263.0, 0.79598069190979, 0.8000000715255737], [264.0, 1.5340584516525269, 1.2000000476837158], [265.0, 1.773084282875061, 1.0], [266.0, 1.2851624488830566, 0.5], [267.0, 0.7212117910385132, 0.0], [268.0, 0.3823942542076111, 0.10000000894069672], [269.0, 0.09482155740261078, 0.30000001192092896], [270.0, 0.12390182912349701, 0.0], [271.0, 0.00297767692245543, 0.40000003576278687], [272.0, 0.09079813957214355, 0.0], [273.0, 0.8681621551513672, 0.10000000894069672], [274.0, 0.9359568953514099, 0.0], [275.0, 0.17425128817558289, 0.0], [276.0, -0.28498613834381104, 0.5], [277.0, -0.1950620859861374, 2.8999998569488525], [278.0, 1.7826223373413086, 6.199999809265137], [279.0, 4.493376731872559, 3.700000047683716], [280.0, 3.5179555416107178, 0.40000003576278687], [281.0, 2.197498321533203, 0.0], [282.0, 0.8862450122833252, 0.40000003576278687], [283.0, 0.43511343002319336, 0.20000001788139343], [284.0, 0.2779957950115204, 0.5], [285.0, 0.36272692680358887, 2.8999998569488525], [286.0, 2.0711328983306885, 3.700000047683716], [287.0, 2.3966686725616455, 2.299999952316284], [288.0, 2.2272143363952637, 3.799999952316284], [289.0, 3.193094253540039, 1.2000000476837158], [290.0, 2.4966461658477783, 1.2000000476837158], [291.0, 1.908890724182129, 5.099999904632568], [292.0, 4.176529407501221, 6.800000190734863], [293.0, 5.663677215576172, 6.699999809265137], [294.0, 5.660989284515381, 7.599999904632568], [295.0, 6.344463348388672, 3.4000000953674316], [296.0, 4.692371845245361, 0.10000000894069672], [297.0, 2.918670177459717, 0.0], [298.0, 1.7980635166168213, 0.30000001192092896], [299.0, 1.1106185913085938, 1.7999999523162842], [300.0, 1.0967081785202026, 0.0], [301.0, 0.38732436299324036, 0.20000001788139343], [302.0, 0.31789878010749817, 3.299999952316284], [303.0, 1.6880227327346802, 2.200000047683716], [304.0, 1.6938469409942627, 0.10000000894069672], [305.0, 1.4710693359375, 0.10000000894069672], [306.0, 1.265525221824646, 0.8999999761581421], [307.0, 1.1516971588134766, 0.0], [308.0, 0.7346360087394714, 1.2000000476837158], [309.0, 0.5283368825912476, 6.0], [310.0, 3.581061363220215, 5.5], [311.0, 5.202765464782715, 3.0999999046325684], [312.0, 3.588791608810425, 1.2999999523162842], [313.0, 2.4711647033691406, 2.0], [314.0, 2.5423424243927, 5.0], [315.0, 4.523421764373779, 4.099999904632568], [316.0, 4.759915828704834, 5.300000190734863], [317.0, 5.452463150024414, 9.399999618530273], [318.0, 7.602360725402832, 8.5], [319.0, 7.517724514007568, 8.399999618530273], [320.0, 7.460780143737793, 2.5], [321.0, 4.992471218109131, 2.0], [322.0, 3.610696792602539, 3.9000000953674316], [323.0, 3.7204391956329346, 3.9000000953674316], [324.0, 4.13109827041626, 4.800000190734863], [325.0, 4.548961639404297, 4.800000190734863], [326.0, 5.327854156494141, 4.5], [327.0, 4.591916561126709, 3.799999952316284], [328.0, 3.5171451568603516, 1.7000000476837158], [329.0, 2.417579174041748, 1.7999999523162842], [330.0, 2.485773801803589, 3.299999952316284], [331.0, 3.4362246990203857, 6.0], [332.0, 5.483823299407959, 8.399999618530273], [333.0, 7.591765880584717, 10.199999809265137], [334.0, 8.634580612182617, 8.100000381469727], [335.0, 8.32266902923584, 7.300000190734863], [336.0, 8.001310348510742, 9.699999809265137], [337.0, 9.203145027160645, 9.5], [338.0, 9.652891159057617, 6.900000095367432], [339.0, 8.216458320617676, 5.300000190734863], [340.0, 6.96964693069458, 2.8999998569488525], [341.0, 5.199886322021484, 1.7000000476837158], [342.0, 3.932955741882324, 2.0999999046325684], [343.0, 3.295165538787842, 16.899999618530273], [344.0, 9.763431549072266, 14.5], [345.0, 10.994729042053223, 13.399999618530273], [346.0, 11.480340003967285, 10.499999046325684], [347.0, 10.48849105834961, 8.5], [348.0, 8.150833129882812, 7.5], [349.0, 7.411494255065918, 6.099999904632568], [350.0, 5.89597225189209, 4.599999904632568], [351.0, 5.479290962219238, 4.300000190734863], [352.0, 4.902846813201904, 3.0], [353.0, 4.069547653198242, 5.900000095367432], [354.0, 4.964233875274658, 7.300000190734863], [355.0, 5.646498203277588, 7.5], [356.0, 6.818817138671875, 8.899999618530273], [357.0, 8.09377384185791, 9.699999809265137], [358.0, 8.959050178527832, 10.499999046325684], [359.0, 9.480717658996582, 9.5]], \"data02\": [[0.7408900836320191, 0.9379139072847682, 0.8689293598233996], [0.8006272401433692, 0.9379139072847682, 0.8689293598233996]], \"data03\": [[0.7349163679808841, 0.8252391464311994], [0.9790919952210274, 0.8252391464311994], [0.9850657108721624, 0.8252391464311994], [0.9850657108721624, 0.8344370860927152], [0.9850657108721624, 0.9678072111846947], [0.9850657108721624, 0.9770051508462105], [0.9790919952210274, 0.9770051508462105], [0.7349163679808841, 0.9770051508462105], [0.7289426523297491, 0.9770051508462105], [0.7289426523297491, 0.9678072111846947], [0.7289426523297491, 0.8344370860927152], [0.7289426523297491, 0.8252391464311994], [0.7349163679808841, 0.8252391464311994]]}, \"id\": \"el66139660562441168\", \"plugins\": [{\"type\": \"reset\"}, {\"type\": \"zoom\", \"button\": true, \"enabled\": false}, {\"type\": \"boxzoom\", \"button\": true, \"enabled\": false}]});\n",
              "            })\n",
              "         });\n",
              "}\n",
              "</script>"
            ],
            "text/plain": [
              "<IPython.core.display.HTML object>"
            ]
          },
          "execution_count": 11,
          "metadata": {},
          "output_type": "execute_result"
        }
      ]
    },
    {
      "cell_type": "markdown",
      "metadata": {
        "id": "3Q0ykqpFDURq"
      },
      "source": [
        "# Modeling with hyperparamenter search"
      ]
    },
    {
      "cell_type": "code",
      "metadata": {
        "colab": {
          "base_uri": "https://localhost:8080/"
        },
        "id": "mDxlDo3dDfWx",
        "outputId": "88128f44-0209-4366-f7a2-fad46b8a3caa"
      },
      "source": [
        "!pip install -q -U keras-tuner"
      ],
      "execution_count": null,
      "outputs": [
        {
          "name": "stdout",
          "output_type": "stream",
          "text": [
            "\u001b[?25l\r\u001b[K     |███▍                            | 10 kB 21.3 MB/s eta 0:00:01\r\u001b[K     |██████▊                         | 20 kB 26.1 MB/s eta 0:00:01\r\u001b[K     |██████████                      | 30 kB 12.0 MB/s eta 0:00:01\r\u001b[K     |█████████████▍                  | 40 kB 9.2 MB/s eta 0:00:01\r\u001b[K     |████████████████▊               | 51 kB 5.2 MB/s eta 0:00:01\r\u001b[K     |████████████████████            | 61 kB 5.7 MB/s eta 0:00:01\r\u001b[K     |███████████████████████▍        | 71 kB 5.5 MB/s eta 0:00:01\r\u001b[K     |██████████████████████████▊     | 81 kB 6.1 MB/s eta 0:00:01\r\u001b[K     |██████████████████████████████  | 92 kB 4.7 MB/s eta 0:00:01\r\u001b[K     |████████████████████████████████| 98 kB 2.8 MB/s \n",
            "\u001b[?25h"
          ]
        }
      ]
    },
    {
      "cell_type": "code",
      "metadata": {
        "id": "a_ykkd6DDYms"
      },
      "source": [
        "import tensorflow as tf\n",
        "from tensorflow import keras\n",
        "import keras_tuner as kt"
      ],
      "execution_count": null,
      "outputs": []
    },
    {
      "cell_type": "code",
      "metadata": {
        "colab": {
          "base_uri": "https://localhost:8080/"
        },
        "id": "KqJaEiI8OiX2",
        "outputId": "d04bbc7f-743f-4ea7-9f54-3b2f88ae232a"
      },
      "source": [
        "tf.config.list_physical_devices('GPU')"
      ],
      "execution_count": null,
      "outputs": [
        {
          "data": {
            "text/plain": [
              "[]"
            ]
          },
          "execution_count": 14,
          "metadata": {},
          "output_type": "execute_result"
        }
      ]
    },
    {
      "cell_type": "code",
      "metadata": {
        "id": "YaRj2wPcDp6h"
      },
      "source": [
        "def model_builder(hp):\n",
        "  # design network\n",
        "  hp_units = hp.Int('units', min_value=32, max_value=512, step=32)\n",
        "  model = Sequential()\n",
        "  model.add(LSTM(units = hp_units,return_sequences=True, input_shape=(train_X.shape[1], train_X.shape[2])))\n",
        "  for i in range(hp.Int('layers',1,3)):\n",
        "   model.add(LSTM(units = hp_units, return_sequences=True))\n",
        "  model.add(LSTM(units = hp_units, return_sequences=False))\n",
        "  model.add(Dense(1))\n",
        "  hp_learning_rate = hp.Choice('learning_rate', values=[1e-2, 1e-3, 1e-4])\n",
        "  model.compile(loss='mae', optimizer=keras.optimizers.Adam(learning_rate=hp_learning_rate))\n",
        "  return model"
      ],
      "execution_count": null,
      "outputs": []
    },
    {
      "cell_type": "code",
      "metadata": {
        "colab": {
          "base_uri": "https://localhost:8080/"
        },
        "id": "ZHv2TK6MGMF1",
        "outputId": "dabcb6a0-2cf3-4036-8015-3bb09557d399"
      },
      "source": [
        "tuner = kt.RandomSearch(\n",
        "    model_builder,\n",
        "    objective='val_loss',\n",
        "    max_trials=10,\n",
        "    executions_per_trial =3,\n",
        "    directory = 'dir',\n",
        "    project_name = 'namee')\n",
        "tuner.search_space_summary()"
      ],
      "execution_count": null,
      "outputs": [
        {
          "name": "stdout",
          "output_type": "stream",
          "text": [
            "Search space summary\n",
            "Default search space size: 3\n",
            "units (Int)\n",
            "{'default': None, 'conditions': [], 'min_value': 32, 'max_value': 512, 'step': 32, 'sampling': None}\n",
            "layers (Int)\n",
            "{'default': None, 'conditions': [], 'min_value': 1, 'max_value': 3, 'step': 1, 'sampling': None}\n",
            "learning_rate (Choice)\n",
            "{'default': 0.01, 'conditions': [], 'values': [0.01, 0.001, 0.0001], 'ordered': True}\n"
          ]
        }
      ]
    },
    {
      "cell_type": "code",
      "metadata": {
        "colab": {
          "base_uri": "https://localhost:8080/"
        },
        "id": "M-Jjf4glG9h4",
        "outputId": "6618d6dc-5925-4085-9794-72a040941c86"
      },
      "source": [
        "early_stopping = EarlyStopping(monitor='val_loss',patience=10)\n",
        "tuner.search(train_X, train_y, epochs=100, batch_size=72, validation_data=(test_X, test_y),shuffle=False, callbacks=[early_stopping])"
      ],
      "execution_count": null,
      "outputs": [
        {
          "name": "stdout",
          "output_type": "stream",
          "text": [
            "Trial 10 Complete [00h 03m 25s]\n",
            "val_loss: 0.08057895551125209\n",
            "\n",
            "Best val_loss So Far: 0.052939437329769135\n",
            "Total elapsed time: 00h 55m 57s\n",
            "INFO:tensorflow:Oracle triggered exit\n"
          ]
        }
      ]
    },
    {
      "cell_type": "code",
      "metadata": {
        "id": "gVo9l3foLH15"
      },
      "source": [
        "tuner.results_summary()"
      ],
      "execution_count": null,
      "outputs": []
    },
    {
      "cell_type": "markdown",
      "metadata": {
        "id": "nm9281SoM7Hy"
      },
      "source": [
        "### Hyperband"
      ]
    },
    {
      "cell_type": "code",
      "metadata": {
        "colab": {
          "base_uri": "https://localhost:8080/"
        },
        "id": "0IMZiMT1KAO6",
        "outputId": "fe89d8de-856f-4dd0-fd89-6f516b9b32b8"
      },
      "source": [
        "tuner = kt.Hyperband(model_builder,\n",
        "                     objective='val_loss',\n",
        "                     max_epochs=10,\n",
        "                     factor=3,\n",
        "                     directory='my_dir',\n",
        "                     project_name='intro_to_kt')"
      ],
      "execution_count": null,
      "outputs": [
        {
          "name": "stdout",
          "output_type": "stream",
          "text": [
            "INFO:tensorflow:Reloading Oracle from existing project my_dir/intro_to_kt/oracle.json\n",
            "INFO:tensorflow:Reloading Tuner from my_dir/intro_to_kt/tuner0.json\n"
          ]
        }
      ]
    },
    {
      "cell_type": "code",
      "metadata": {
        "id": "n6r3Ft2PIahk"
      },
      "source": [
        "tuner.search(train_X, train_y, epochs=1000, batch_size=72, validation_data=(test_X, test_y),shuffle=False, callbacks=[early_stopping])"
      ],
      "execution_count": null,
      "outputs": []
    }
  ]
}