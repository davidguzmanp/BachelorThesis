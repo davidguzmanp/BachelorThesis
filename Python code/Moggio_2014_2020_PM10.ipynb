{
  "cells": [
    {
      "cell_type": "code",
      "execution_count": 62,
      "metadata": {
        "id": "50h6XyhAz59c"
      },
      "outputs": [],
      "source": [
        "from math import sqrt\n",
        "from numpy import concatenate\n",
        "from matplotlib import pyplot\n",
        "import seaborn as sns\n",
        "from pandas import read_csv\n",
        "from pandas import DataFrame\n",
        "from pandas import concat\n",
        "from sklearn.preprocessing import MinMaxScaler\n",
        "from sklearn.preprocessing import LabelEncoder\n",
        "from sklearn.metrics import mean_squared_error\n",
        "from tensorflow.keras.models import Sequential\n",
        "from tensorflow.keras.layers import Dense\n",
        "from tensorflow.keras.layers import LSTM\n",
        "from tensorflow.keras.callbacks import EarlyStopping\n",
        "from tensorflow import keras\n"
      ]
    },
    {
      "cell_type": "code",
      "execution_count": 54,
      "metadata": {
        "colab": {
          "base_uri": "https://localhost:8080/",
          "height": 444
        },
        "id": "eA2CKbjH0LRW",
        "outputId": "ef6612fc-f87e-485b-9296-049d4766b715"
      },
      "outputs": [
        {
          "data": {
            "text/html": [
              "<div>\n",
              "<style scoped>\n",
              "    .dataframe tbody tr th:only-of-type {\n",
              "        vertical-align: middle;\n",
              "    }\n",
              "\n",
              "    .dataframe tbody tr th {\n",
              "        vertical-align: top;\n",
              "    }\n",
              "\n",
              "    .dataframe thead th {\n",
              "        text-align: right;\n",
              "    }\n",
              "</style>\n",
              "<table border=\"1\" class=\"dataframe\">\n",
              "  <thead>\n",
              "    <tr style=\"text-align: right;\">\n",
              "      <th></th>\n",
              "      <th>Date</th>\n",
              "      <th>IDStation</th>\n",
              "      <th>NameStation</th>\n",
              "      <th>Ammonia</th>\n",
              "      <th>Arsenic</th>\n",
              "      <th>Benzo_a_pyrene</th>\n",
              "      <th>Cadmium</th>\n",
              "      <th>Lead</th>\n",
              "      <th>Nikel</th>\n",
              "      <th>NO</th>\n",
              "      <th>...</th>\n",
              "      <th>IDStation.2</th>\n",
              "      <th>NameStation.1</th>\n",
              "      <th>Wind_speed</th>\n",
              "      <th>Wind_direction</th>\n",
              "      <th>Temperature</th>\n",
              "      <th>Relative_humidity</th>\n",
              "      <th>Global_radiation</th>\n",
              "      <th>Wind_speed_max</th>\n",
              "      <th>Wind_direction_max</th>\n",
              "      <th>Rainfall</th>\n",
              "    </tr>\n",
              "  </thead>\n",
              "  <tbody>\n",
              "    <tr>\n",
              "      <th>0</th>\n",
              "      <td>2014-01-01T00:00:00Z</td>\n",
              "      <td>681</td>\n",
              "      <td>Moggio Loc Penscei</td>\n",
              "      <td>0.0</td>\n",
              "      <td>NaN</td>\n",
              "      <td>0.1</td>\n",
              "      <td>NaN</td>\n",
              "      <td>NaN</td>\n",
              "      <td>NaN</td>\n",
              "      <td>NaN</td>\n",
              "      <td>...</td>\n",
              "      <td>111</td>\n",
              "      <td>Cassina Valsassina Moggio</td>\n",
              "      <td>0.443554</td>\n",
              "      <td>99.0</td>\n",
              "      <td>-0.334965</td>\n",
              "      <td>45.545455</td>\n",
              "      <td>58.097902</td>\n",
              "      <td>1.805594</td>\n",
              "      <td>143.0</td>\n",
              "      <td>0.0</td>\n",
              "    </tr>\n",
              "    <tr>\n",
              "      <th>1</th>\n",
              "      <td>2014-01-02T00:00:00Z</td>\n",
              "      <td>681</td>\n",
              "      <td>Moggio Loc Penscei</td>\n",
              "      <td>0.0</td>\n",
              "      <td>NaN</td>\n",
              "      <td>NaN</td>\n",
              "      <td>NaN</td>\n",
              "      <td>NaN</td>\n",
              "      <td>NaN</td>\n",
              "      <td>NaN</td>\n",
              "      <td>...</td>\n",
              "      <td>111</td>\n",
              "      <td>Cassina Valsassina Moggio</td>\n",
              "      <td>0.355915</td>\n",
              "      <td>105.0</td>\n",
              "      <td>-0.486111</td>\n",
              "      <td>83.944444</td>\n",
              "      <td>0.000000</td>\n",
              "      <td>1.767361</td>\n",
              "      <td>153.0</td>\n",
              "      <td>7.8</td>\n",
              "    </tr>\n",
              "    <tr>\n",
              "      <th>2</th>\n",
              "      <td>2014-01-03T00:00:00Z</td>\n",
              "      <td>681</td>\n",
              "      <td>Moggio Loc Penscei</td>\n",
              "      <td>0.0</td>\n",
              "      <td>1.1</td>\n",
              "      <td>NaN</td>\n",
              "      <td>0.0</td>\n",
              "      <td>1.1</td>\n",
              "      <td>4.2</td>\n",
              "      <td>NaN</td>\n",
              "      <td>...</td>\n",
              "      <td>111</td>\n",
              "      <td>Cassina Valsassina Moggio</td>\n",
              "      <td>0.207631</td>\n",
              "      <td>120.0</td>\n",
              "      <td>2.220588</td>\n",
              "      <td>87.042254</td>\n",
              "      <td>30.514085</td>\n",
              "      <td>1.558451</td>\n",
              "      <td>152.0</td>\n",
              "      <td>0.0</td>\n",
              "    </tr>\n",
              "    <tr>\n",
              "      <th>3</th>\n",
              "      <td>2014-01-04T00:00:00Z</td>\n",
              "      <td>681</td>\n",
              "      <td>Moggio Loc Penscei</td>\n",
              "      <td>0.0</td>\n",
              "      <td>NaN</td>\n",
              "      <td>0.1</td>\n",
              "      <td>NaN</td>\n",
              "      <td>NaN</td>\n",
              "      <td>NaN</td>\n",
              "      <td>NaN</td>\n",
              "      <td>...</td>\n",
              "      <td>111</td>\n",
              "      <td>Cassina Valsassina Moggio</td>\n",
              "      <td>1.024926</td>\n",
              "      <td>175.0</td>\n",
              "      <td>2.137063</td>\n",
              "      <td>89.349650</td>\n",
              "      <td>0.202797</td>\n",
              "      <td>3.816783</td>\n",
              "      <td>164.0</td>\n",
              "      <td>35.8</td>\n",
              "    </tr>\n",
              "    <tr>\n",
              "      <th>4</th>\n",
              "      <td>2014-01-05T00:00:00Z</td>\n",
              "      <td>681</td>\n",
              "      <td>Moggio Loc Penscei</td>\n",
              "      <td>0.0</td>\n",
              "      <td>NaN</td>\n",
              "      <td>NaN</td>\n",
              "      <td>NaN</td>\n",
              "      <td>NaN</td>\n",
              "      <td>NaN</td>\n",
              "      <td>NaN</td>\n",
              "      <td>...</td>\n",
              "      <td>111</td>\n",
              "      <td>Cassina Valsassina Moggio</td>\n",
              "      <td>0.666721</td>\n",
              "      <td>94.0</td>\n",
              "      <td>2.416084</td>\n",
              "      <td>86.055944</td>\n",
              "      <td>10.951049</td>\n",
              "      <td>2.797203</td>\n",
              "      <td>136.0</td>\n",
              "      <td>25.0</td>\n",
              "    </tr>\n",
              "  </tbody>\n",
              "</table>\n",
              "<p>5 rows × 28 columns</p>\n",
              "</div>"
            ],
            "text/plain": [
              "                   Date  IDStation         NameStation  Ammonia  Arsenic  \\\n",
              "0  2014-01-01T00:00:00Z        681  Moggio Loc Penscei      0.0      NaN   \n",
              "1  2014-01-02T00:00:00Z        681  Moggio Loc Penscei      0.0      NaN   \n",
              "2  2014-01-03T00:00:00Z        681  Moggio Loc Penscei      0.0      1.1   \n",
              "3  2014-01-04T00:00:00Z        681  Moggio Loc Penscei      0.0      NaN   \n",
              "4  2014-01-05T00:00:00Z        681  Moggio Loc Penscei      0.0      NaN   \n",
              "\n",
              "   Benzo_a_pyrene  Cadmium  Lead  Nikel  NO  ...  IDStation.2  \\\n",
              "0             0.1      NaN   NaN    NaN NaN  ...          111   \n",
              "1             NaN      NaN   NaN    NaN NaN  ...          111   \n",
              "2             NaN      0.0   1.1    4.2 NaN  ...          111   \n",
              "3             0.1      NaN   NaN    NaN NaN  ...          111   \n",
              "4             NaN      NaN   NaN    NaN NaN  ...          111   \n",
              "\n",
              "               NameStation.1  Wind_speed  Wind_direction  Temperature  \\\n",
              "0  Cassina Valsassina Moggio    0.443554            99.0    -0.334965   \n",
              "1  Cassina Valsassina Moggio    0.355915           105.0    -0.486111   \n",
              "2  Cassina Valsassina Moggio    0.207631           120.0     2.220588   \n",
              "3  Cassina Valsassina Moggio    1.024926           175.0     2.137063   \n",
              "4  Cassina Valsassina Moggio    0.666721            94.0     2.416084   \n",
              "\n",
              "   Relative_humidity  Global_radiation Wind_speed_max  Wind_direction_max  \\\n",
              "0          45.545455         58.097902       1.805594               143.0   \n",
              "1          83.944444          0.000000       1.767361               153.0   \n",
              "2          87.042254         30.514085       1.558451               152.0   \n",
              "3          89.349650          0.202797       3.816783               164.0   \n",
              "4          86.055944         10.951049       2.797203               136.0   \n",
              "\n",
              "  Rainfall  \n",
              "0      0.0  \n",
              "1      7.8  \n",
              "2      0.0  \n",
              "3     35.8  \n",
              "4     25.0  \n",
              "\n",
              "[5 rows x 28 columns]"
            ]
          },
          "execution_count": 54,
          "metadata": {},
          "output_type": "execute_result"
        }
      ],
      "source": [
        "#table = read_csv('/Users/davidguzman/Downloads/Quadranti.csv')\n",
        "table = read_csv('/Users/davidguzman/Documents/GitHub/BachelorThesis/csvs/NNdata14_20.csv')\n",
        "table.head()"
      ]
    },
    {
      "cell_type": "code",
      "execution_count": 55,
      "metadata": {
        "colab": {
          "base_uri": "https://localhost:8080/",
          "height": 206
        },
        "id": "ApNM1Dpm0ai-",
        "outputId": "08578560-2fdb-4dfc-e8c6-d95329f4e723"
      },
      "outputs": [
        {
          "data": {
            "text/html": [
              "<div>\n",
              "<style scoped>\n",
              "    .dataframe tbody tr th:only-of-type {\n",
              "        vertical-align: middle;\n",
              "    }\n",
              "\n",
              "    .dataframe tbody tr th {\n",
              "        vertical-align: top;\n",
              "    }\n",
              "\n",
              "    .dataframe thead th {\n",
              "        text-align: right;\n",
              "    }\n",
              "</style>\n",
              "<table border=\"1\" class=\"dataframe\">\n",
              "  <thead>\n",
              "    <tr style=\"text-align: right;\">\n",
              "      <th></th>\n",
              "      <th>index</th>\n",
              "      <th>Date</th>\n",
              "      <th>PM10</th>\n",
              "      <th>Ammonia</th>\n",
              "      <th>Wind_speed</th>\n",
              "      <th>Wind_direction</th>\n",
              "      <th>Temperature</th>\n",
              "      <th>Rainfall</th>\n",
              "    </tr>\n",
              "  </thead>\n",
              "  <tbody>\n",
              "    <tr>\n",
              "      <th>0</th>\n",
              "      <td>0</td>\n",
              "      <td>2014-01-01T00:00:00Z</td>\n",
              "      <td>6.0</td>\n",
              "      <td>0.0</td>\n",
              "      <td>0.443554</td>\n",
              "      <td>99.0</td>\n",
              "      <td>-0.334965</td>\n",
              "      <td>0.0</td>\n",
              "    </tr>\n",
              "    <tr>\n",
              "      <th>1</th>\n",
              "      <td>1</td>\n",
              "      <td>2014-01-02T00:00:00Z</td>\n",
              "      <td>6.0</td>\n",
              "      <td>0.0</td>\n",
              "      <td>0.355915</td>\n",
              "      <td>105.0</td>\n",
              "      <td>-0.486111</td>\n",
              "      <td>7.8</td>\n",
              "    </tr>\n",
              "    <tr>\n",
              "      <th>2</th>\n",
              "      <td>2</td>\n",
              "      <td>2014-01-03T00:00:00Z</td>\n",
              "      <td>11.0</td>\n",
              "      <td>0.0</td>\n",
              "      <td>0.207631</td>\n",
              "      <td>120.0</td>\n",
              "      <td>2.220588</td>\n",
              "      <td>0.0</td>\n",
              "    </tr>\n",
              "    <tr>\n",
              "      <th>3</th>\n",
              "      <td>3</td>\n",
              "      <td>2014-01-04T00:00:00Z</td>\n",
              "      <td>6.0</td>\n",
              "      <td>0.0</td>\n",
              "      <td>1.024926</td>\n",
              "      <td>175.0</td>\n",
              "      <td>2.137063</td>\n",
              "      <td>35.8</td>\n",
              "    </tr>\n",
              "    <tr>\n",
              "      <th>4</th>\n",
              "      <td>4</td>\n",
              "      <td>2014-01-05T00:00:00Z</td>\n",
              "      <td>3.0</td>\n",
              "      <td>0.0</td>\n",
              "      <td>0.666721</td>\n",
              "      <td>94.0</td>\n",
              "      <td>2.416084</td>\n",
              "      <td>25.0</td>\n",
              "    </tr>\n",
              "  </tbody>\n",
              "</table>\n",
              "</div>"
            ],
            "text/plain": [
              "   index                  Date  PM10  Ammonia  Wind_speed  Wind_direction  \\\n",
              "0      0  2014-01-01T00:00:00Z   6.0      0.0    0.443554            99.0   \n",
              "1      1  2014-01-02T00:00:00Z   6.0      0.0    0.355915           105.0   \n",
              "2      2  2014-01-03T00:00:00Z  11.0      0.0    0.207631           120.0   \n",
              "3      3  2014-01-04T00:00:00Z   6.0      0.0    1.024926           175.0   \n",
              "4      4  2014-01-05T00:00:00Z   3.0      0.0    0.666721            94.0   \n",
              "\n",
              "   Temperature  Rainfall  \n",
              "0    -0.334965       0.0  \n",
              "1    -0.486111       7.8  \n",
              "2     2.220588       0.0  \n",
              "3     2.137063      35.8  \n",
              "4     2.416084      25.0  "
            ]
          },
          "execution_count": 55,
          "metadata": {},
          "output_type": "execute_result"
        }
      ],
      "source": [
        "Moggio = table.loc[table.loc[:,\"NameStation\"]==\"Moggio\",:]\n",
        "#PM 2.5 were removed\n",
        "Moggio = table.loc[:,[\"Date\",\"PM10\",\"Ammonia\",\"Wind_speed\",\"Wind_direction\",\"Temperature\",\"Rainfall\"]]\n",
        "Moggio = Moggio.dropna(how=\"any\")\n",
        "Moggio = Moggio.reset_index()\n",
        "Moggio = Moggio.iloc[:-365,:] # we train not using 2020, for now\n",
        "Moggio.head()\n"
      ]
    },
    {
      "cell_type": "code",
      "execution_count": 56,
      "metadata": {
        "id": "IGLyGKwV1NSY"
      },
      "outputs": [],
      "source": [
        "# sns.lineplot(x='Date', y='PM25', data=Moggio)"
      ]
    },
    {
      "cell_type": "markdown",
      "metadata": {
        "id": "6wXsLnh_1JbF"
      },
      "source": [
        "##Convert series to supervised learning\n",
        "### Activation function = tanh and logistic (s curve)"
      ]
    },
    {
      "cell_type": "markdown",
      "metadata": {
        "id": "24Av99KQ1UEW"
      },
      "source": [
        "###Conversion Function"
      ]
    },
    {
      "cell_type": "code",
      "execution_count": 57,
      "metadata": {
        "id": "zb-KlY4Q0amR"
      },
      "outputs": [],
      "source": [
        "from pandas import DataFrame\n",
        "from pandas import concat\n",
        " \n",
        "def series_to_supervised(data, n_in=1, n_out=1, dropnan=True):\n",
        "\t\"\"\"\n",
        "\tFrame a time series as a supervised learning dataset.\n",
        "\tArguments:\n",
        "\t\tdata: Sequence of observations as a list or NumPy array.\n",
        "\t\tn_in: Number of lag observations as input (X).\n",
        "\t\tn_out: Number of observations as output (y).\n",
        "\t\tdropnan: Boolean whether or not to drop rows with NaN values.\n",
        "\tReturns:\n",
        "\t\tPandas DataFrame of series framed for supervised learning.\n",
        "\t\"\"\"\n",
        "\tn_vars = 1 if type(data) is list else data.shape[1]\n",
        "\tdf = DataFrame(data)\n",
        "\tcols, names = list(), list()\n",
        "\t# input sequence (t-n, ... t-1)\n",
        "\tfor i in range(n_in, 0, -1):\n",
        "\t\tcols.append(df.shift(i))\n",
        "\t\tnames += [('var%d(t-%d)' % (j+1, i)) for j in range(n_vars)]\n",
        "\t# forecast sequence (t, t+1, ... t+n)\n",
        "\tfor i in range(0, n_out):\n",
        "\t\tcols.append(df.shift(-i))\n",
        "\t\tif i == 0:\n",
        "\t\t\tnames += [('var%d(t)' % (j+1)) for j in range(n_vars)]\n",
        "\t\telse:\n",
        "\t\t\tnames += [('var%d(t+%d)' % (j+1, i)) for j in range(n_vars)]\n",
        "\t# put it all together\n",
        "\tagg = concat(cols, axis=1)\n",
        "\tagg.columns = names\n",
        "\t# drop rows with NaN values\n",
        "\tif dropnan:\n",
        "\t\tagg.dropna(inplace=True)\n",
        "\treturn agg"
      ]
    },
    {
      "cell_type": "markdown",
      "metadata": {
        "id": "q0zHE-3h1vGz"
      },
      "source": [
        "### Conversion of Moggio"
      ]
    },
    {
      "cell_type": "code",
      "execution_count": 58,
      "metadata": {
        "colab": {
          "base_uri": "https://localhost:8080/",
          "height": 270
        },
        "id": "IwL5Zn9j11Ce",
        "outputId": "2a356dfe-ff9e-4e18-e486-1d6d761ea490"
      },
      "outputs": [
        {
          "data": {
            "text/html": [
              "<div>\n",
              "<style scoped>\n",
              "    .dataframe tbody tr th:only-of-type {\n",
              "        vertical-align: middle;\n",
              "    }\n",
              "\n",
              "    .dataframe tbody tr th {\n",
              "        vertical-align: top;\n",
              "    }\n",
              "\n",
              "    .dataframe thead th {\n",
              "        text-align: right;\n",
              "    }\n",
              "</style>\n",
              "<table border=\"1\" class=\"dataframe\">\n",
              "  <thead>\n",
              "    <tr style=\"text-align: right;\">\n",
              "      <th></th>\n",
              "      <th>var1(t-5)</th>\n",
              "      <th>var2(t-5)</th>\n",
              "      <th>var3(t-5)</th>\n",
              "      <th>var4(t-5)</th>\n",
              "      <th>var5(t-5)</th>\n",
              "      <th>var6(t-5)</th>\n",
              "      <th>var1(t-4)</th>\n",
              "      <th>var2(t-4)</th>\n",
              "      <th>var3(t-4)</th>\n",
              "      <th>var4(t-4)</th>\n",
              "      <th>...</th>\n",
              "      <th>var4(t-2)</th>\n",
              "      <th>var5(t-2)</th>\n",
              "      <th>var6(t-2)</th>\n",
              "      <th>var1(t-1)</th>\n",
              "      <th>var2(t-1)</th>\n",
              "      <th>var3(t-1)</th>\n",
              "      <th>var4(t-1)</th>\n",
              "      <th>var5(t-1)</th>\n",
              "      <th>var6(t-1)</th>\n",
              "      <th>var1(t)</th>\n",
              "    </tr>\n",
              "  </thead>\n",
              "  <tbody>\n",
              "    <tr>\n",
              "      <th>5</th>\n",
              "      <td>0.066667</td>\n",
              "      <td>0.0</td>\n",
              "      <td>0.163005</td>\n",
              "      <td>0.275000</td>\n",
              "      <td>0.286365</td>\n",
              "      <td>0.000000</td>\n",
              "      <td>0.066667</td>\n",
              "      <td>0.0</td>\n",
              "      <td>0.130139</td>\n",
              "      <td>0.291667</td>\n",
              "      <td>...</td>\n",
              "      <td>0.486111</td>\n",
              "      <td>0.350999</td>\n",
              "      <td>0.161552</td>\n",
              "      <td>0.033333</td>\n",
              "      <td>0.0</td>\n",
              "      <td>0.246694</td>\n",
              "      <td>0.261111</td>\n",
              "      <td>0.358295</td>\n",
              "      <td>0.112816</td>\n",
              "      <td>0.022222</td>\n",
              "    </tr>\n",
              "    <tr>\n",
              "      <th>6</th>\n",
              "      <td>0.066667</td>\n",
              "      <td>0.0</td>\n",
              "      <td>0.130139</td>\n",
              "      <td>0.291667</td>\n",
              "      <td>0.282413</td>\n",
              "      <td>0.035199</td>\n",
              "      <td>0.122222</td>\n",
              "      <td>0.0</td>\n",
              "      <td>0.074531</td>\n",
              "      <td>0.333333</td>\n",
              "      <td>...</td>\n",
              "      <td>0.261111</td>\n",
              "      <td>0.358295</td>\n",
              "      <td>0.112816</td>\n",
              "      <td>0.022222</td>\n",
              "      <td>0.0</td>\n",
              "      <td>0.075776</td>\n",
              "      <td>0.222222</td>\n",
              "      <td>0.406390</td>\n",
              "      <td>0.000000</td>\n",
              "      <td>0.077778</td>\n",
              "    </tr>\n",
              "    <tr>\n",
              "      <th>7</th>\n",
              "      <td>0.122222</td>\n",
              "      <td>0.0</td>\n",
              "      <td>0.074531</td>\n",
              "      <td>0.333333</td>\n",
              "      <td>0.353183</td>\n",
              "      <td>0.000000</td>\n",
              "      <td>0.066667</td>\n",
              "      <td>0.0</td>\n",
              "      <td>0.381024</td>\n",
              "      <td>0.486111</td>\n",
              "      <td>...</td>\n",
              "      <td>0.222222</td>\n",
              "      <td>0.406390</td>\n",
              "      <td>0.000000</td>\n",
              "      <td>0.077778</td>\n",
              "      <td>0.0</td>\n",
              "      <td>0.034263</td>\n",
              "      <td>0.150000</td>\n",
              "      <td>0.397825</td>\n",
              "      <td>0.000000</td>\n",
              "      <td>0.044444</td>\n",
              "    </tr>\n",
              "    <tr>\n",
              "      <th>8</th>\n",
              "      <td>0.066667</td>\n",
              "      <td>0.0</td>\n",
              "      <td>0.381024</td>\n",
              "      <td>0.486111</td>\n",
              "      <td>0.350999</td>\n",
              "      <td>0.161552</td>\n",
              "      <td>0.033333</td>\n",
              "      <td>0.0</td>\n",
              "      <td>0.246694</td>\n",
              "      <td>0.261111</td>\n",
              "      <td>...</td>\n",
              "      <td>0.150000</td>\n",
              "      <td>0.397825</td>\n",
              "      <td>0.000000</td>\n",
              "      <td>0.044444</td>\n",
              "      <td>0.0</td>\n",
              "      <td>0.201140</td>\n",
              "      <td>0.269444</td>\n",
              "      <td>0.408315</td>\n",
              "      <td>0.000000</td>\n",
              "      <td>0.044444</td>\n",
              "    </tr>\n",
              "    <tr>\n",
              "      <th>9</th>\n",
              "      <td>0.033333</td>\n",
              "      <td>0.0</td>\n",
              "      <td>0.246694</td>\n",
              "      <td>0.261111</td>\n",
              "      <td>0.358295</td>\n",
              "      <td>0.112816</td>\n",
              "      <td>0.022222</td>\n",
              "      <td>0.0</td>\n",
              "      <td>0.075776</td>\n",
              "      <td>0.222222</td>\n",
              "      <td>...</td>\n",
              "      <td>0.269444</td>\n",
              "      <td>0.408315</td>\n",
              "      <td>0.000000</td>\n",
              "      <td>0.044444</td>\n",
              "      <td>0.0</td>\n",
              "      <td>0.063516</td>\n",
              "      <td>0.100000</td>\n",
              "      <td>0.392536</td>\n",
              "      <td>0.000000</td>\n",
              "      <td>0.133333</td>\n",
              "    </tr>\n",
              "  </tbody>\n",
              "</table>\n",
              "<p>5 rows × 31 columns</p>\n",
              "</div>"
            ],
            "text/plain": [
              "   var1(t-5)  var2(t-5)  var3(t-5)  var4(t-5)  var5(t-5)  var6(t-5)  \\\n",
              "5   0.066667        0.0   0.163005   0.275000   0.286365   0.000000   \n",
              "6   0.066667        0.0   0.130139   0.291667   0.282413   0.035199   \n",
              "7   0.122222        0.0   0.074531   0.333333   0.353183   0.000000   \n",
              "8   0.066667        0.0   0.381024   0.486111   0.350999   0.161552   \n",
              "9   0.033333        0.0   0.246694   0.261111   0.358295   0.112816   \n",
              "\n",
              "   var1(t-4)  var2(t-4)  var3(t-4)  var4(t-4)  ...  var4(t-2)  var5(t-2)  \\\n",
              "5   0.066667        0.0   0.130139   0.291667  ...   0.486111   0.350999   \n",
              "6   0.122222        0.0   0.074531   0.333333  ...   0.261111   0.358295   \n",
              "7   0.066667        0.0   0.381024   0.486111  ...   0.222222   0.406390   \n",
              "8   0.033333        0.0   0.246694   0.261111  ...   0.150000   0.397825   \n",
              "9   0.022222        0.0   0.075776   0.222222  ...   0.269444   0.408315   \n",
              "\n",
              "   var6(t-2)  var1(t-1)  var2(t-1)  var3(t-1)  var4(t-1)  var5(t-1)  \\\n",
              "5   0.161552   0.033333        0.0   0.246694   0.261111   0.358295   \n",
              "6   0.112816   0.022222        0.0   0.075776   0.222222   0.406390   \n",
              "7   0.000000   0.077778        0.0   0.034263   0.150000   0.397825   \n",
              "8   0.000000   0.044444        0.0   0.201140   0.269444   0.408315   \n",
              "9   0.000000   0.044444        0.0   0.063516   0.100000   0.392536   \n",
              "\n",
              "   var6(t-1)   var1(t)  \n",
              "5   0.112816  0.022222  \n",
              "6   0.000000  0.077778  \n",
              "7   0.000000  0.044444  \n",
              "8   0.000000  0.044444  \n",
              "9   0.000000  0.133333  \n",
              "\n",
              "[5 rows x 31 columns]"
            ]
          },
          "execution_count": 58,
          "metadata": {},
          "output_type": "execute_result"
        }
      ],
      "source": [
        "values = Moggio.iloc[:,2:].values\n",
        "# ensure all data is float\n",
        "values = values.astype('float32') #cast in float 32 bit per evitare problemi\n",
        "# normalize features\n",
        "scaler = MinMaxScaler(feature_range=(0, 1))\n",
        "scaled = scaler.fit_transform(values)\n",
        "# frame as supervised learning\n",
        "n_days = 5 #Memoria della NN\n",
        "reframed = series_to_supervised(scaled, n_days, 1) # info of the past 5 days to determine next (1) day\n",
        "# drop columns we don't want to predict (we therefore keep Ammonia)\n",
        "reframed.drop(reframed.columns[[31,32,33,34,35]], axis=1, inplace=True)\n",
        "\n",
        "reframed.head()"
      ]
    },
    {
      "cell_type": "code",
      "execution_count": 59,
      "metadata": {
        "colab": {
          "base_uri": "https://localhost:8080/"
        },
        "id": "b6Mx9MPBARpb",
        "outputId": "1d95c8a6-de62-4cdf-8652-1666f7d1c63d"
      },
      "outputs": [
        {
          "name": "stdout",
          "output_type": "stream",
          "text": [
            "(1312, 30) 1312 (1312,)\n",
            "(1312, 5, 6) (1312,) (419, 5, 6) (419,)\n"
          ]
        }
      ],
      "source": [
        "# split into train and test sets\n",
        "values = reframed.values\n",
        "n_features = 6 # number of variables, including the one to be predicted\n",
        "n_train_days = 1312 # we train using only the first year\n",
        "train = values[:n_train_days, :]\n",
        "test = values[n_train_days:, :] # we test using all successive years \n",
        "# split into input and outputs\n",
        "n_obs = n_days * n_features\n",
        "train_X, train_y = train[:, :n_obs], train[:, -1]\n",
        "test_X, test_y = test[:, :n_obs], test[:, -1]\n",
        "print(train_X.shape, len(train_X), train_y.shape)\n",
        "# reshape input to be 3D [samples, timesteps, features]\n",
        "# reshape from 2D to 3D\n",
        "train_X = train_X.reshape((train_X.shape[0], n_days, n_features))\n",
        "test_X = test_X.reshape((test_X.shape[0], n_days, n_features))\n",
        "print(train_X.shape, train_y.shape, test_X.shape, test_y.shape)"
      ]
    },
    {
      "cell_type": "markdown",
      "metadata": {
        "id": "NKLpWbJH7Kmj"
      },
      "source": [
        "# Modeling and training"
      ]
    },
    {
      "cell_type": "code",
      "execution_count": 63,
      "metadata": {
        "colab": {
          "base_uri": "https://localhost:8080/",
          "height": 1000
        },
        "id": "Ggc63fyoD9MG",
        "outputId": "2f616d3c-e692-4705-a6f7-fa63d3422ea3"
      },
      "outputs": [
        {
          "name": "stdout",
          "output_type": "stream",
          "text": [
            "Epoch 1/500\n"
          ]
        },
        {
          "name": "stderr",
          "output_type": "stream",
          "text": [
            "2022-02-22 22:29:22.752953: I tensorflow/core/grappler/optimizers/custom_graph_optimizer_registry.cc:112] Plugin optimizer for device_type GPU is enabled.\n",
            "2022-02-22 22:29:22.889874: I tensorflow/core/grappler/optimizers/custom_graph_optimizer_registry.cc:112] Plugin optimizer for device_type GPU is enabled.\n",
            "2022-02-22 22:29:22.928785: I tensorflow/core/grappler/optimizers/custom_graph_optimizer_registry.cc:112] Plugin optimizer for device_type GPU is enabled.\n",
            "2022-02-22 22:29:22.968952: I tensorflow/core/grappler/optimizers/custom_graph_optimizer_registry.cc:112] Plugin optimizer for device_type GPU is enabled.\n",
            "2022-02-22 22:29:23.027751: I tensorflow/core/grappler/optimizers/custom_graph_optimizer_registry.cc:112] Plugin optimizer for device_type GPU is enabled.\n",
            "2022-02-22 22:29:23.090359: I tensorflow/core/grappler/optimizers/custom_graph_optimizer_registry.cc:112] Plugin optimizer for device_type GPU is enabled.\n",
            "2022-02-22 22:29:23.157759: I tensorflow/core/grappler/optimizers/custom_graph_optimizer_registry.cc:112] Plugin optimizer for device_type GPU is enabled.\n",
            "2022-02-22 22:29:23.880784: I tensorflow/core/grappler/optimizers/custom_graph_optimizer_registry.cc:112] Plugin optimizer for device_type GPU is enabled.\n",
            "2022-02-22 22:29:23.931499: I tensorflow/core/grappler/optimizers/custom_graph_optimizer_registry.cc:112] Plugin optimizer for device_type GPU is enabled.\n",
            "2022-02-22 22:29:23.969721: I tensorflow/core/grappler/optimizers/custom_graph_optimizer_registry.cc:112] Plugin optimizer for device_type GPU is enabled.\n",
            "2022-02-22 22:29:24.012995: I tensorflow/core/grappler/optimizers/custom_graph_optimizer_registry.cc:112] Plugin optimizer for device_type GPU is enabled.\n"
          ]
        },
        {
          "name": "stdout",
          "output_type": "stream",
          "text": [
            "21/21 - 2s - loss: 0.1466 - val_loss: 0.1166\n",
            "Epoch 2/500\n",
            "21/21 - 0s - loss: 0.1159 - val_loss: 0.0952\n",
            "Epoch 3/500\n",
            "21/21 - 0s - loss: 0.0978 - val_loss: 0.0874\n",
            "Epoch 4/500\n",
            "21/21 - 0s - loss: 0.0917 - val_loss: 0.0869\n",
            "Epoch 5/500\n",
            "21/21 - 0s - loss: 0.0909 - val_loss: 0.0873\n",
            "Epoch 6/500\n",
            "21/21 - 0s - loss: 0.0909 - val_loss: 0.0872\n",
            "Epoch 7/500\n",
            "21/21 - 0s - loss: 0.0909 - val_loss: 0.0871\n",
            "Epoch 8/500\n",
            "21/21 - 0s - loss: 0.0908 - val_loss: 0.0870\n",
            "Epoch 9/500\n",
            "21/21 - 0s - loss: 0.0908 - val_loss: 0.0869\n",
            "Epoch 10/500\n",
            "21/21 - 0s - loss: 0.0907 - val_loss: 0.0868\n",
            "Epoch 11/500\n",
            "21/21 - 0s - loss: 0.0906 - val_loss: 0.0868\n",
            "Epoch 12/500\n",
            "21/21 - 0s - loss: 0.0906 - val_loss: 0.0866\n",
            "Epoch 13/500\n",
            "21/21 - 0s - loss: 0.0905 - val_loss: 0.0865\n",
            "Epoch 14/500\n",
            "21/21 - 0s - loss: 0.0904 - val_loss: 0.0864\n",
            "Epoch 15/500\n",
            "21/21 - 0s - loss: 0.0904 - val_loss: 0.0864\n",
            "Epoch 16/500\n",
            "21/21 - 0s - loss: 0.0903 - val_loss: 0.0864\n",
            "Epoch 17/500\n",
            "21/21 - 0s - loss: 0.0903 - val_loss: 0.0863\n",
            "Epoch 18/500\n",
            "21/21 - 0s - loss: 0.0902 - val_loss: 0.0863\n",
            "Epoch 19/500\n",
            "21/21 - 0s - loss: 0.0902 - val_loss: 0.0862\n",
            "Epoch 20/500\n",
            "21/21 - 0s - loss: 0.0901 - val_loss: 0.0861\n",
            "Epoch 21/500\n",
            "21/21 - 0s - loss: 0.0901 - val_loss: 0.0861\n",
            "Epoch 22/500\n",
            "21/21 - 0s - loss: 0.0900 - val_loss: 0.0862\n",
            "Epoch 23/500\n",
            "21/21 - 0s - loss: 0.0900 - val_loss: 0.0861\n",
            "Epoch 24/500\n",
            "21/21 - 0s - loss: 0.0899 - val_loss: 0.0861\n",
            "Epoch 25/500\n",
            "21/21 - 0s - loss: 0.0899 - val_loss: 0.0860\n",
            "Epoch 26/500\n",
            "21/21 - 0s - loss: 0.0898 - val_loss: 0.0860\n",
            "Epoch 27/500\n",
            "21/21 - 0s - loss: 0.0898 - val_loss: 0.0859\n",
            "Epoch 28/500\n",
            "21/21 - 0s - loss: 0.0898 - val_loss: 0.0859\n",
            "Epoch 29/500\n",
            "21/21 - 0s - loss: 0.0897 - val_loss: 0.0860\n",
            "Epoch 30/500\n",
            "21/21 - 0s - loss: 0.0897 - val_loss: 0.0859\n",
            "Epoch 31/500\n",
            "21/21 - 0s - loss: 0.0897 - val_loss: 0.0859\n",
            "Epoch 32/500\n",
            "21/21 - 0s - loss: 0.0896 - val_loss: 0.0860\n",
            "Epoch 33/500\n",
            "21/21 - 0s - loss: 0.0896 - val_loss: 0.0860\n",
            "Epoch 34/500\n",
            "21/21 - 0s - loss: 0.0896 - val_loss: 0.0860\n",
            "Epoch 35/500\n",
            "21/21 - 0s - loss: 0.0896 - val_loss: 0.0859\n",
            "Epoch 36/500\n",
            "21/21 - 0s - loss: 0.0895 - val_loss: 0.0859\n",
            "Epoch 37/500\n",
            "21/21 - 0s - loss: 0.0895 - val_loss: 0.0859\n",
            "Epoch 38/500\n",
            "21/21 - 0s - loss: 0.0896 - val_loss: 0.0860\n",
            "Epoch 39/500\n",
            "21/21 - 0s - loss: 0.0896 - val_loss: 0.0861\n",
            "Epoch 40/500\n",
            "21/21 - 0s - loss: 0.0897 - val_loss: 0.0863\n",
            "Epoch 41/500\n",
            "21/21 - 0s - loss: 0.0899 - val_loss: 0.0867\n",
            "Epoch 42/500\n",
            "21/21 - 0s - loss: 0.0900 - val_loss: 0.0863\n",
            "Epoch 43/500\n",
            "21/21 - 0s - loss: 0.0903 - val_loss: 0.0866\n",
            "Epoch 44/500\n",
            "21/21 - 0s - loss: 0.0905 - val_loss: 0.0862\n",
            "Epoch 45/500\n",
            "21/21 - 0s - loss: 0.0907 - val_loss: 0.0861\n",
            "Epoch 46/500\n",
            "21/21 - 0s - loss: 0.0911 - val_loss: 0.0864\n",
            "Epoch 47/500\n",
            "21/21 - 0s - loss: 0.0914 - val_loss: 0.0860\n",
            "Epoch 48/500\n",
            "21/21 - 0s - loss: 0.0917 - val_loss: 0.0852\n",
            "Epoch 49/500\n",
            "21/21 - 0s - loss: 0.0923 - val_loss: 0.0849\n",
            "Epoch 50/500\n",
            "21/21 - 0s - loss: 0.0931 - val_loss: 0.0847\n",
            "Epoch 51/500\n",
            "21/21 - 0s - loss: 0.0935 - val_loss: 0.0847\n",
            "Epoch 52/500\n",
            "21/21 - 0s - loss: 0.0934 - val_loss: 0.0849\n",
            "Epoch 53/500\n",
            "21/21 - 0s - loss: 0.0932 - val_loss: 0.0850\n",
            "Epoch 54/500\n",
            "21/21 - 0s - loss: 0.0934 - val_loss: 0.0853\n",
            "Epoch 55/500\n",
            "21/21 - 0s - loss: 0.0930 - val_loss: 0.0854\n",
            "Epoch 56/500\n",
            "21/21 - 0s - loss: 0.0929 - val_loss: 0.0855\n",
            "Epoch 57/500\n",
            "21/21 - 0s - loss: 0.0928 - val_loss: 0.0856\n",
            "Epoch 58/500\n",
            "21/21 - 0s - loss: 0.0929 - val_loss: 0.0856\n",
            "Epoch 59/500\n",
            "21/21 - 0s - loss: 0.0932 - val_loss: 0.0856\n",
            "Epoch 60/500\n",
            "21/21 - 0s - loss: 0.0931 - val_loss: 0.0857\n",
            "Epoch 61/500\n",
            "21/21 - 0s - loss: 0.0930 - val_loss: 0.0857\n",
            "Epoch 62/500\n",
            "21/21 - 0s - loss: 0.0931 - val_loss: 0.0857\n",
            "Epoch 63/500\n",
            "21/21 - 0s - loss: 0.0931 - val_loss: 0.0857\n",
            "Epoch 64/500\n",
            "21/21 - 0s - loss: 0.0934 - val_loss: 0.0858\n",
            "Epoch 65/500\n",
            "21/21 - 0s - loss: 0.0932 - val_loss: 0.0857\n",
            "Epoch 66/500\n",
            "21/21 - 0s - loss: 0.0935 - val_loss: 0.0858\n"
          ]
        }
      ],
      "source": [
        "# design the neural network\n",
        "model = Sequential()\n",
        "model.add(LSTM(50, return_sequences=True, input_shape=(train_X.shape[1], train_X.shape[2])))\n",
        "model.add(LSTM(50, return_sequences=True))\n",
        "model.add(LSTM(50, return_sequences=False))\n",
        "model.add(Dense(1))\n",
        "model.compile(loss='mae', optimizer=keras.optimizers.Adam(learning_rate=1e-4))\n",
        "# fit network\n",
        "early_stopping = EarlyStopping(patience=50, restore_best_weights = True)\n",
        "history = model.fit(train_X, train_y, epochs=500, batch_size=64, validation_data=(test_X, test_y), verbose=2, shuffle=False, callbacks=early_stopping)\n",
        "# plot history\n",
        "pyplot.plot(history.history['loss'], label='train')\n",
        "pyplot.plot(history.history['val_loss'], label='test')\n",
        "pyplot.legend()\n",
        "pyplot.show()"
      ]
    },
    {
      "cell_type": "markdown",
      "metadata": {
        "id": "DetuxaYg7V9x"
      },
      "source": [
        "## Predictions of the year 2019"
      ]
    },
    {
      "cell_type": "code",
      "execution_count": 51,
      "metadata": {
        "colab": {
          "base_uri": "https://localhost:8080/"
        },
        "id": "zz6KP-XPYwB0",
        "outputId": "e7ed2b1f-c8b1-48a7-b74c-ef9919424cb4"
      },
      "outputs": [
        {
          "name": "stderr",
          "output_type": "stream",
          "text": [
            "2022-02-22 22:27:24.729981: I tensorflow/core/grappler/optimizers/custom_graph_optimizer_registry.cc:112] Plugin optimizer for device_type GPU is enabled.\n",
            "2022-02-22 22:27:24.772419: I tensorflow/core/grappler/optimizers/custom_graph_optimizer_registry.cc:112] Plugin optimizer for device_type GPU is enabled.\n",
            "2022-02-22 22:27:24.808197: I tensorflow/core/grappler/optimizers/custom_graph_optimizer_registry.cc:112] Plugin optimizer for device_type GPU is enabled.\n",
            "2022-02-22 22:27:24.847472: I tensorflow/core/grappler/optimizers/custom_graph_optimizer_registry.cc:112] Plugin optimizer for device_type GPU is enabled.\n"
          ]
        },
        {
          "name": "stdout",
          "output_type": "stream",
          "text": [
            "Test RMSE: 9.941\n"
          ]
        }
      ],
      "source": [
        "# make a prediction\n",
        "yhat = model.predict(test_X)\n",
        "#Convert from 3D to 2D\n",
        "test_X = test_X.reshape((test_X.shape[0], n_days*n_features))\n",
        "# invert scaling for forecast\n",
        "inv_yhat = concatenate((yhat, test_X[:, -5:]), axis=1)\n",
        "inv_yhat = scaler.inverse_transform(inv_yhat)\n",
        "inv_yhat = inv_yhat[:,0]\n",
        "# invert scaling for actual\n",
        "test_y = test_y.reshape((len(test_y), 1))\n",
        "inv_y = concatenate((test_y, test_X[:, -5:]), axis=1)\n",
        "inv_y = scaler.inverse_transform(inv_y)\n",
        "inv_y = inv_y[:,0]\n",
        "# calculate RMSE\n",
        "rmse = sqrt(mean_squared_error(inv_y, inv_yhat))\n",
        "print('Test RMSE: %.3f' % rmse)"
      ]
    },
    {
      "cell_type": "markdown",
      "metadata": {
        "id": "PhNcUjYz7Z5J"
      },
      "source": [
        "#### Prediciton plots"
      ]
    },
    {
      "cell_type": "code",
      "execution_count": 52,
      "metadata": {
        "colab": {
          "base_uri": "https://localhost:8080/",
          "height": 265
        },
        "id": "xgvSi2LHmWWP",
        "outputId": "0c9ca481-6a3d-46b1-92a7-b72c66a3abf7"
      },
      "outputs": [
        {
          "data": {
            "image/png": "[encoded data removed]",
            "text/plain": [
              "<Figure size 432x288 with 1 Axes>"
            ]
          },
          "metadata": {
            "needs_background": "light"
          },
          "output_type": "display_data"
        }
      ],
      "source": [
        "pyplot.plot(inv_yhat, label = 'Prediction')\n",
        "pyplot.plot(inv_y, label = 'Real')\n",
        "pyplot.legend()\n",
        "pyplot.show()"
      ]
    },
    {
      "cell_type": "markdown",
      "metadata": {
        "id": "2NSEHYlAs9fc"
      },
      "source": [
        "prediction with 2020"
      ]
    },
    {
      "cell_type": "code",
      "execution_count": null,
      "metadata": {
        "colab": {
          "base_uri": "https://localhost:8080/"
        },
        "id": "Ft1Sqa5rtAyY",
        "outputId": "9fa0cf03-9dc5-44d8-f59b-b914b427de55"
      },
      "outputs": [
        {
          "name": "stdout",
          "output_type": "stream",
          "text": [
            "(1312, 30) 1312 (1312,)\n",
            "(1312, 5, 6) (1312,) (784, 5, 6) (784,)\n"
          ]
        }
      ],
      "source": [
        "#Moggio = table.loc[table.loc[:,\"NameStation\"]==\"Moggio\",:]\n",
        "#PM 2.5 were removed\n",
        "Moggio = table.loc[:,[\"Date\",\"PM10\",\"Ammonia\",\"Wind_speed\",\"Wind_direction\",\"Temperature\",\"Rainfall\"]]\n",
        "Moggio = Moggio.dropna(how=\"any\")\n",
        "Moggio = Moggio.reset_index()\n",
        "Moggio = Moggio.iloc[:,:] # this is the differrence!!!!\n",
        "Moggio.head()\n",
        "values = Moggio.iloc[:,2:].values\n",
        "# ensure all data is float\n",
        "values = values.astype('float32') #cast in float 32 bit per evitare problemi\n",
        "# normalize features\n",
        "scaler = MinMaxScaler(feature_range=(0, 1))\n",
        "scaled = scaler.fit_transform(values)\n",
        "# frame as supervised learning\n",
        "n_days = 5 #Memoria della NN\n",
        "reframed = series_to_supervised(scaled, n_days, 1) # info of the past 5 days to determine next (1) day\n",
        "# drop columns we don't want to predict (we therefore keep Ammonia)\n",
        "reframed.drop(reframed.columns[[31,32,33,34,35]], axis=1, inplace=True)\n",
        "\n",
        "# split into train and test sets\n",
        "values = reframed.values\n",
        "n_features = 6 # number of variables, including the one to be predicted\n",
        "n_train_days = 1312 # we train using only the first year\n",
        "train = values[:n_train_days, :]\n",
        "test = values[n_train_days:, :] # we test using all successive years \n",
        "# split into input and outputs\n",
        "n_obs = n_days * n_features\n",
        "train_X, train_y = train[:, :n_obs], train[:, -1]\n",
        "test_X, test_y = test[:, :n_obs], test[:, -1]\n",
        "print(train_X.shape, len(train_X), train_y.shape)\n",
        "# reshape input to be 3D [samples, timesteps, features]\n",
        "# reshape from 2D to 3D\n",
        "train_X = train_X.reshape((train_X.shape[0], n_days, n_features))\n",
        "test_X = test_X.reshape((test_X.shape[0], n_days, n_features))\n",
        "print(train_X.shape, train_y.shape, test_X.shape, test_y.shape)\n"
      ]
    },
    {
      "cell_type": "code",
      "execution_count": null,
      "metadata": {
        "colab": {
          "base_uri": "https://localhost:8080/"
        },
        "id": "YQX29T3Ttesc",
        "outputId": "118fb7c6-418a-422a-9fbd-afa115efa67d"
      },
      "outputs": [
        {
          "name": "stdout",
          "output_type": "stream",
          "text": [
            "Test RMSE: 7.461\n"
          ]
        }
      ],
      "source": [
        "# make a prediction\n",
        "yhat = model.predict(test_X)\n",
        "#Convert from 3D to 2D\n",
        "test_X = test_X.reshape((test_X.shape[0], n_days*n_features))\n",
        "# invert scaling for forecast\n",
        "inv_yhat = concatenate((yhat, test_X[:, -5:]), axis=1)\n",
        "inv_yhat = scaler.inverse_transform(inv_yhat)\n",
        "inv_yhat = inv_yhat[:,0]\n",
        "# invert scaling for actual\n",
        "test_y = test_y.reshape((len(test_y), 1))\n",
        "inv_y = concatenate((test_y, test_X[:, -5:]), axis=1)\n",
        "inv_y = scaler.inverse_transform(inv_y)\n",
        "inv_y = inv_y[:,0]\n",
        "# calculate RMSE\n",
        "rmse = sqrt(mean_squared_error(inv_y, inv_yhat))\n",
        "print('Test RMSE: %.3f' % rmse)"
      ]
    },
    {
      "cell_type": "code",
      "execution_count": null,
      "metadata": {
        "colab": {
          "base_uri": "https://localhost:8080/",
          "height": 265
        },
        "id": "oRmf8IoVtg3g",
        "outputId": "98f3818b-76d8-4563-c549-499d83c449f2"
      },
      "outputs": [
        {
          "data": {
            "image/png": "[encoded data removed]",
            "text/plain": [
              "<Figure size 432x288 with 1 Axes>"
            ]
          },
          "metadata": {
            "needs_background": "light"
          },
          "output_type": "display_data"
        }
      ],
      "source": [
        "pyplot.plot(inv_yhat[-365:], label = 'Prediction')\n",
        "pyplot.plot(inv_y[-365:], label = 'Real')\n",
        "pyplot.legend()\n",
        "pyplot.show()"
      ]
    },
    {
      "cell_type": "markdown",
      "metadata": {
        "id": "3Q0ykqpFDURq"
      },
      "source": [
        "# Modeling with hyperparamenter search\n",
        "# Goal: reduce the MSE without overfitting"
      ]
    },
    {
      "cell_type": "code",
      "execution_count": null,
      "metadata": {
        "colab": {
          "base_uri": "https://localhost:8080/"
        },
        "id": "mDxlDo3dDfWx",
        "outputId": "3d265dde-ca0d-46a4-f7eb-4296b1f0eea7"
      },
      "outputs": [
        {
          "name": "stdout",
          "output_type": "stream",
          "text": [
            "\u001b[?25l\r\u001b[K     |███▍                            | 10 kB 17.7 MB/s eta 0:00:01\r\u001b[K     |██████▊                         | 20 kB 14.0 MB/s eta 0:00:01\r\u001b[K     |██████████                      | 30 kB 10.1 MB/s eta 0:00:01\r\u001b[K     |█████████████▍                  | 40 kB 8.8 MB/s eta 0:00:01\r\u001b[K     |████████████████▊               | 51 kB 4.5 MB/s eta 0:00:01\r\u001b[K     |████████████████████            | 61 kB 4.7 MB/s eta 0:00:01\r\u001b[K     |███████████████████████▍        | 71 kB 4.8 MB/s eta 0:00:01\r\u001b[K     |██████████████████████████▊     | 81 kB 5.3 MB/s eta 0:00:01\r\u001b[K     |██████████████████████████████  | 92 kB 5.4 MB/s eta 0:00:01\r\u001b[K     |████████████████████████████████| 98 kB 3.2 MB/s \n",
            "\u001b[?25h"
          ]
        }
      ],
      "source": [
        "!pip install -q -U keras-tuner"
      ]
    },
    {
      "cell_type": "code",
      "execution_count": null,
      "metadata": {
        "id": "a_ykkd6DDYms"
      },
      "outputs": [],
      "source": [
        "import tensorflow as tf\n",
        "from tensorflow import keras\n",
        "import keras_tuner as kt #Keras Creates a better model"
      ]
    },
    {
      "cell_type": "code",
      "execution_count": null,
      "metadata": {
        "colab": {
          "base_uri": "https://localhost:8080/"
        },
        "id": "KqJaEiI8OiX2",
        "outputId": "d04bbc7f-743f-4ea7-9f54-3b2f88ae232a"
      },
      "outputs": [
        {
          "data": {
            "text/plain": [
              "[]"
            ]
          },
          "execution_count": 14,
          "metadata": {},
          "output_type": "execute_result"
        }
      ],
      "source": [
        "tf.config.list_physical_devices('GPU') #To undestand which GPU using during the training"
      ]
    },
    {
      "cell_type": "markdown",
      "metadata": {
        "id": "ox9NSvBjTSGK"
      },
      "source": [
        "## Function to create new models"
      ]
    },
    {
      "cell_type": "code",
      "execution_count": null,
      "metadata": {
        "id": "YaRj2wPcDp6h"
      },
      "outputs": [],
      "source": [
        "def model_builder(hp):\n",
        "  #design network\n",
        "  #object created with keras_tuner -> iterates some parameters to create the model\n",
        "  #units = neurons we use 32 steps for each time\n",
        "  hp_units = hp.Int('units', min_value=32, max_value=512, step=32)\n",
        "  #Initialization of the model\n",
        "  model = Sequential() \n",
        "  model.add(LSTM(units = hp_units,return_sequences=True, input_shape=(train_X.shape[1], train_X.shape[2])))\n",
        "  #for loop to iterate different quantities of layer (from 1 to 3 layer)\n",
        "  for i in range(hp.Int('layers',1,3)):\n",
        "   model.add(LSTM(units = hp_units, return_sequences=True))\n",
        "  model.add(LSTM(units = hp_units, return_sequences=False))\n",
        "  model.add(Dense(1))\n",
        "  #Choose from a list of given instructions -> we choose leanrning rates\n",
        "  #We look the performances\n",
        "  hp_learning_rate = hp.Choice('learning_rate', values=[1e-2, 1e-3, 1e-4])\n",
        "  model.compile(loss='mae', optimizer=keras.optimizers.Adam(learning_rate=hp_learning_rate))\n",
        "  return model"
      ]
    },
    {
      "cell_type": "markdown",
      "metadata": {
        "id": "I2RMikpiXGcy"
      },
      "source": [
        "# Creation of the object with model_builder(hp)\n",
        "## Parameter to look at: validation loss"
      ]
    },
    {
      "cell_type": "code",
      "execution_count": null,
      "metadata": {
        "colab": {
          "base_uri": "https://localhost:8080/"
        },
        "id": "ZHv2TK6MGMF1",
        "outputId": "5178677c-8d65-430e-d989-27d0008d38a9"
      },
      "outputs": [
        {
          "name": "stdout",
          "output_type": "stream",
          "text": [
            "Search space summary\n",
            "Default search space size: 3\n",
            "units (Int)\n",
            "{'default': None, 'conditions': [], 'min_value': 32, 'max_value': 512, 'step': 32, 'sampling': None}\n",
            "layers (Int)\n",
            "{'default': None, 'conditions': [], 'min_value': 1, 'max_value': 3, 'step': 1, 'sampling': None}\n",
            "learning_rate (Choice)\n",
            "{'default': 0.01, 'conditions': [], 'values': [0.01, 0.001, 0.0001], 'ordered': True}\n"
          ]
        }
      ],
      "source": [
        "tuner = kt.RandomSearch(\n",
        "    model_builder,\n",
        "    objective='val_loss',\n",
        "    max_trials=10,\n",
        "    executions_per_trial =3,\n",
        "    directory = 'dir',\n",
        "    project_name = 'namee')\n",
        "tuner.search_space_summary()"
      ]
    },
    {
      "cell_type": "code",
      "execution_count": null,
      "metadata": {
        "colab": {
          "background_save": true,
          "base_uri": "https://localhost:8080/"
        },
        "id": "M-Jjf4glG9h4",
        "outputId": "98b1dffb-5d00-421d-e680-b1e19f0a9b12"
      },
      "outputs": [
        {
          "name": "stdout",
          "output_type": "stream",
          "text": [
            "Trial 10 Complete [00h 16m 14s]\n",
            "val_loss: 0.08407227694988251\n",
            "\n",
            "Best val_loss So Far: 0.06101139013965925\n",
            "Total elapsed time: 01h 00m 09s\n",
            "INFO:tensorflow:Oracle triggered exit\n"
          ]
        }
      ],
      "source": [
        "early_stopping = EarlyStopping(monitor='val_loss',patience=10)\n",
        "tuner.search(train_X, train_y, epochs=100, batch_size=72, validation_data=(test_X, test_y),shuffle=False, callbacks=[early_stopping])"
      ]
    },
    {
      "cell_type": "code",
      "execution_count": null,
      "metadata": {
        "colab": {
          "base_uri": "https://localhost:8080/"
        },
        "id": "gVo9l3foLH15",
        "outputId": "242a5192-1902-4163-e322-b10a5ac71421"
      },
      "outputs": [
        {
          "name": "stdout",
          "output_type": "stream",
          "text": [
            "Results summary\n",
            "Results in dir/namee\n",
            "Showing 10 best trials\n",
            "Objective(name='val_loss', direction='min')\n"
          ]
        }
      ],
      "source": [
        "tuner.results_summary()"
      ]
    },
    {
      "cell_type": "markdown",
      "metadata": {
        "id": "nm9281SoM7Hy"
      },
      "source": [
        "### Hyperband"
      ]
    },
    {
      "cell_type": "code",
      "execution_count": null,
      "metadata": {
        "colab": {
          "base_uri": "https://localhost:8080/"
        },
        "id": "0IMZiMT1KAO6",
        "outputId": "fe89d8de-856f-4dd0-fd89-6f516b9b32b8"
      },
      "outputs": [
        {
          "name": "stdout",
          "output_type": "stream",
          "text": [
            "INFO:tensorflow:Reloading Oracle from existing project my_dir/intro_to_kt/oracle.json\n",
            "INFO:tensorflow:Reloading Tuner from my_dir/intro_to_kt/tuner0.json\n"
          ]
        }
      ],
      "source": [
        "tuner = kt.Hyperband(model_builder,\n",
        "                     objective='val_loss',\n",
        "                     max_epochs=10,\n",
        "                     factor=3,\n",
        "                     directory='my_dir',\n",
        "                     project_name='intro_to_kt')"
      ]
    },
    {
      "cell_type": "code",
      "execution_count": null,
      "metadata": {
        "id": "n6r3Ft2PIahk"
      },
      "outputs": [],
      "source": [
        "tuner.search(train_X, train_y, epochs=1000, batch_size=72, validation_data=(test_X, test_y),shuffle=False, callbacks=[early_stopping])"
      ]
    }
  ],
  "metadata": {
    "colab": {
      "collapsed_sections": [],
      "name": "Moggio 2014-2020 PM10.ipynb",
      "provenance": []
    },
    "kernelspec": {
      "display_name": "Python 3",
      "name": "python3"
    },
    "language_info": {
      "codemirror_mode": {
        "name": "ipython",
        "version": 3
      },
      "file_extension": ".py",
      "mimetype": "text/x-python",
      "name": "python",
      "nbconvert_exporter": "python",
      "pygments_lexer": "ipython3",
      "version": "3.9.7"
    }
  },
  "nbformat": 4,
  "nbformat_minor": 0
}
