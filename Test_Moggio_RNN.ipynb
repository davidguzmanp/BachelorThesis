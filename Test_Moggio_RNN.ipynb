{
  "cells": [
    {
      "cell_type": "code",
      "execution_count": 1,
      "metadata": {
        "id": "50h6XyhAz59c"
      },
      "outputs": [],
      "source": [
        "from math import sqrt\n",
        "from numpy import concatenate\n",
        "from matplotlib import pyplot\n",
        "from pandas import read_csv\n",
        "from pandas import DataFrame\n",
        "from pandas import concat\n",
        "from sklearn.preprocessing import MinMaxScaler\n",
        "from sklearn.preprocessing import LabelEncoder\n",
        "from sklearn.metrics import mean_squared_error\n",
        "from tensorflow.keras.models import Sequential\n",
        "from tensorflow.keras.layers import Dense\n",
        "from tensorflow.keras.layers import LSTM\n",
        "from tensorflow.keras.callbacks import EarlyStopping"
      ]
    },
    {
      "cell_type": "code",
      "execution_count": 2,
      "metadata": {
        "colab": {
          "base_uri": "https://localhost:8080/",
          "height": 348
        },
        "id": "eA2CKbjH0LRW",
        "outputId": "dabb416c-4b0b-43ed-f87f-896fa3fff1f1"
      },
      "outputs": [
        {
          "data": {
            "text/html": [
              "<div>\n",
              "<style scoped>\n",
              "    .dataframe tbody tr th:only-of-type {\n",
              "        vertical-align: middle;\n",
              "    }\n",
              "\n",
              "    .dataframe tbody tr th {\n",
              "        vertical-align: top;\n",
              "    }\n",
              "\n",
              "    .dataframe thead th {\n",
              "        text-align: right;\n",
              "    }\n",
              "</style>\n",
              "<table border=\"1\" class=\"dataframe\">\n",
              "  <thead>\n",
              "    <tr style=\"text-align: right;\">\n",
              "      <th></th>\n",
              "      <th>Date</th>\n",
              "      <th>IDStation</th>\n",
              "      <th>NameStation</th>\n",
              "      <th>Ammonia</th>\n",
              "      <th>Arsenic</th>\n",
              "      <th>Benzene</th>\n",
              "      <th>Benzo_a_pyrene</th>\n",
              "      <th>Cadmium</th>\n",
              "      <th>CO</th>\n",
              "      <th>Lead</th>\n",
              "      <th>...</th>\n",
              "      <th>IDStation.2</th>\n",
              "      <th>NameStation.1</th>\n",
              "      <th>Wind_speed</th>\n",
              "      <th>Wind_direction</th>\n",
              "      <th>Temperature</th>\n",
              "      <th>Relative_humidity</th>\n",
              "      <th>Global_radiation</th>\n",
              "      <th>Wind_speed_max</th>\n",
              "      <th>Wind_direction_max</th>\n",
              "      <th>Rainfall</th>\n",
              "    </tr>\n",
              "  </thead>\n",
              "  <tbody>\n",
              "    <tr>\n",
              "      <th>0</th>\n",
              "      <td>2018-01-01T00:00:00Z</td>\n",
              "      <td>677</td>\n",
              "      <td>Cremona Via Fatebenefratelli</td>\n",
              "      <td>6.2</td>\n",
              "      <td>NaN</td>\n",
              "      <td>NaN</td>\n",
              "      <td>NaN</td>\n",
              "      <td>NaN</td>\n",
              "      <td>0.508333</td>\n",
              "      <td>NaN</td>\n",
              "      <td>...</td>\n",
              "      <td>677</td>\n",
              "      <td>Cremona Via Fatebenefratelli</td>\n",
              "      <td>0.483454</td>\n",
              "      <td>314.0</td>\n",
              "      <td>2.615278</td>\n",
              "      <td>93.738194</td>\n",
              "      <td>21.268056</td>\n",
              "      <td>2.133333</td>\n",
              "      <td>NaN</td>\n",
              "      <td>7.2</td>\n",
              "    </tr>\n",
              "    <tr>\n",
              "      <th>1</th>\n",
              "      <td>2018-01-01T00:00:00Z</td>\n",
              "      <td>681</td>\n",
              "      <td>Moggio</td>\n",
              "      <td>1.4</td>\n",
              "      <td>NaN</td>\n",
              "      <td>NaN</td>\n",
              "      <td>NaN</td>\n",
              "      <td>NaN</td>\n",
              "      <td>NaN</td>\n",
              "      <td>NaN</td>\n",
              "      <td>...</td>\n",
              "      <td>111</td>\n",
              "      <td>Cassina Valsassina Moggio</td>\n",
              "      <td>0.300970</td>\n",
              "      <td>65.0</td>\n",
              "      <td>2.095833</td>\n",
              "      <td>74.055556</td>\n",
              "      <td>60.152778</td>\n",
              "      <td>1.939583</td>\n",
              "      <td>144.0</td>\n",
              "      <td>2.4</td>\n",
              "    </tr>\n",
              "    <tr>\n",
              "      <th>2</th>\n",
              "      <td>2018-01-01T00:00:00Z</td>\n",
              "      <td>703</td>\n",
              "      <td>Schivenoglia</td>\n",
              "      <td>NaN</td>\n",
              "      <td>NaN</td>\n",
              "      <td>1.0</td>\n",
              "      <td>NaN</td>\n",
              "      <td>NaN</td>\n",
              "      <td>1.159091</td>\n",
              "      <td>NaN</td>\n",
              "      <td>...</td>\n",
              "      <td>671</td>\n",
              "      <td>Mantova Tridolino</td>\n",
              "      <td>1.540787</td>\n",
              "      <td>288.0</td>\n",
              "      <td>2.761806</td>\n",
              "      <td>99.475694</td>\n",
              "      <td>14.163194</td>\n",
              "      <td>3.524306</td>\n",
              "      <td>NaN</td>\n",
              "      <td>5.8</td>\n",
              "    </tr>\n",
              "    <tr>\n",
              "      <th>3</th>\n",
              "      <td>2018-01-02T00:00:00Z</td>\n",
              "      <td>677</td>\n",
              "      <td>Cremona Via Fatebenefratelli</td>\n",
              "      <td>1.8</td>\n",
              "      <td>NaN</td>\n",
              "      <td>NaN</td>\n",
              "      <td>NaN</td>\n",
              "      <td>NaN</td>\n",
              "      <td>0.375000</td>\n",
              "      <td>NaN</td>\n",
              "      <td>...</td>\n",
              "      <td>677</td>\n",
              "      <td>Cremona Via Fatebenefratelli</td>\n",
              "      <td>1.788399</td>\n",
              "      <td>284.0</td>\n",
              "      <td>5.974306</td>\n",
              "      <td>70.609722</td>\n",
              "      <td>72.734028</td>\n",
              "      <td>4.377083</td>\n",
              "      <td>NaN</td>\n",
              "      <td>0.0</td>\n",
              "    </tr>\n",
              "    <tr>\n",
              "      <th>4</th>\n",
              "      <td>2018-01-02T00:00:00Z</td>\n",
              "      <td>681</td>\n",
              "      <td>Moggio</td>\n",
              "      <td>1.0</td>\n",
              "      <td>NaN</td>\n",
              "      <td>NaN</td>\n",
              "      <td>NaN</td>\n",
              "      <td>NaN</td>\n",
              "      <td>NaN</td>\n",
              "      <td>NaN</td>\n",
              "      <td>...</td>\n",
              "      <td>111</td>\n",
              "      <td>Cassina Valsassina Moggio</td>\n",
              "      <td>0.613183</td>\n",
              "      <td>9.0</td>\n",
              "      <td>1.670139</td>\n",
              "      <td>39.194444</td>\n",
              "      <td>68.250000</td>\n",
              "      <td>3.075000</td>\n",
              "      <td>213.0</td>\n",
              "      <td>0.0</td>\n",
              "    </tr>\n",
              "  </tbody>\n",
              "</table>\n",
              "<p>5 rows × 31 columns</p>\n",
              "</div>"
            ],
            "text/plain": [
              "                   Date  IDStation                   NameStation  Ammonia  \\\n",
              "0  2018-01-01T00:00:00Z        677  Cremona Via Fatebenefratelli      6.2   \n",
              "1  2018-01-01T00:00:00Z        681                        Moggio      1.4   \n",
              "2  2018-01-01T00:00:00Z        703                  Schivenoglia      NaN   \n",
              "3  2018-01-02T00:00:00Z        677  Cremona Via Fatebenefratelli      1.8   \n",
              "4  2018-01-02T00:00:00Z        681                        Moggio      1.0   \n",
              "\n",
              "   Arsenic  Benzene  Benzo_a_pyrene  Cadmium        CO  Lead  ...  \\\n",
              "0      NaN      NaN             NaN      NaN  0.508333   NaN  ...   \n",
              "1      NaN      NaN             NaN      NaN       NaN   NaN  ...   \n",
              "2      NaN      1.0             NaN      NaN  1.159091   NaN  ...   \n",
              "3      NaN      NaN             NaN      NaN  0.375000   NaN  ...   \n",
              "4      NaN      NaN             NaN      NaN       NaN   NaN  ...   \n",
              "\n",
              "   IDStation.2                 NameStation.1  Wind_speed  Wind_direction  \\\n",
              "0          677  Cremona Via Fatebenefratelli    0.483454           314.0   \n",
              "1          111     Cassina Valsassina Moggio    0.300970            65.0   \n",
              "2          671             Mantova Tridolino    1.540787           288.0   \n",
              "3          677  Cremona Via Fatebenefratelli    1.788399           284.0   \n",
              "4          111     Cassina Valsassina Moggio    0.613183             9.0   \n",
              "\n",
              "   Temperature  Relative_humidity  Global_radiation  Wind_speed_max  \\\n",
              "0     2.615278          93.738194         21.268056        2.133333   \n",
              "1     2.095833          74.055556         60.152778        1.939583   \n",
              "2     2.761806          99.475694         14.163194        3.524306   \n",
              "3     5.974306          70.609722         72.734028        4.377083   \n",
              "4     1.670139          39.194444         68.250000        3.075000   \n",
              "\n",
              "   Wind_direction_max  Rainfall  \n",
              "0                 NaN       7.2  \n",
              "1               144.0       2.4  \n",
              "2                 NaN       5.8  \n",
              "3                 NaN       0.0  \n",
              "4               213.0       0.0  \n",
              "\n",
              "[5 rows x 31 columns]"
            ]
          },
          "execution_count": 2,
          "metadata": {},
          "output_type": "execute_result"
        }
      ],
      "source": [
        "table = read_csv('/Users/davidguzman/Documents/GitHub/BachelorThesis/csvs/NNdata.csv')\n",
        "table.head()"
      ]
    },
    {
      "cell_type": "code",
      "execution_count": 16,
      "metadata": {
        "colab": {
          "base_uri": "https://localhost:8080/",
          "height": 206
        },
        "id": "ApNM1Dpm0ai-",
        "outputId": "0f959fc4-c675-4df6-be3c-8efeae9bfd3d"
      },
      "outputs": [
        {
          "data": {
            "text/html": [
              "<div>\n",
              "<style scoped>\n",
              "    .dataframe tbody tr th:only-of-type {\n",
              "        vertical-align: middle;\n",
              "    }\n",
              "\n",
              "    .dataframe tbody tr th {\n",
              "        vertical-align: top;\n",
              "    }\n",
              "\n",
              "    .dataframe thead th {\n",
              "        text-align: right;\n",
              "    }\n",
              "</style>\n",
              "<table border=\"1\" class=\"dataframe\">\n",
              "  <thead>\n",
              "    <tr style=\"text-align: right;\">\n",
              "      <th></th>\n",
              "      <th>index</th>\n",
              "      <th>Date</th>\n",
              "      <th>Ammonia</th>\n",
              "      <th>PM10</th>\n",
              "      <th>PM25</th>\n",
              "      <th>Wind_speed</th>\n",
              "      <th>Wind_direction</th>\n",
              "      <th>Temperature</th>\n",
              "      <th>Rainfall</th>\n",
              "    </tr>\n",
              "  </thead>\n",
              "  <tbody>\n",
              "    <tr>\n",
              "      <th>0</th>\n",
              "      <td>1</td>\n",
              "      <td>2018-01-01T00:00:00Z</td>\n",
              "      <td>1.4</td>\n",
              "      <td>5.0</td>\n",
              "      <td>4.0</td>\n",
              "      <td>0.300970</td>\n",
              "      <td>65.0</td>\n",
              "      <td>2.095833</td>\n",
              "      <td>2.4</td>\n",
              "    </tr>\n",
              "    <tr>\n",
              "      <th>1</th>\n",
              "      <td>4</td>\n",
              "      <td>2018-01-02T00:00:00Z</td>\n",
              "      <td>1.0</td>\n",
              "      <td>3.0</td>\n",
              "      <td>2.0</td>\n",
              "      <td>0.613183</td>\n",
              "      <td>9.0</td>\n",
              "      <td>1.670139</td>\n",
              "      <td>0.0</td>\n",
              "    </tr>\n",
              "    <tr>\n",
              "      <th>2</th>\n",
              "      <td>7</td>\n",
              "      <td>2018-01-03T00:00:00Z</td>\n",
              "      <td>1.0</td>\n",
              "      <td>5.0</td>\n",
              "      <td>5.0</td>\n",
              "      <td>0.539172</td>\n",
              "      <td>28.0</td>\n",
              "      <td>1.972222</td>\n",
              "      <td>0.6</td>\n",
              "    </tr>\n",
              "    <tr>\n",
              "      <th>3</th>\n",
              "      <td>10</td>\n",
              "      <td>2018-01-04T00:00:00Z</td>\n",
              "      <td>1.4</td>\n",
              "      <td>6.0</td>\n",
              "      <td>3.0</td>\n",
              "      <td>0.211450</td>\n",
              "      <td>21.0</td>\n",
              "      <td>3.081250</td>\n",
              "      <td>0.0</td>\n",
              "    </tr>\n",
              "    <tr>\n",
              "      <th>4</th>\n",
              "      <td>13</td>\n",
              "      <td>2018-01-05T00:00:00Z</td>\n",
              "      <td>1.7</td>\n",
              "      <td>7.0</td>\n",
              "      <td>8.0</td>\n",
              "      <td>0.116953</td>\n",
              "      <td>87.0</td>\n",
              "      <td>3.653472</td>\n",
              "      <td>0.0</td>\n",
              "    </tr>\n",
              "  </tbody>\n",
              "</table>\n",
              "</div>"
            ],
            "text/plain": [
              "   index                  Date  Ammonia  PM10  PM25  Wind_speed  \\\n",
              "0      1  2018-01-01T00:00:00Z      1.4   5.0   4.0    0.300970   \n",
              "1      4  2018-01-02T00:00:00Z      1.0   3.0   2.0    0.613183   \n",
              "2      7  2018-01-03T00:00:00Z      1.0   5.0   5.0    0.539172   \n",
              "3     10  2018-01-04T00:00:00Z      1.4   6.0   3.0    0.211450   \n",
              "4     13  2018-01-05T00:00:00Z      1.7   7.0   8.0    0.116953   \n",
              "\n",
              "   Wind_direction  Temperature  Rainfall  \n",
              "0            65.0     2.095833       2.4  \n",
              "1             9.0     1.670139       0.0  \n",
              "2            28.0     1.972222       0.6  \n",
              "3            21.0     3.081250       0.0  \n",
              "4            87.0     3.653472       0.0  "
            ]
          },
          "execution_count": 16,
          "metadata": {},
          "output_type": "execute_result"
        }
      ],
      "source": [
        "Moggio = table.loc[table.loc[:,\"NameStation\"]==\"Moggio\",:]\n",
        "Moggio = Moggio.loc[:,[\"Date\",\"Ammonia\",\"PM10\",\"PM25\",\"Wind_speed\",\"Wind_direction\",\"Temperature\",\"Rainfall\"]]\n",
        "Moggio = Moggio.dropna(how=\"any\")\n",
        "Moggio = Moggio.reset_index()\n",
        "Moggio = Moggio.iloc[:730,:] # we train not using 2020, for now\n",
        "Moggio.head()\n"
      ]
    },
    {
      "cell_type": "markdown",
      "metadata": {
        "id": "6wXsLnh_1JbF"
      },
      "source": [
        "##Convert series to supervised learning"
      ]
    },
    {
      "cell_type": "markdown",
      "metadata": {
        "id": "24Av99KQ1UEW"
      },
      "source": [
        "###Conversion Function"
      ]
    },
    {
      "cell_type": "code",
      "execution_count": 6,
      "metadata": {
        "id": "zb-KlY4Q0amR"
      },
      "outputs": [],
      "source": [
        "from pandas import DataFrame\n",
        "from pandas import concat\n",
        " \n",
        "def series_to_supervised(data, n_in=1, n_out=1, dropnan=True):\n",
        "\t\"\"\"\n",
        "\tFrame a time series as a supervised learning dataset.\n",
        "\tArguments:\n",
        "\t\tdata: Sequence of observations as a list or NumPy array.\n",
        "\t\tn_in: Number of lag observations as input (X).\n",
        "\t\tn_out: Number of observations as output (y).\n",
        "\t\tdropnan: Boolean whether or not to drop rows with NaN values.\n",
        "\tReturns:\n",
        "\t\tPandas DataFrame of series framed for supervised learning.\n",
        "\t\"\"\"\n",
        "\tn_vars = 1 if type(data) is list else data.shape[1]\n",
        "\tdf = DataFrame(data)\n",
        "\tcols, names = list(), list()\n",
        "\t# input sequence (t-n, ... t-1)\n",
        "\tfor i in range(n_in, 0, -1):\n",
        "\t\tcols.append(df.shift(i))\n",
        "\t\tnames += [('var%d(t-%d)' % (j+1, i)) for j in range(n_vars)]\n",
        "\t# forecast sequence (t, t+1, ... t+n)\n",
        "\tfor i in range(0, n_out):\n",
        "\t\tcols.append(df.shift(-i))\n",
        "\t\tif i == 0:\n",
        "\t\t\tnames += [('var%d(t)' % (j+1)) for j in range(n_vars)]\n",
        "\t\telse:\n",
        "\t\t\tnames += [('var%d(t+%d)' % (j+1, i)) for j in range(n_vars)]\n",
        "\t# put it all together\n",
        "\tagg = concat(cols, axis=1)\n",
        "\tagg.columns = names\n",
        "\t# drop rows with NaN values\n",
        "\tif dropnan:\n",
        "\t\tagg.dropna(inplace=True)\n",
        "\treturn agg"
      ]
    },
    {
      "cell_type": "markdown",
      "metadata": {
        "id": "q0zHE-3h1vGz"
      },
      "source": [
        "### Conversion of Moggio"
      ]
    },
    {
      "cell_type": "code",
      "execution_count": 17,
      "metadata": {
        "colab": {
          "base_uri": "https://localhost:8080/",
          "height": 226
        },
        "id": "IwL5Zn9j11Ce",
        "outputId": "4240bcd5-0d56-4c22-e7c2-983dd837de78"
      },
      "outputs": [
        {
          "data": {
            "text/html": [
              "<div>\n",
              "<style scoped>\n",
              "    .dataframe tbody tr th:only-of-type {\n",
              "        vertical-align: middle;\n",
              "    }\n",
              "\n",
              "    .dataframe tbody tr th {\n",
              "        vertical-align: top;\n",
              "    }\n",
              "\n",
              "    .dataframe thead th {\n",
              "        text-align: right;\n",
              "    }\n",
              "</style>\n",
              "<table border=\"1\" class=\"dataframe\">\n",
              "  <thead>\n",
              "    <tr style=\"text-align: right;\">\n",
              "      <th></th>\n",
              "      <th>var1(t-5)</th>\n",
              "      <th>var2(t-5)</th>\n",
              "      <th>var3(t-5)</th>\n",
              "      <th>var4(t-5)</th>\n",
              "      <th>var5(t-5)</th>\n",
              "      <th>var6(t-5)</th>\n",
              "      <th>var7(t-5)</th>\n",
              "      <th>var1(t-4)</th>\n",
              "      <th>var2(t-4)</th>\n",
              "      <th>var3(t-4)</th>\n",
              "      <th>...</th>\n",
              "      <th>var6(t-2)</th>\n",
              "      <th>var7(t-2)</th>\n",
              "      <th>var1(t-1)</th>\n",
              "      <th>var2(t-1)</th>\n",
              "      <th>var3(t-1)</th>\n",
              "      <th>var4(t-1)</th>\n",
              "      <th>var5(t-1)</th>\n",
              "      <th>var6(t-1)</th>\n",
              "      <th>var7(t-1)</th>\n",
              "      <th>var1(t)</th>\n",
              "    </tr>\n",
              "  </thead>\n",
              "  <tbody>\n",
              "    <tr>\n",
              "      <th>5</th>\n",
              "      <td>0.069307</td>\n",
              "      <td>0.081967</td>\n",
              "      <td>0.088889</td>\n",
              "      <td>0.107422</td>\n",
              "      <td>0.180556</td>\n",
              "      <td>0.349921</td>\n",
              "      <td>0.024540</td>\n",
              "      <td>0.049505</td>\n",
              "      <td>0.049180</td>\n",
              "      <td>0.044444</td>\n",
              "      <td>...</td>\n",
              "      <td>0.375686</td>\n",
              "      <td>0.000000</td>\n",
              "      <td>0.084158</td>\n",
              "      <td>0.114754</td>\n",
              "      <td>0.177778</td>\n",
              "      <td>0.038250</td>\n",
              "      <td>0.241667</td>\n",
              "      <td>0.390648</td>\n",
              "      <td>0.000000</td>\n",
              "      <td>0.094059</td>\n",
              "    </tr>\n",
              "    <tr>\n",
              "      <th>6</th>\n",
              "      <td>0.049505</td>\n",
              "      <td>0.049180</td>\n",
              "      <td>0.044444</td>\n",
              "      <td>0.224783</td>\n",
              "      <td>0.025000</td>\n",
              "      <td>0.338791</td>\n",
              "      <td>0.000000</td>\n",
              "      <td>0.049505</td>\n",
              "      <td>0.081967</td>\n",
              "      <td>0.111111</td>\n",
              "      <td>...</td>\n",
              "      <td>0.390648</td>\n",
              "      <td>0.000000</td>\n",
              "      <td>0.094059</td>\n",
              "      <td>0.098361</td>\n",
              "      <td>0.155556</td>\n",
              "      <td>0.476069</td>\n",
              "      <td>0.361111</td>\n",
              "      <td>0.403358</td>\n",
              "      <td>0.100204</td>\n",
              "      <td>0.094059</td>\n",
              "    </tr>\n",
              "    <tr>\n",
              "      <th>7</th>\n",
              "      <td>0.049505</td>\n",
              "      <td>0.081967</td>\n",
              "      <td>0.111111</td>\n",
              "      <td>0.196962</td>\n",
              "      <td>0.077778</td>\n",
              "      <td>0.346689</td>\n",
              "      <td>0.006135</td>\n",
              "      <td>0.069307</td>\n",
              "      <td>0.098361</td>\n",
              "      <td>0.066667</td>\n",
              "      <td>...</td>\n",
              "      <td>0.403358</td>\n",
              "      <td>0.100204</td>\n",
              "      <td>0.094059</td>\n",
              "      <td>0.163934</td>\n",
              "      <td>0.177778</td>\n",
              "      <td>0.765240</td>\n",
              "      <td>0.597222</td>\n",
              "      <td>0.433662</td>\n",
              "      <td>0.012270</td>\n",
              "      <td>0.084158</td>\n",
              "    </tr>\n",
              "    <tr>\n",
              "      <th>8</th>\n",
              "      <td>0.069307</td>\n",
              "      <td>0.098361</td>\n",
              "      <td>0.066667</td>\n",
              "      <td>0.073772</td>\n",
              "      <td>0.058333</td>\n",
              "      <td>0.375686</td>\n",
              "      <td>0.000000</td>\n",
              "      <td>0.084158</td>\n",
              "      <td>0.114754</td>\n",
              "      <td>0.177778</td>\n",
              "      <td>...</td>\n",
              "      <td>0.433662</td>\n",
              "      <td>0.012270</td>\n",
              "      <td>0.084158</td>\n",
              "      <td>0.180328</td>\n",
              "      <td>0.155556</td>\n",
              "      <td>0.927869</td>\n",
              "      <td>0.602778</td>\n",
              "      <td>0.459754</td>\n",
              "      <td>0.000000</td>\n",
              "      <td>0.084158</td>\n",
              "    </tr>\n",
              "    <tr>\n",
              "      <th>9</th>\n",
              "      <td>0.084158</td>\n",
              "      <td>0.114754</td>\n",
              "      <td>0.177778</td>\n",
              "      <td>0.038250</td>\n",
              "      <td>0.241667</td>\n",
              "      <td>0.390648</td>\n",
              "      <td>0.000000</td>\n",
              "      <td>0.094059</td>\n",
              "      <td>0.098361</td>\n",
              "      <td>0.155556</td>\n",
              "      <td>...</td>\n",
              "      <td>0.459754</td>\n",
              "      <td>0.000000</td>\n",
              "      <td>0.084158</td>\n",
              "      <td>0.245902</td>\n",
              "      <td>0.133333</td>\n",
              "      <td>0.596370</td>\n",
              "      <td>0.783333</td>\n",
              "      <td>0.391011</td>\n",
              "      <td>0.329243</td>\n",
              "      <td>0.074257</td>\n",
              "    </tr>\n",
              "  </tbody>\n",
              "</table>\n",
              "<p>5 rows × 36 columns</p>\n",
              "</div>"
            ],
            "text/plain": [
              "   var1(t-5)  var2(t-5)  var3(t-5)  var4(t-5)  var5(t-5)  var6(t-5)  \\\n",
              "5   0.069307   0.081967   0.088889   0.107422   0.180556   0.349921   \n",
              "6   0.049505   0.049180   0.044444   0.224783   0.025000   0.338791   \n",
              "7   0.049505   0.081967   0.111111   0.196962   0.077778   0.346689   \n",
              "8   0.069307   0.098361   0.066667   0.073772   0.058333   0.375686   \n",
              "9   0.084158   0.114754   0.177778   0.038250   0.241667   0.390648   \n",
              "\n",
              "   var7(t-5)  var1(t-4)  var2(t-4)  var3(t-4)  ...  var6(t-2)  var7(t-2)  \\\n",
              "5   0.024540   0.049505   0.049180   0.044444  ...   0.375686   0.000000   \n",
              "6   0.000000   0.049505   0.081967   0.111111  ...   0.390648   0.000000   \n",
              "7   0.006135   0.069307   0.098361   0.066667  ...   0.403358   0.100204   \n",
              "8   0.000000   0.084158   0.114754   0.177778  ...   0.433662   0.012270   \n",
              "9   0.000000   0.094059   0.098361   0.155556  ...   0.459754   0.000000   \n",
              "\n",
              "   var1(t-1)  var2(t-1)  var3(t-1)  var4(t-1)  var5(t-1)  var6(t-1)  \\\n",
              "5   0.084158   0.114754   0.177778   0.038250   0.241667   0.390648   \n",
              "6   0.094059   0.098361   0.155556   0.476069   0.361111   0.403358   \n",
              "7   0.094059   0.163934   0.177778   0.765240   0.597222   0.433662   \n",
              "8   0.084158   0.180328   0.155556   0.927869   0.602778   0.459754   \n",
              "9   0.084158   0.245902   0.133333   0.596370   0.783333   0.391011   \n",
              "\n",
              "   var7(t-1)   var1(t)  \n",
              "5   0.000000  0.094059  \n",
              "6   0.100204  0.094059  \n",
              "7   0.012270  0.084158  \n",
              "8   0.000000  0.084158  \n",
              "9   0.329243  0.074257  \n",
              "\n",
              "[5 rows x 36 columns]"
            ]
          },
          "execution_count": 17,
          "metadata": {},
          "output_type": "execute_result"
        }
      ],
      "source": [
        "values = Moggio.iloc[:,2:].values\n",
        "# ensure all data is float\n",
        "values = values.astype('float32')\n",
        "# normalize features\n",
        "scaler = MinMaxScaler(feature_range=(0, 1))\n",
        "scaled = scaler.fit_transform(values)\n",
        "# frame as supervised learning\n",
        "n_days = 5\n",
        "reframed = series_to_supervised(scaled, n_days, 1) # info of the past 5 days to determine next (1) day\n",
        "# drop columns we don't want to predict (we therefore keep Ammonia)\n",
        "reframed.drop(reframed.columns[[36,37,38,39,40,41]], axis=1, inplace=True)\n",
        "\n",
        "reframed.head()"
      ]
    },
    {
      "cell_type": "code",
      "execution_count": 18,
      "metadata": {
        "colab": {
          "base_uri": "https://localhost:8080/"
        },
        "id": "b6Mx9MPBARpb",
        "outputId": "207e4566-191d-46f3-ba85-88b11c1074d0"
      },
      "outputs": [
        {
          "name": "stdout",
          "output_type": "stream",
          "text": [
            "(365, 35) 365 (365,)\n",
            "(365, 5, 7) (365,) (360, 5, 7) (360,)\n"
          ]
        }
      ],
      "source": [
        "# split into train and test sets\n",
        "values = reframed.values\n",
        "n_features = 7 # number of variables, including the one to be predicted\n",
        "n_train_days = 365 # we train using only the first year\n",
        "train = values[:n_train_days, :]\n",
        "test = values[n_train_days:, :] # we test using all successive years \n",
        "# split into input and outputs\n",
        "n_obs = n_days * n_features\n",
        "train_X, train_y = train[:, :n_obs], train[:, -1]\n",
        "test_X, test_y = test[:, :n_obs], test[:, -1]\n",
        "print(train_X.shape, len(train_X), train_y.shape)\n",
        "# reshape input to be 3D [samples, timesteps, features]\n",
        "train_X = train_X.reshape((train_X.shape[0], n_days, n_features))\n",
        "test_X = test_X.reshape((test_X.shape[0], n_days, n_features))\n",
        "print(train_X.shape, train_y.shape, test_X.shape, test_y.shape)"
      ]
    },
    {
      "cell_type": "markdown",
      "metadata": {
        "id": "NKLpWbJH7Kmj"
      },
      "source": [
        "# Modeling and training"
      ]
    },
    {
      "cell_type": "code",
      "execution_count": 19,
      "metadata": {
        "colab": {
          "base_uri": "https://localhost:8080/",
          "height": 1000
        },
        "id": "Ggc63fyoD9MG",
        "outputId": "1c4d7f39-ad17-4c25-dbdf-e390b7a9f6be"
      },
      "outputs": [
        {
          "name": "stdout",
          "output_type": "stream",
          "text": [
            "Epoch 1/1000\n"
          ]
        },
        {
          "name": "stderr",
          "output_type": "stream",
          "text": [
            "2021-12-01 00:10:37.339358: I tensorflow/core/grappler/optimizers/custom_graph_optimizer_registry.cc:112] Plugin optimizer for device_type GPU is enabled.\n",
            "2021-12-01 00:10:37.489470: I tensorflow/core/grappler/optimizers/custom_graph_optimizer_registry.cc:112] Plugin optimizer for device_type GPU is enabled.\n",
            "2021-12-01 00:10:37.529246: I tensorflow/core/grappler/optimizers/custom_graph_optimizer_registry.cc:112] Plugin optimizer for device_type GPU is enabled.\n",
            "2021-12-01 00:10:37.570428: I tensorflow/core/grappler/optimizers/custom_graph_optimizer_registry.cc:112] Plugin optimizer for device_type GPU is enabled.\n",
            "2021-12-01 00:10:37.637822: I tensorflow/core/grappler/optimizers/custom_graph_optimizer_registry.cc:112] Plugin optimizer for device_type GPU is enabled.\n",
            "2021-12-01 00:10:37.704529: I tensorflow/core/grappler/optimizers/custom_graph_optimizer_registry.cc:112] Plugin optimizer for device_type GPU is enabled.\n",
            "2021-12-01 00:10:37.777529: I tensorflow/core/grappler/optimizers/custom_graph_optimizer_registry.cc:112] Plugin optimizer for device_type GPU is enabled.\n"
          ]
        },
        {
          "name": "stdout",
          "output_type": "stream",
          "text": [
            "1/1 - 2s - loss: 0.2083 - val_loss: 0.1929\n"
          ]
        },
        {
          "name": "stderr",
          "output_type": "stream",
          "text": [
            "2021-12-01 00:10:38.236692: I tensorflow/core/grappler/optimizers/custom_graph_optimizer_registry.cc:112] Plugin optimizer for device_type GPU is enabled.\n",
            "2021-12-01 00:10:38.292942: I tensorflow/core/grappler/optimizers/custom_graph_optimizer_registry.cc:112] Plugin optimizer for device_type GPU is enabled.\n",
            "2021-12-01 00:10:38.334174: I tensorflow/core/grappler/optimizers/custom_graph_optimizer_registry.cc:112] Plugin optimizer for device_type GPU is enabled.\n",
            "2021-12-01 00:10:38.378752: I tensorflow/core/grappler/optimizers/custom_graph_optimizer_registry.cc:112] Plugin optimizer for device_type GPU is enabled.\n"
          ]
        },
        {
          "name": "stdout",
          "output_type": "stream",
          "text": [
            "Epoch 2/1000\n",
            "1/1 - 0s - loss: 0.1958 - val_loss: 0.1860\n",
            "Epoch 3/1000\n",
            "1/1 - 0s - loss: 0.1845 - val_loss: 0.1789\n",
            "Epoch 4/1000\n",
            "1/1 - 0s - loss: 0.1723 - val_loss: 0.1736\n",
            "Epoch 5/1000\n",
            "1/1 - 0s - loss: 0.1617 - val_loss: 0.1691\n",
            "Epoch 6/1000\n",
            "1/1 - 0s - loss: 0.1517 - val_loss: 0.1650\n",
            "Epoch 7/1000\n",
            "1/1 - 0s - loss: 0.1425 - val_loss: 0.1615\n",
            "Epoch 8/1000\n",
            "1/1 - 0s - loss: 0.1337 - val_loss: 0.1583\n",
            "Epoch 9/1000\n",
            "1/1 - 0s - loss: 0.1255 - val_loss: 0.1557\n",
            "Epoch 10/1000\n",
            "1/1 - 0s - loss: 0.1183 - val_loss: 0.1545\n",
            "Epoch 11/1000\n",
            "1/1 - 0s - loss: 0.1130 - val_loss: 0.1547\n",
            "Epoch 12/1000\n",
            "1/1 - 0s - loss: 0.1108 - val_loss: 0.1563\n",
            "Epoch 13/1000\n",
            "1/1 - 0s - loss: 0.1112 - val_loss: 0.1588\n",
            "Epoch 14/1000\n",
            "1/1 - 0s - loss: 0.1134 - val_loss: 0.1613\n",
            "Epoch 15/1000\n",
            "1/1 - 0s - loss: 0.1163 - val_loss: 0.1632\n",
            "Epoch 16/1000\n",
            "1/1 - 0s - loss: 0.1188 - val_loss: 0.1637\n",
            "Epoch 17/1000\n",
            "1/1 - 0s - loss: 0.1196 - val_loss: 0.1627\n",
            "Epoch 18/1000\n",
            "1/1 - 0s - loss: 0.1187 - val_loss: 0.1607\n",
            "Epoch 19/1000\n",
            "1/1 - 0s - loss: 0.1167 - val_loss: 0.1584\n",
            "Epoch 20/1000\n",
            "1/1 - 0s - loss: 0.1142 - val_loss: 0.1559\n",
            "Epoch 21/1000\n",
            "1/1 - 0s - loss: 0.1116 - val_loss: 0.1533\n",
            "Epoch 22/1000\n",
            "1/1 - 0s - loss: 0.1091 - val_loss: 0.1511\n",
            "Epoch 23/1000\n",
            "1/1 - 0s - loss: 0.1074 - val_loss: 0.1497\n",
            "Epoch 24/1000\n",
            "1/1 - 0s - loss: 0.1068 - val_loss: 0.1488\n",
            "Epoch 25/1000\n",
            "1/1 - 0s - loss: 0.1070 - val_loss: 0.1483\n",
            "Epoch 26/1000\n",
            "1/1 - 0s - loss: 0.1077 - val_loss: 0.1480\n",
            "Epoch 27/1000\n",
            "1/1 - 0s - loss: 0.1084 - val_loss: 0.1476\n",
            "Epoch 28/1000\n",
            "1/1 - 0s - loss: 0.1086 - val_loss: 0.1470\n",
            "Epoch 29/1000\n",
            "1/1 - 0s - loss: 0.1081 - val_loss: 0.1463\n",
            "Epoch 30/1000\n",
            "1/1 - 0s - loss: 0.1069 - val_loss: 0.1454\n",
            "Epoch 31/1000\n",
            "1/1 - 0s - loss: 0.1054 - val_loss: 0.1447\n",
            "Epoch 32/1000\n",
            "1/1 - 0s - loss: 0.1039 - val_loss: 0.1442\n",
            "Epoch 33/1000\n",
            "1/1 - 0s - loss: 0.1026 - val_loss: 0.1441\n",
            "Epoch 34/1000\n",
            "1/1 - 0s - loss: 0.1022 - val_loss: 0.1446\n",
            "Epoch 35/1000\n",
            "1/1 - 0s - loss: 0.1027 - val_loss: 0.1453\n",
            "Epoch 36/1000\n",
            "1/1 - 0s - loss: 0.1037 - val_loss: 0.1453\n",
            "Epoch 37/1000\n",
            "1/1 - 0s - loss: 0.1042 - val_loss: 0.1442\n",
            "Epoch 38/1000\n",
            "1/1 - 0s - loss: 0.1033 - val_loss: 0.1422\n",
            "Epoch 39/1000\n",
            "1/1 - 0s - loss: 0.1013 - val_loss: 0.1398\n",
            "Epoch 40/1000\n",
            "1/1 - 0s - loss: 0.0991 - val_loss: 0.1379\n",
            "Epoch 41/1000\n",
            "1/1 - 0s - loss: 0.0978 - val_loss: 0.1368\n",
            "Epoch 42/1000\n",
            "1/1 - 0s - loss: 0.0980 - val_loss: 0.1363\n",
            "Epoch 43/1000\n",
            "1/1 - 0s - loss: 0.0989 - val_loss: 0.1353\n",
            "Epoch 44/1000\n",
            "1/1 - 0s - loss: 0.0981 - val_loss: 0.1341\n",
            "Epoch 45/1000\n",
            "1/1 - 0s - loss: 0.0959 - val_loss: 0.1338\n",
            "Epoch 46/1000\n",
            "1/1 - 0s - loss: 0.0948 - val_loss: 0.1346\n",
            "Epoch 47/1000\n",
            "1/1 - 0s - loss: 0.0957 - val_loss: 0.1343\n",
            "Epoch 48/1000\n",
            "1/1 - 0s - loss: 0.0958 - val_loss: 0.1319\n",
            "Epoch 49/1000\n",
            "1/1 - 0s - loss: 0.0936 - val_loss: 0.1295\n",
            "Epoch 50/1000\n",
            "1/1 - 0s - loss: 0.0923 - val_loss: 0.1288\n",
            "Epoch 51/1000\n",
            "1/1 - 0s - loss: 0.0940 - val_loss: 0.1272\n",
            "Epoch 52/1000\n",
            "1/1 - 0s - loss: 0.0917 - val_loss: 0.1275\n",
            "Epoch 53/1000\n",
            "1/1 - 0s - loss: 0.0909 - val_loss: 0.1283\n",
            "Epoch 54/1000\n",
            "1/1 - 0s - loss: 0.0918 - val_loss: 0.1245\n",
            "Epoch 55/1000\n",
            "1/1 - 0s - loss: 0.0890 - val_loss: 0.1215\n",
            "Epoch 56/1000\n",
            "1/1 - 0s - loss: 0.0891 - val_loss: 0.1192\n",
            "Epoch 57/1000\n",
            "1/1 - 0s - loss: 0.0868 - val_loss: 0.1207\n",
            "Epoch 58/1000\n",
            "1/1 - 0s - loss: 0.0869 - val_loss: 0.1163\n",
            "Epoch 59/1000\n",
            "1/1 - 0s - loss: 0.0846 - val_loss: 0.1125\n",
            "Epoch 60/1000\n",
            "1/1 - 0s - loss: 0.0857 - val_loss: 0.1148\n",
            "Epoch 61/1000\n",
            "1/1 - 0s - loss: 0.0847 - val_loss: 0.1144\n",
            "Epoch 62/1000\n",
            "1/1 - 0s - loss: 0.0852 - val_loss: 0.1112\n",
            "Epoch 63/1000\n",
            "1/1 - 0s - loss: 0.0892 - val_loss: 0.1276\n",
            "Epoch 64/1000\n",
            "1/1 - 0s - loss: 0.0979 - val_loss: 0.1121\n",
            "Epoch 65/1000\n",
            "1/1 - 0s - loss: 0.0873 - val_loss: 0.1151\n",
            "Epoch 66/1000\n",
            "1/1 - 0s - loss: 0.0929 - val_loss: 0.1260\n",
            "Epoch 67/1000\n",
            "1/1 - 0s - loss: 0.0941 - val_loss: 0.1185\n",
            "Epoch 68/1000\n",
            "1/1 - 0s - loss: 0.0876 - val_loss: 0.1203\n",
            "Epoch 69/1000\n",
            "1/1 - 0s - loss: 0.0969 - val_loss: 0.1255\n",
            "Epoch 70/1000\n",
            "1/1 - 0s - loss: 0.0901 - val_loss: 0.1320\n",
            "Epoch 71/1000\n",
            "1/1 - 0s - loss: 0.0945 - val_loss: 0.1238\n",
            "Epoch 72/1000\n",
            "1/1 - 0s - loss: 0.0935 - val_loss: 0.1256\n",
            "Epoch 73/1000\n",
            "1/1 - 0s - loss: 0.0927 - val_loss: 0.1379\n",
            "Epoch 74/1000\n",
            "1/1 - 0s - loss: 0.0975 - val_loss: 0.1329\n",
            "Epoch 75/1000\n",
            "1/1 - 0s - loss: 0.0934 - val_loss: 0.1334\n",
            "Epoch 76/1000\n",
            "1/1 - 0s - loss: 0.1030 - val_loss: 0.1372\n",
            "Epoch 77/1000\n",
            "1/1 - 0s - loss: 0.0958 - val_loss: 0.1414\n",
            "Epoch 78/1000\n",
            "1/1 - 0s - loss: 0.0989 - val_loss: 0.1369\n",
            "Epoch 79/1000\n",
            "1/1 - 0s - loss: 0.0990 - val_loss: 0.1385\n",
            "Epoch 80/1000\n",
            "1/1 - 0s - loss: 0.0982 - val_loss: 0.1449\n",
            "Epoch 81/1000\n",
            "1/1 - 0s - loss: 0.1014 - val_loss: 0.1397\n",
            "Epoch 82/1000\n",
            "1/1 - 0s - loss: 0.0993 - val_loss: 0.1398\n",
            "Epoch 83/1000\n",
            "1/1 - 0s - loss: 0.0997 - val_loss: 0.1444\n",
            "Epoch 84/1000\n",
            "1/1 - 0s - loss: 0.1011 - val_loss: 0.1392\n",
            "Epoch 85/1000\n",
            "1/1 - 0s - loss: 0.1003 - val_loss: 0.1404\n",
            "Epoch 86/1000\n",
            "1/1 - 0s - loss: 0.0985 - val_loss: 0.1408\n",
            "Epoch 87/1000\n",
            "1/1 - 0s - loss: 0.0985 - val_loss: 0.1370\n",
            "Epoch 88/1000\n",
            "1/1 - 0s - loss: 0.1001 - val_loss: 0.1435\n",
            "Epoch 89/1000\n",
            "1/1 - 0s - loss: 0.1011 - val_loss: 0.1351\n",
            "Epoch 90/1000\n",
            "1/1 - 0s - loss: 0.1005 - val_loss: 0.1389\n",
            "Epoch 91/1000\n",
            "1/1 - 0s - loss: 0.0977 - val_loss: 0.1341\n",
            "Epoch 92/1000\n",
            "1/1 - 0s - loss: 0.0957 - val_loss: 0.1331\n",
            "Epoch 93/1000\n",
            "1/1 - 0s - loss: 0.0952 - val_loss: 0.1365\n",
            "Epoch 94/1000\n",
            "1/1 - 0s - loss: 0.0965 - val_loss: 0.1308\n",
            "Epoch 95/1000\n",
            "1/1 - 0s - loss: 0.0996 - val_loss: 0.1490\n",
            "Epoch 96/1000\n",
            "1/1 - 0s - loss: 0.1082 - val_loss: 0.1445\n",
            "Epoch 97/1000\n",
            "1/1 - 0s - loss: 0.1314 - val_loss: 0.1582\n",
            "Epoch 98/1000\n",
            "1/1 - 0s - loss: 0.1198 - val_loss: 0.1344\n",
            "Epoch 99/1000\n",
            "1/1 - 0s - loss: 0.0956 - val_loss: 0.1421\n",
            "Epoch 100/1000\n",
            "1/1 - 0s - loss: 0.1273 - val_loss: 0.1413\n",
            "Epoch 101/1000\n",
            "1/1 - 0s - loss: 0.1007 - val_loss: 0.1545\n",
            "Epoch 102/1000\n",
            "1/1 - 0s - loss: 0.1152 - val_loss: 0.1322\n",
            "Epoch 103/1000\n",
            "1/1 - 0s - loss: 0.1078 - val_loss: 0.1298\n",
            "Epoch 104/1000\n",
            "1/1 - 0s - loss: 0.0995 - val_loss: 0.1474\n",
            "Epoch 105/1000\n",
            "1/1 - 0s - loss: 0.1065 - val_loss: 0.1353\n",
            "Epoch 106/1000\n",
            "1/1 - 0s - loss: 0.0962 - val_loss: 0.1325\n",
            "Epoch 107/1000\n",
            "1/1 - 0s - loss: 0.1074 - val_loss: 0.1315\n",
            "Epoch 108/1000\n",
            "1/1 - 0s - loss: 0.0944 - val_loss: 0.1454\n",
            "Epoch 109/1000\n",
            "1/1 - 0s - loss: 0.1042 - val_loss: 0.1340\n",
            "Epoch 110/1000\n",
            "1/1 - 0s - loss: 0.0955 - val_loss: 0.1319\n",
            "Epoch 111/1000\n",
            "1/1 - 0s - loss: 0.1042 - val_loss: 0.1323\n",
            "Epoch 112/1000\n",
            "1/1 - 0s - loss: 0.0949 - val_loss: 0.1433\n"
          ]
        },
        {
          "data": {
            "image/png": "[encoded data removed]",
            "text/plain": [
              "<Figure size 432x288 with 1 Axes>"
            ]
          },
          "metadata": {
            "needs_background": "light"
          },
          "output_type": "display_data"
        }
      ],
      "source": [
        "# design network\n",
        "model = Sequential()\n",
        "model.add(LSTM(50, return_sequences=True, input_shape=(train_X.shape[1], train_X.shape[2])))\n",
        "model.add(LSTM(50, return_sequences=True))\n",
        "model.add(LSTM(50, return_sequences=False))\n",
        "model.add(Dense(1))\n",
        "model.compile(loss='mae', optimizer='adam')\n",
        "# fit network\n",
        "early_stopping = EarlyStopping(patience=50, restore_best_weights = True)\n",
        "history = model.fit(train_X, train_y, epochs=1000, batch_size=700, validation_data=(test_X, test_y), verbose=2, shuffle=False, callbacks=early_stopping)\n",
        "# plot history\n",
        "pyplot.plot(history.history['loss'], label='train')\n",
        "pyplot.plot(history.history['val_loss'], label='test')\n",
        "pyplot.legend()\n",
        "pyplot.show()"
      ]
    },
    {
      "cell_type": "markdown",
      "metadata": {
        "id": "DetuxaYg7V9x"
      },
      "source": [
        "## Predictions "
      ]
    },
    {
      "cell_type": "code",
      "execution_count": 20,
      "metadata": {
        "id": "TUI-z2ULSR2T"
      },
      "outputs": [
        {
          "name": "stderr",
          "output_type": "stream",
          "text": [
            "2021-12-01 00:10:58.472789: I tensorflow/core/grappler/optimizers/custom_graph_optimizer_registry.cc:112] Plugin optimizer for device_type GPU is enabled.\n",
            "2021-12-01 00:10:58.523336: I tensorflow/core/grappler/optimizers/custom_graph_optimizer_registry.cc:112] Plugin optimizer for device_type GPU is enabled.\n",
            "2021-12-01 00:10:58.558419: I tensorflow/core/grappler/optimizers/custom_graph_optimizer_registry.cc:112] Plugin optimizer for device_type GPU is enabled.\n",
            "2021-12-01 00:10:58.607445: I tensorflow/core/grappler/optimizers/custom_graph_optimizer_registry.cc:112] Plugin optimizer for device_type GPU is enabled.\n"
          ]
        },
        {
          "name": "stdout",
          "output_type": "stream",
          "text": [
            "Test RMSE: 3.183\n"
          ]
        }
      ],
      "source": [
        "# make a prediction\n",
        "yhat = model.predict(test_X)\n",
        "test_X = test_X.reshape((test_X.shape[0], n_days*n_features))\n",
        "# invert scaling for forecast\n",
        "inv_yhat = concatenate((yhat, test_X[:, -6:]), axis=1)\n",
        "inv_yhat = scaler.inverse_transform(inv_yhat)\n",
        "inv_yhat = inv_yhat[:,0]\n",
        "# invert scaling for actual\n",
        "test_y = test_y.reshape((len(test_y), 1))\n",
        "inv_y = concatenate((test_y, test_X[:, -6:]), axis=1)\n",
        "inv_y = scaler.inverse_transform(inv_y)\n",
        "inv_y = inv_y[:,0]\n",
        "# calculate RMSE\n",
        "rmse = sqrt(mean_squared_error(inv_y, inv_yhat))\n",
        "print('Test RMSE: %.3f' % rmse)"
      ]
    },
    {
      "cell_type": "code",
      "execution_count": 21,
      "metadata": {
        "id": "YUBP-sQGNNzg"
      },
      "outputs": [
        {
          "name": "stdout",
          "output_type": "stream",
          "text": [
            "(365, 35) 365 (365,)\n",
            "(365, 5, 7) (365,) (568, 5, 7) (568,)\n"
          ]
        }
      ],
      "source": [
        "# make a prediction using 2020 (not used for training or validation, and has different dynamics due to covid)\n",
        "# adding back the data from 2020\n",
        "Moggio = table.loc[table.loc[:,\"NameStation\"]==\"Moggio\",:]\n",
        "Moggio = Moggio.loc[:,[\"Date\",\"Ammonia\",\"PM10\",\"PM25\",\"Wind_speed\",\"Wind_direction\",\"Temperature\",\"Rainfall\"]]\n",
        "Moggio = Moggio.dropna(how=\"any\")\n",
        "Moggio = Moggio.reset_index()\n",
        "#scaling and creating the new testing data\n",
        "values = Moggio.iloc[:,2:].values\n",
        "# ensure all data is float\n",
        "values = values.astype('float32')\n",
        "# normalize features\n",
        "scaler = MinMaxScaler(feature_range=(0, 1))\n",
        "scaled = scaler.fit_transform(values)\n",
        "# frame as supervised learning\n",
        "n_days = 5\n",
        "reframed = series_to_supervised(scaled, n_days, 1) # info of the past 5 days to determine next (1) day\n",
        "# drop columns we don't want to predict (we therefore keep Ammonia)\n",
        "reframed.drop(reframed.columns[[36,37,38,39,40,41]], axis=1, inplace=True)\n",
        "# split into train and test sets\n",
        "values = reframed.values\n",
        "n_features = 7 # number of variables, including the one to be predicted\n",
        "n_train_days = 365 # we train using only the first year\n",
        "train = values[:n_train_days, :]\n",
        "test = values[n_train_days:, :] # we test using all successive years \n",
        "# split into input and outputs\n",
        "n_obs = n_days * n_features\n",
        "train_X, train_y = train[:, :n_obs], train[:, -1]\n",
        "test_X, test_y = test[:, :n_obs], test[:, -1]\n",
        "print(train_X.shape, len(train_X), train_y.shape)\n",
        "# reshape input to be 3D [samples, timesteps, features]\n",
        "train_X = train_X.reshape((train_X.shape[0], n_days, n_features))\n",
        "test_X = test_X.reshape((test_X.shape[0], n_days, n_features))\n",
        "print(train_X.shape, train_y.shape, test_X.shape, test_y.shape)"
      ]
    },
    {
      "cell_type": "code",
      "execution_count": 22,
      "metadata": {
        "id": "QAiSyZq1L95c"
      },
      "outputs": [
        {
          "name": "stdout",
          "output_type": "stream",
          "text": [
            "Test RMSE: 2.867\n"
          ]
        }
      ],
      "source": [
        "# predicting: make a prediction using 2019 and 2020 (not used for training or validation, and has different dynamics due to covid)\n",
        "yhat = model.predict(test_X)\n",
        "test_X = test_X.reshape((test_X.shape[0], n_days*n_features))\n",
        "# invert scaling for forecast\n",
        "inv_yhat = concatenate((yhat, test_X[:, -6:]), axis=1)\n",
        "inv_yhat = scaler.inverse_transform(inv_yhat)\n",
        "inv_yhat = inv_yhat[:,0]\n",
        "# invert scaling for actual\n",
        "test_y = test_y.reshape((len(test_y), 1))\n",
        "inv_y = concatenate((test_y, test_X[:, -6:]), axis=1)\n",
        "inv_y = scaler.inverse_transform(inv_y)\n",
        "inv_y = inv_y[:,0]\n",
        "# calculate RMSE\n",
        "rmse = sqrt(mean_squared_error(inv_y, inv_yhat))\n",
        "print('Test RMSE: %.3f' % rmse)"
      ]
    },
    {
      "cell_type": "markdown",
      "metadata": {
        "id": "PhNcUjYz7Z5J"
      },
      "source": [
        "#### Prediciton plots"
      ]
    },
    {
      "cell_type": "code",
      "execution_count": 23,
      "metadata": {
        "id": "xgvSi2LHmWWP"
      },
      "outputs": [
        {
          "data": {
            "image/png": "[encoded data removed]",
            "text/plain": [
              "<Figure size 432x288 with 1 Axes>"
            ]
          },
          "metadata": {
            "needs_background": "light"
          },
          "output_type": "display_data"
        }
      ],
      "source": [
        "pyplot.plot(inv_yhat, label = 'Prediction')\n",
        "pyplot.plot(inv_y, label = 'Real')\n",
        "pyplot.legend()\n",
        "pyplot.show()"
      ]
    },
    {
      "cell_type": "markdown",
      "metadata": {
        "id": "3Q0ykqpFDURq"
      },
      "source": [
        "# Modeling with hyperparamenter search"
      ]
    },
    {
      "cell_type": "code",
      "execution_count": null,
      "metadata": {
        "colab": {
          "base_uri": "https://localhost:8080/"
        },
        "id": "mDxlDo3dDfWx",
        "outputId": "94b593f2-c26e-4891-a5a3-cd0354776182"
      },
      "outputs": [
        {
          "name": "stdout",
          "output_type": "stream",
          "text": [
            "\u001b[?25l\r\u001b[K     |███▍                            | 10 kB 24.6 MB/s eta 0:00:01\r\u001b[K     |██████▊                         | 20 kB 29.2 MB/s eta 0:00:01\r\u001b[K     |██████████                      | 30 kB 23.0 MB/s eta 0:00:01\r\u001b[K     |█████████████▍                  | 40 kB 18.3 MB/s eta 0:00:01\r\u001b[K     |████████████████▊               | 51 kB 15.2 MB/s eta 0:00:01\r\u001b[K     |████████████████████            | 61 kB 10.9 MB/s eta 0:00:01\r\u001b[K     |███████████████████████▍        | 71 kB 12.1 MB/s eta 0:00:01\r\u001b[K     |██████████████████████████▊     | 81 kB 13.2 MB/s eta 0:00:01\r\u001b[K     |██████████████████████████████  | 92 kB 12.4 MB/s eta 0:00:01\r\u001b[K     |████████████████████████████████| 98 kB 5.0 MB/s \n",
            "\u001b[?25h"
          ]
        }
      ],
      "source": [
        "!pip install -q -U keras-tuner"
      ]
    },
    {
      "cell_type": "code",
      "execution_count": null,
      "metadata": {
        "id": "a_ykkd6DDYms"
      },
      "outputs": [],
      "source": [
        "import tensorflow as tf\n",
        "from tensorflow import keras\n",
        "import keras_tuner as kt"
      ]
    },
    {
      "cell_type": "code",
      "execution_count": null,
      "metadata": {
        "colab": {
          "base_uri": "https://localhost:8080/"
        },
        "id": "KqJaEiI8OiX2",
        "outputId": "6361bc54-f906-4b6e-9f16-83c7d09e8b54"
      },
      "outputs": [
        {
          "data": {
            "text/plain": [
              "[PhysicalDevice(name='/physical_device:GPU:0', device_type='GPU')]"
            ]
          },
          "execution_count": 10,
          "metadata": {},
          "output_type": "execute_result"
        }
      ],
      "source": [
        "tf.config.list_physical_devices('GPU')"
      ]
    },
    {
      "cell_type": "code",
      "execution_count": null,
      "metadata": {
        "id": "YaRj2wPcDp6h"
      },
      "outputs": [],
      "source": [
        "def model_builder(hp):\n",
        "  # design network\n",
        "  hp_units = hp.Int('units', min_value=32, max_value=512, step=32)\n",
        "  model = Sequential()\n",
        "  model.add(LSTM(units = hp_units,return_sequences=True, input_shape=(train_X.shape[1], train_X.shape[2])))\n",
        "  for i in range(hp.Int('layers',1,3)):\n",
        "   model.add(LSTM(units = hp_units, return_sequences=True))\n",
        "  model.add(LSTM(units = hp_units, return_sequences=False))\n",
        "  model.add(Dense(1))\n",
        "  hp_learning_rate = hp.Choice('learning_rate', values=[1e-2, 1e-3, 1e-4])\n",
        "  model.compile(loss='mae', optimizer=keras.optimizers.Adam(learning_rate=hp_learning_rate))\n",
        "  return model"
      ]
    },
    {
      "cell_type": "code",
      "execution_count": null,
      "metadata": {
        "id": "_y8l3BlbLFn4"
      },
      "outputs": [],
      "source": [
        "def model_builder(hp):\n",
        "  # design network\n",
        "  hp_units = hp.Int('units', min_value=10, max_value=100, step=25)\n",
        "  model = Sequential()\n",
        "  model.add(LSTM(units = hp_units,return_sequences=True, input_shape=(train_X.shape[1], train_X.shape[2])))\n",
        "  for i in range(hp.Int('layers',0,1)):\n",
        "   model.add(LSTM(units = hp_units, return_sequences=True))\n",
        "  model.add(LSTM(units = hp_units, return_sequences=False))\n",
        "  model.add(Dense(1))\n",
        "  hp_learning_rate = hp.Choice('learning_rate', values=[1e-2, 1e-3, 1e-4])\n",
        "  model.compile(loss='mae', optimizer=keras.optimizers.Adam(learning_rate=hp_learning_rate))\n",
        "  return model"
      ]
    },
    {
      "cell_type": "code",
      "execution_count": null,
      "metadata": {
        "colab": {
          "base_uri": "https://localhost:8080/"
        },
        "id": "ZHv2TK6MGMF1",
        "outputId": "7990799b-c231-46de-92c1-f2aa85b3b3b4"
      },
      "outputs": [
        {
          "name": "stdout",
          "output_type": "stream",
          "text": [
            "Search space summary\n",
            "Default search space size: 3\n",
            "units (Int)\n",
            "{'default': None, 'conditions': [], 'min_value': 10, 'max_value': 100, 'step': 25, 'sampling': None}\n",
            "layers (Int)\n",
            "{'default': None, 'conditions': [], 'min_value': 0, 'max_value': 1, 'step': 1, 'sampling': None}\n",
            "learning_rate (Choice)\n",
            "{'default': 0.01, 'conditions': [], 'values': [0.01, 0.001, 0.0001], 'ordered': True}\n"
          ]
        }
      ],
      "source": [
        "tuner = kt.RandomSearch(\n",
        "    model_builder,\n",
        "    objective='val_loss',\n",
        "    max_trials=10,\n",
        "    executions_per_trial =3,\n",
        "    directory = 'dir',\n",
        "    project_name = 'namee')\n",
        "tuner.search_space_summary()"
      ]
    },
    {
      "cell_type": "code",
      "execution_count": null,
      "metadata": {
        "colab": {
          "base_uri": "https://localhost:8080/"
        },
        "id": "M-Jjf4glG9h4",
        "outputId": "d747d4a8-e1f9-4780-cb6f-ba7c4c8058fc"
      },
      "outputs": [
        {
          "name": "stdout",
          "output_type": "stream",
          "text": [
            "Trial 11 Complete [00h 01m 12s]\n",
            "val_loss: 0.0934639647603035\n",
            "\n",
            "Best val_loss So Far: 0.05329474558432897\n",
            "Total elapsed time: 00h 09m 48s\n",
            "INFO:tensorflow:Oracle triggered exit\n"
          ]
        }
      ],
      "source": [
        "early_stopping = EarlyStopping(monitor='val_loss',patience=10)\n",
        "tuner.search(train_X, train_y, epochs=100, batch_size=100, validation_data=(test_X, test_y),shuffle=False, callbacks=[early_stopping])"
      ]
    },
    {
      "cell_type": "code",
      "execution_count": null,
      "metadata": {
        "colab": {
          "base_uri": "https://localhost:8080/"
        },
        "id": "gVo9l3foLH15",
        "outputId": "8a5fda3d-96f4-41af-d516-6f30c1c5b5d6"
      },
      "outputs": [
        {
          "name": "stdout",
          "output_type": "stream",
          "text": [
            "Results summary\n",
            "Results in dir/namee\n",
            "Showing 10 best trials\n",
            "Objective(name='val_loss', direction='min')\n",
            "Trial summary\n",
            "Hyperparameters:\n",
            "units: 85\n",
            "layers: 0\n",
            "learning_rate: 0.001\n",
            "Score: 0.05329474558432897\n",
            "Trial summary\n",
            "Hyperparameters:\n",
            "units: 60\n",
            "layers: 0\n",
            "learning_rate: 0.001\n",
            "Score: 0.05329849198460579\n",
            "Trial summary\n",
            "Hyperparameters:\n",
            "units: 85\n",
            "layers: 0\n",
            "learning_rate: 0.01\n",
            "Score: 0.056007577727238335\n",
            "Trial summary\n",
            "Hyperparameters:\n",
            "units: 60\n",
            "layers: 1\n",
            "learning_rate: 0.001\n",
            "Score: 0.057568988452355065\n",
            "Trial summary\n",
            "Hyperparameters:\n",
            "units: 35\n",
            "layers: 0\n",
            "learning_rate: 0.001\n",
            "Score: 0.05804020414749781\n",
            "Trial summary\n",
            "Hyperparameters:\n",
            "units: 10\n",
            "layers: 1\n",
            "learning_rate: 0.001\n",
            "Score: 0.08332389841477077\n",
            "Trial summary\n",
            "Hyperparameters:\n",
            "units: 60\n",
            "layers: 0\n",
            "learning_rate: 0.0001\n",
            "Score: 0.08504390716552734\n",
            "Trial summary\n",
            "Hyperparameters:\n",
            "units: 85\n",
            "layers: 1\n",
            "learning_rate: 0.0001\n",
            "Score: 0.09046338746945064\n",
            "Trial summary\n",
            "Hyperparameters:\n",
            "units: 60\n",
            "layers: 1\n",
            "learning_rate: 0.0001\n",
            "Score: 0.0934639647603035\n",
            "Trial summary\n",
            "Hyperparameters:\n",
            "units: 35\n",
            "layers: 1\n",
            "learning_rate: 0.0001\n",
            "Score: 0.11205451438824336\n"
          ]
        }
      ],
      "source": [
        "tuner.results_summary()"
      ]
    },
    {
      "cell_type": "markdown",
      "metadata": {
        "id": "nm9281SoM7Hy"
      },
      "source": [
        "### Hyperband"
      ]
    },
    {
      "cell_type": "code",
      "execution_count": null,
      "metadata": {
        "id": "0IMZiMT1KAO6"
      },
      "outputs": [],
      "source": [
        "tuner = kt.Hyperband(model_builder,\n",
        "                     objective='val_loss',\n",
        "                     max_epochs=10,\n",
        "                     factor=3,\n",
        "                     directory='my_dir',\n",
        "                     project_name='intro_to_kt')"
      ]
    },
    {
      "cell_type": "code",
      "execution_count": null,
      "metadata": {
        "id": "n6r3Ft2PIahk"
      },
      "outputs": [],
      "source": [
        "tuner.search(train_X, train_y, epochs=1000, batch_size=72, validation_data=(test_X, test_y),shuffle=False, callbacks=[early_stopping])"
      ]
    }
  ],
  "metadata": {
    "accelerator": "GPU",
    "colab": {
      "authorship_tag": "ABX9TyPLPPnDhnRWcxdB40oTW8sU",
      "collapsed_sections": [],
      "mount_file_id": "1G1XQ0AF3Op-XuV9ZPCqSfsfxxBliytIq",
      "name": "Test Moggio RNN.ipynb",
      "provenance": []
    },
    "kernelspec": {
      "display_name": "Python 3",
      "name": "python3"
    },
    "language_info": {
      "codemirror_mode": {
        "name": "ipython",
        "version": 3
      },
      "file_extension": ".py",
      "mimetype": "text/x-python",
      "name": "python",
      "nbconvert_exporter": "python",
      "pygments_lexer": "ipython3",
      "version": "3.9.7"
    }
  },
  "nbformat": 4,
  "nbformat_minor": 0
}
